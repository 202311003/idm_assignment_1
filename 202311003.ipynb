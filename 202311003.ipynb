{
  "nbformat": 4,
  "nbformat_minor": 0,
  "metadata": {
    "colab": {
      "provenance": [],
      "gpuType": "T4",
      "authorship_tag": "ABX9TyP5aYBX4qfTk6ObSOIqYNfz",
      "include_colab_link": true
    },
    "kernelspec": {
      "name": "python3",
      "display_name": "Python 3"
    },
    "language_info": {
      "name": "python"
    },
    "accelerator": "GPU"
  },
  "cells": [
    {
      "cell_type": "markdown",
      "metadata": {
        "id": "view-in-github",
        "colab_type": "text"
      },
      "source": [
        "<a href=\"https://colab.research.google.com/github/202311003/idm_assignment_1/blob/202311003/202311003.ipynb\" target=\"_parent\"><img src=\"https://colab.research.google.com/assets/colab-badge.svg\" alt=\"Open In Colab\"/></a>"
      ]
    },
    {
      "cell_type": "markdown",
      "source": [
        "#Import Dataset"
      ],
      "metadata": {
        "id": "Ct_HhWhkexvj"
      }
    },
    {
      "cell_type": "code",
      "execution_count": 5,
      "metadata": {
        "id": "pD0iptOaEeq5",
        "colab": {
          "base_uri": "https://localhost:8080/",
          "height": 0
        },
        "outputId": "41813421-86bf-440f-818a-fdf7ba9ffd3d"
      },
      "outputs": [
        {
          "output_type": "stream",
          "name": "stdout",
          "text": [
            "mkdir: cannot create directory ‘data’: File exists\n"
          ]
        }
      ],
      "source": [
        "!mkdir data"
      ]
    },
    {
      "cell_type": "code",
      "source": [
        "!unzip data/archive.zip -d data/"
      ],
      "metadata": {
        "colab": {
          "base_uri": "https://localhost:8080/",
          "height": 0
        },
        "id": "xZv8ghAcdNim",
        "outputId": "9974687f-aa69-4b4e-e90f-ec926d6c1a60"
      },
      "execution_count": 6,
      "outputs": [
        {
          "output_type": "stream",
          "name": "stdout",
          "text": [
            "Archive:  data/archive.zip\n",
            "replace data/the weather of 155 countries in 2020.csv? [y]es, [n]o, [A]ll, [N]one, [r]ename: N\n"
          ]
        }
      ]
    },
    {
      "cell_type": "markdown",
      "source": [
        "#Importing library"
      ],
      "metadata": {
        "id": "xdkM6B3Me4k8"
      }
    },
    {
      "cell_type": "code",
      "source": [
        "import math\n",
        "import numpy as np\n",
        "import pandas as pd\n",
        "\n",
        "import matplotlib.pyplot as plt\n",
        "import seaborn as sns"
      ],
      "metadata": {
        "id": "m1ig5rsE1s0U"
      },
      "execution_count": 7,
      "outputs": []
    },
    {
      "cell_type": "markdown",
      "source": [
        "#EDA"
      ],
      "metadata": {
        "id": "cGdxknWhfVBr"
      }
    },
    {
      "cell_type": "code",
      "source": [
        "df = pd.read_csv('data/the weather of 155 countries in 2020.csv')\n",
        "df.head()"
      ],
      "metadata": {
        "colab": {
          "base_uri": "https://localhost:8080/",
          "height": 377
        },
        "id": "vYSzXzQU10af",
        "outputId": "4ece5a84-6910-47bb-bc20-85dfad0c741c"
      },
      "execution_count": 8,
      "outputs": [
        {
          "output_type": "stream",
          "name": "stderr",
          "text": [
            "<ipython-input-8-4a0b852c579a>:1: DtypeWarning: Columns (15,16,17,18,22) have mixed types. Specify dtype option on import or set low_memory=False.\n",
            "  df = pd.read_csv('data/the weather of 155 countries in 2020.csv')\n"
          ]
        },
        {
          "output_type": "execute_result",
          "data": {
            "text/plain": [
              "       STATION Country/Region        DATE  Year  Month  Day  PRCP  SNWD  TAVG  \\\n",
              "0  TZ000063894        Comoros  2020-01-22  2020      1   22  10.9   NaN  27.6   \n",
              "1  TZ000063894        Comoros  2020-01-23  2020      1   23   0.0   NaN  26.7   \n",
              "2  TZ000063894        Comoros  2020-01-24  2020      1   24   9.4   NaN  27.9   \n",
              "3  TZ000063894        Comoros  2020-01-25  2020      1   25   0.3   NaN  27.9   \n",
              "4  TZ000063894        Comoros  2020-01-26  2020      1   26   0.0   NaN  28.2   \n",
              "\n",
              "   TMAX  ...  LONGITUDE  ELEVATION  PRCP_ATTRIBUTES  TAVG_ATTRIBUTES  \\\n",
              "0  30.2  ...        NaN        NaN              NaN              NaN   \n",
              "1   NaN  ...        NaN        NaN              NaN              NaN   \n",
              "2  30.6  ...        NaN        NaN              NaN              NaN   \n",
              "3  30.2  ...        NaN        NaN              NaN              NaN   \n",
              "4  31.5  ...        NaN        NaN              NaN              NaN   \n",
              "\n",
              "   TMAX_ATTRIBUTES TMIN_ATTRIBUTES DAPR MDPR WESD  SNWD_ATTRIBUTES  \n",
              "0              NaN             NaN  NaN  NaN  NaN              NaN  \n",
              "1              NaN             NaN  NaN  NaN  NaN              NaN  \n",
              "2              NaN             NaN  NaN  NaN  NaN              NaN  \n",
              "3              NaN             NaN  NaN  NaN  NaN              NaN  \n",
              "4              NaN             NaN  NaN  NaN  NaN              NaN  \n",
              "\n",
              "[5 rows x 23 columns]"
            ],
            "text/html": [
              "\n",
              "  <div id=\"df-91b40067-b2eb-4dcd-920e-ec6784aa9ed9\" class=\"colab-df-container\">\n",
              "    <div>\n",
              "<style scoped>\n",
              "    .dataframe tbody tr th:only-of-type {\n",
              "        vertical-align: middle;\n",
              "    }\n",
              "\n",
              "    .dataframe tbody tr th {\n",
              "        vertical-align: top;\n",
              "    }\n",
              "\n",
              "    .dataframe thead th {\n",
              "        text-align: right;\n",
              "    }\n",
              "</style>\n",
              "<table border=\"1\" class=\"dataframe\">\n",
              "  <thead>\n",
              "    <tr style=\"text-align: right;\">\n",
              "      <th></th>\n",
              "      <th>STATION</th>\n",
              "      <th>Country/Region</th>\n",
              "      <th>DATE</th>\n",
              "      <th>Year</th>\n",
              "      <th>Month</th>\n",
              "      <th>Day</th>\n",
              "      <th>PRCP</th>\n",
              "      <th>SNWD</th>\n",
              "      <th>TAVG</th>\n",
              "      <th>TMAX</th>\n",
              "      <th>...</th>\n",
              "      <th>LONGITUDE</th>\n",
              "      <th>ELEVATION</th>\n",
              "      <th>PRCP_ATTRIBUTES</th>\n",
              "      <th>TAVG_ATTRIBUTES</th>\n",
              "      <th>TMAX_ATTRIBUTES</th>\n",
              "      <th>TMIN_ATTRIBUTES</th>\n",
              "      <th>DAPR</th>\n",
              "      <th>MDPR</th>\n",
              "      <th>WESD</th>\n",
              "      <th>SNWD_ATTRIBUTES</th>\n",
              "    </tr>\n",
              "  </thead>\n",
              "  <tbody>\n",
              "    <tr>\n",
              "      <th>0</th>\n",
              "      <td>TZ000063894</td>\n",
              "      <td>Comoros</td>\n",
              "      <td>2020-01-22</td>\n",
              "      <td>2020</td>\n",
              "      <td>1</td>\n",
              "      <td>22</td>\n",
              "      <td>10.9</td>\n",
              "      <td>NaN</td>\n",
              "      <td>27.6</td>\n",
              "      <td>30.2</td>\n",
              "      <td>...</td>\n",
              "      <td>NaN</td>\n",
              "      <td>NaN</td>\n",
              "      <td>NaN</td>\n",
              "      <td>NaN</td>\n",
              "      <td>NaN</td>\n",
              "      <td>NaN</td>\n",
              "      <td>NaN</td>\n",
              "      <td>NaN</td>\n",
              "      <td>NaN</td>\n",
              "      <td>NaN</td>\n",
              "    </tr>\n",
              "    <tr>\n",
              "      <th>1</th>\n",
              "      <td>TZ000063894</td>\n",
              "      <td>Comoros</td>\n",
              "      <td>2020-01-23</td>\n",
              "      <td>2020</td>\n",
              "      <td>1</td>\n",
              "      <td>23</td>\n",
              "      <td>0.0</td>\n",
              "      <td>NaN</td>\n",
              "      <td>26.7</td>\n",
              "      <td>NaN</td>\n",
              "      <td>...</td>\n",
              "      <td>NaN</td>\n",
              "      <td>NaN</td>\n",
              "      <td>NaN</td>\n",
              "      <td>NaN</td>\n",
              "      <td>NaN</td>\n",
              "      <td>NaN</td>\n",
              "      <td>NaN</td>\n",
              "      <td>NaN</td>\n",
              "      <td>NaN</td>\n",
              "      <td>NaN</td>\n",
              "    </tr>\n",
              "    <tr>\n",
              "      <th>2</th>\n",
              "      <td>TZ000063894</td>\n",
              "      <td>Comoros</td>\n",
              "      <td>2020-01-24</td>\n",
              "      <td>2020</td>\n",
              "      <td>1</td>\n",
              "      <td>24</td>\n",
              "      <td>9.4</td>\n",
              "      <td>NaN</td>\n",
              "      <td>27.9</td>\n",
              "      <td>30.6</td>\n",
              "      <td>...</td>\n",
              "      <td>NaN</td>\n",
              "      <td>NaN</td>\n",
              "      <td>NaN</td>\n",
              "      <td>NaN</td>\n",
              "      <td>NaN</td>\n",
              "      <td>NaN</td>\n",
              "      <td>NaN</td>\n",
              "      <td>NaN</td>\n",
              "      <td>NaN</td>\n",
              "      <td>NaN</td>\n",
              "    </tr>\n",
              "    <tr>\n",
              "      <th>3</th>\n",
              "      <td>TZ000063894</td>\n",
              "      <td>Comoros</td>\n",
              "      <td>2020-01-25</td>\n",
              "      <td>2020</td>\n",
              "      <td>1</td>\n",
              "      <td>25</td>\n",
              "      <td>0.3</td>\n",
              "      <td>NaN</td>\n",
              "      <td>27.9</td>\n",
              "      <td>30.2</td>\n",
              "      <td>...</td>\n",
              "      <td>NaN</td>\n",
              "      <td>NaN</td>\n",
              "      <td>NaN</td>\n",
              "      <td>NaN</td>\n",
              "      <td>NaN</td>\n",
              "      <td>NaN</td>\n",
              "      <td>NaN</td>\n",
              "      <td>NaN</td>\n",
              "      <td>NaN</td>\n",
              "      <td>NaN</td>\n",
              "    </tr>\n",
              "    <tr>\n",
              "      <th>4</th>\n",
              "      <td>TZ000063894</td>\n",
              "      <td>Comoros</td>\n",
              "      <td>2020-01-26</td>\n",
              "      <td>2020</td>\n",
              "      <td>1</td>\n",
              "      <td>26</td>\n",
              "      <td>0.0</td>\n",
              "      <td>NaN</td>\n",
              "      <td>28.2</td>\n",
              "      <td>31.5</td>\n",
              "      <td>...</td>\n",
              "      <td>NaN</td>\n",
              "      <td>NaN</td>\n",
              "      <td>NaN</td>\n",
              "      <td>NaN</td>\n",
              "      <td>NaN</td>\n",
              "      <td>NaN</td>\n",
              "      <td>NaN</td>\n",
              "      <td>NaN</td>\n",
              "      <td>NaN</td>\n",
              "      <td>NaN</td>\n",
              "    </tr>\n",
              "  </tbody>\n",
              "</table>\n",
              "<p>5 rows × 23 columns</p>\n",
              "</div>\n",
              "    <div class=\"colab-df-buttons\">\n",
              "\n",
              "  <div class=\"colab-df-container\">\n",
              "    <button class=\"colab-df-convert\" onclick=\"convertToInteractive('df-91b40067-b2eb-4dcd-920e-ec6784aa9ed9')\"\n",
              "            title=\"Convert this dataframe to an interactive table.\"\n",
              "            style=\"display:none;\">\n",
              "\n",
              "  <svg xmlns=\"http://www.w3.org/2000/svg\" height=\"24px\" viewBox=\"0 -960 960 960\">\n",
              "    <path d=\"M120-120v-720h720v720H120Zm60-500h600v-160H180v160Zm220 220h160v-160H400v160Zm0 220h160v-160H400v160ZM180-400h160v-160H180v160Zm440 0h160v-160H620v160ZM180-180h160v-160H180v160Zm440 0h160v-160H620v160Z\"/>\n",
              "  </svg>\n",
              "    </button>\n",
              "\n",
              "  <style>\n",
              "    .colab-df-container {\n",
              "      display:flex;\n",
              "      gap: 12px;\n",
              "    }\n",
              "\n",
              "    .colab-df-convert {\n",
              "      background-color: #E8F0FE;\n",
              "      border: none;\n",
              "      border-radius: 50%;\n",
              "      cursor: pointer;\n",
              "      display: none;\n",
              "      fill: #1967D2;\n",
              "      height: 32px;\n",
              "      padding: 0 0 0 0;\n",
              "      width: 32px;\n",
              "    }\n",
              "\n",
              "    .colab-df-convert:hover {\n",
              "      background-color: #E2EBFA;\n",
              "      box-shadow: 0px 1px 2px rgba(60, 64, 67, 0.3), 0px 1px 3px 1px rgba(60, 64, 67, 0.15);\n",
              "      fill: #174EA6;\n",
              "    }\n",
              "\n",
              "    .colab-df-buttons div {\n",
              "      margin-bottom: 4px;\n",
              "    }\n",
              "\n",
              "    [theme=dark] .colab-df-convert {\n",
              "      background-color: #3B4455;\n",
              "      fill: #D2E3FC;\n",
              "    }\n",
              "\n",
              "    [theme=dark] .colab-df-convert:hover {\n",
              "      background-color: #434B5C;\n",
              "      box-shadow: 0px 1px 3px 1px rgba(0, 0, 0, 0.15);\n",
              "      filter: drop-shadow(0px 1px 2px rgba(0, 0, 0, 0.3));\n",
              "      fill: #FFFFFF;\n",
              "    }\n",
              "  </style>\n",
              "\n",
              "    <script>\n",
              "      const buttonEl =\n",
              "        document.querySelector('#df-91b40067-b2eb-4dcd-920e-ec6784aa9ed9 button.colab-df-convert');\n",
              "      buttonEl.style.display =\n",
              "        google.colab.kernel.accessAllowed ? 'block' : 'none';\n",
              "\n",
              "      async function convertToInteractive(key) {\n",
              "        const element = document.querySelector('#df-91b40067-b2eb-4dcd-920e-ec6784aa9ed9');\n",
              "        const dataTable =\n",
              "          await google.colab.kernel.invokeFunction('convertToInteractive',\n",
              "                                                    [key], {});\n",
              "        if (!dataTable) return;\n",
              "\n",
              "        const docLinkHtml = 'Like what you see? Visit the ' +\n",
              "          '<a target=\"_blank\" href=https://colab.research.google.com/notebooks/data_table.ipynb>data table notebook</a>'\n",
              "          + ' to learn more about interactive tables.';\n",
              "        element.innerHTML = '';\n",
              "        dataTable['output_type'] = 'display_data';\n",
              "        await google.colab.output.renderOutput(dataTable, element);\n",
              "        const docLink = document.createElement('div');\n",
              "        docLink.innerHTML = docLinkHtml;\n",
              "        element.appendChild(docLink);\n",
              "      }\n",
              "    </script>\n",
              "  </div>\n",
              "\n",
              "\n",
              "<div id=\"df-d4ccf0b6-0b6c-4fc3-9f99-276f07546265\">\n",
              "  <button class=\"colab-df-quickchart\" onclick=\"quickchart('df-d4ccf0b6-0b6c-4fc3-9f99-276f07546265')\"\n",
              "            title=\"Suggest charts.\"\n",
              "            style=\"display:none;\">\n",
              "\n",
              "<svg xmlns=\"http://www.w3.org/2000/svg\" height=\"24px\"viewBox=\"0 0 24 24\"\n",
              "     width=\"24px\">\n",
              "    <g>\n",
              "        <path d=\"M19 3H5c-1.1 0-2 .9-2 2v14c0 1.1.9 2 2 2h14c1.1 0 2-.9 2-2V5c0-1.1-.9-2-2-2zM9 17H7v-7h2v7zm4 0h-2V7h2v10zm4 0h-2v-4h2v4z\"/>\n",
              "    </g>\n",
              "</svg>\n",
              "  </button>\n",
              "\n",
              "<style>\n",
              "  .colab-df-quickchart {\n",
              "      --bg-color: #E8F0FE;\n",
              "      --fill-color: #1967D2;\n",
              "      --hover-bg-color: #E2EBFA;\n",
              "      --hover-fill-color: #174EA6;\n",
              "      --disabled-fill-color: #AAA;\n",
              "      --disabled-bg-color: #DDD;\n",
              "  }\n",
              "\n",
              "  [theme=dark] .colab-df-quickchart {\n",
              "      --bg-color: #3B4455;\n",
              "      --fill-color: #D2E3FC;\n",
              "      --hover-bg-color: #434B5C;\n",
              "      --hover-fill-color: #FFFFFF;\n",
              "      --disabled-bg-color: #3B4455;\n",
              "      --disabled-fill-color: #666;\n",
              "  }\n",
              "\n",
              "  .colab-df-quickchart {\n",
              "    background-color: var(--bg-color);\n",
              "    border: none;\n",
              "    border-radius: 50%;\n",
              "    cursor: pointer;\n",
              "    display: none;\n",
              "    fill: var(--fill-color);\n",
              "    height: 32px;\n",
              "    padding: 0;\n",
              "    width: 32px;\n",
              "  }\n",
              "\n",
              "  .colab-df-quickchart:hover {\n",
              "    background-color: var(--hover-bg-color);\n",
              "    box-shadow: 0 1px 2px rgba(60, 64, 67, 0.3), 0 1px 3px 1px rgba(60, 64, 67, 0.15);\n",
              "    fill: var(--button-hover-fill-color);\n",
              "  }\n",
              "\n",
              "  .colab-df-quickchart-complete:disabled,\n",
              "  .colab-df-quickchart-complete:disabled:hover {\n",
              "    background-color: var(--disabled-bg-color);\n",
              "    fill: var(--disabled-fill-color);\n",
              "    box-shadow: none;\n",
              "  }\n",
              "\n",
              "  .colab-df-spinner {\n",
              "    border: 2px solid var(--fill-color);\n",
              "    border-color: transparent;\n",
              "    border-bottom-color: var(--fill-color);\n",
              "    animation:\n",
              "      spin 1s steps(1) infinite;\n",
              "  }\n",
              "\n",
              "  @keyframes spin {\n",
              "    0% {\n",
              "      border-color: transparent;\n",
              "      border-bottom-color: var(--fill-color);\n",
              "      border-left-color: var(--fill-color);\n",
              "    }\n",
              "    20% {\n",
              "      border-color: transparent;\n",
              "      border-left-color: var(--fill-color);\n",
              "      border-top-color: var(--fill-color);\n",
              "    }\n",
              "    30% {\n",
              "      border-color: transparent;\n",
              "      border-left-color: var(--fill-color);\n",
              "      border-top-color: var(--fill-color);\n",
              "      border-right-color: var(--fill-color);\n",
              "    }\n",
              "    40% {\n",
              "      border-color: transparent;\n",
              "      border-right-color: var(--fill-color);\n",
              "      border-top-color: var(--fill-color);\n",
              "    }\n",
              "    60% {\n",
              "      border-color: transparent;\n",
              "      border-right-color: var(--fill-color);\n",
              "    }\n",
              "    80% {\n",
              "      border-color: transparent;\n",
              "      border-right-color: var(--fill-color);\n",
              "      border-bottom-color: var(--fill-color);\n",
              "    }\n",
              "    90% {\n",
              "      border-color: transparent;\n",
              "      border-bottom-color: var(--fill-color);\n",
              "    }\n",
              "  }\n",
              "</style>\n",
              "\n",
              "  <script>\n",
              "    async function quickchart(key) {\n",
              "      const quickchartButtonEl =\n",
              "        document.querySelector('#' + key + ' button');\n",
              "      quickchartButtonEl.disabled = true;  // To prevent multiple clicks.\n",
              "      quickchartButtonEl.classList.add('colab-df-spinner');\n",
              "      try {\n",
              "        const charts = await google.colab.kernel.invokeFunction(\n",
              "            'suggestCharts', [key], {});\n",
              "      } catch (error) {\n",
              "        console.error('Error during call to suggestCharts:', error);\n",
              "      }\n",
              "      quickchartButtonEl.classList.remove('colab-df-spinner');\n",
              "      quickchartButtonEl.classList.add('colab-df-quickchart-complete');\n",
              "    }\n",
              "    (() => {\n",
              "      let quickchartButtonEl =\n",
              "        document.querySelector('#df-d4ccf0b6-0b6c-4fc3-9f99-276f07546265 button');\n",
              "      quickchartButtonEl.style.display =\n",
              "        google.colab.kernel.accessAllowed ? 'block' : 'none';\n",
              "    })();\n",
              "  </script>\n",
              "</div>\n",
              "    </div>\n",
              "  </div>\n"
            ]
          },
          "metadata": {},
          "execution_count": 8
        }
      ]
    },
    {
      "cell_type": "code",
      "source": [
        "df.info()"
      ],
      "metadata": {
        "colab": {
          "base_uri": "https://localhost:8080/",
          "height": 0
        },
        "id": "gCVlgkUBflD0",
        "outputId": "cce7962c-a137-49b4-9aa2-d9166c1d11bb"
      },
      "execution_count": 34,
      "outputs": [
        {
          "output_type": "stream",
          "name": "stdout",
          "text": [
            "<class 'pandas.core.frame.DataFrame'>\n",
            "RangeIndex: 1026119 entries, 0 to 1026118\n",
            "Data columns (total 23 columns):\n",
            " #   Column           Non-Null Count    Dtype  \n",
            "---  ------           --------------    -----  \n",
            " 0   STATION          1026119 non-null  object \n",
            " 1   Country/Region   1026119 non-null  object \n",
            " 2   DATE             1026119 non-null  object \n",
            " 3   Year             1026119 non-null  int64  \n",
            " 4   Month            1026119 non-null  int64  \n",
            " 5   Day              1026119 non-null  int64  \n",
            " 6   PRCP             718382 non-null   float64\n",
            " 7   SNWD             214350 non-null   float64\n",
            " 8   TAVG             789773 non-null   float64\n",
            " 9   TMAX             652635 non-null   float64\n",
            " 10  TMIN             680160 non-null   float64\n",
            " 11  SNOW             103991 non-null   float64\n",
            " 12  LATITUDE         102307 non-null   float64\n",
            " 13  LONGITUDE        102307 non-null   float64\n",
            " 14  ELEVATION        102307 non-null   float64\n",
            " 15  PRCP_ATTRIBUTES  6007 non-null     object \n",
            " 16  TAVG_ATTRIBUTES  3850 non-null     object \n",
            " 17  TMAX_ATTRIBUTES  5637 non-null     object \n",
            " 18  TMIN_ATTRIBUTES  5874 non-null     object \n",
            " 19  DAPR             1263 non-null     float64\n",
            " 20  MDPR             81 non-null       float64\n",
            " 21  WESD             2 non-null        float64\n",
            " 22  SNWD_ATTRIBUTES  354 non-null      object \n",
            "dtypes: float64(12), int64(3), object(8)\n",
            "memory usage: 180.1+ MB\n"
          ]
        },
        {
          "output_type": "execute_result",
          "data": {
            "text/plain": [
              "(1026119, 23)"
            ]
          },
          "metadata": {},
          "execution_count": 34
        }
      ]
    },
    {
      "cell_type": "code",
      "source": [
        "df.shape"
      ],
      "metadata": {
        "colab": {
          "base_uri": "https://localhost:8080/",
          "height": 0
        },
        "id": "4-pbI4Qcf2qo",
        "outputId": "f5df4b42-5165-4423-ce98-ade2a7f49b1d"
      },
      "execution_count": 35,
      "outputs": [
        {
          "output_type": "execute_result",
          "data": {
            "text/plain": [
              "(1026119, 23)"
            ]
          },
          "metadata": {},
          "execution_count": 35
        }
      ]
    },
    {
      "cell_type": "code",
      "source": [
        "df.isnull().sum()"
      ],
      "metadata": {
        "colab": {
          "base_uri": "https://localhost:8080/",
          "height": 0
        },
        "id": "eJniWSRk2Wzo",
        "outputId": "44f9d410-d454-409c-cfe8-c75e6a1f6517"
      },
      "execution_count": 9,
      "outputs": [
        {
          "output_type": "execute_result",
          "data": {
            "text/plain": [
              "STATION                  0\n",
              "Country/Region           0\n",
              "DATE                     0\n",
              "Year                     0\n",
              "Month                    0\n",
              "Day                      0\n",
              "PRCP                307737\n",
              "SNWD                811769\n",
              "TAVG                236346\n",
              "TMAX                373484\n",
              "TMIN                345959\n",
              "SNOW                922128\n",
              "LATITUDE            923812\n",
              "LONGITUDE           923812\n",
              "ELEVATION           923812\n",
              "PRCP_ATTRIBUTES    1020112\n",
              "TAVG_ATTRIBUTES    1022269\n",
              "TMAX_ATTRIBUTES    1020482\n",
              "TMIN_ATTRIBUTES    1020245\n",
              "DAPR               1024856\n",
              "MDPR               1026038\n",
              "WESD               1026117\n",
              "SNWD_ATTRIBUTES    1025765\n",
              "dtype: int64"
            ]
          },
          "metadata": {},
          "execution_count": 9
        }
      ]
    },
    {
      "cell_type": "markdown",
      "source": [
        "Certain columns like precipitation (PRCP), snow depth (SNWD), temperature averages (TAVG), maximum temperature (TMAX), and minimum temperature (TMIN) exhibit missing values. Additionally, attributes related to these parameters are also recorded, with occasional missing data."
      ],
      "metadata": {
        "id": "SHG-N5kKgTHR"
      }
    },
    {
      "cell_type": "code",
      "source": [
        "weather_df = df.drop(['Year','PRCP_ATTRIBUTES', 'TAVG_ATTRIBUTES', 'TMAX_ATTRIBUTES',\n",
        "                        'TMIN_ATTRIBUTES', 'DAPR', 'MDPR', 'WESD', 'SNWD_ATTRIBUTES'], axis=1)\n",
        "country_count = df['Country/Region'].unique()\n",
        "station_count = df['STATION'].unique()\n",
        "print(len(country_count))\n",
        "print(len(station_count))"
      ],
      "metadata": {
        "id": "tco_ozVd3BqH",
        "colab": {
          "base_uri": "https://localhost:8080/",
          "height": 0
        },
        "outputId": "4bd2c2bc-6a8d-4a64-8c78-da309b0033f0"
      },
      "execution_count": 10,
      "outputs": [
        {
          "output_type": "stream",
          "name": "stdout",
          "text": [
            "155\n",
            "5152\n"
          ]
        }
      ]
    },
    {
      "cell_type": "markdown",
      "source": [
        "Showing number of unique countries and stations count, and removing few columns which was almost empty."
      ],
      "metadata": {
        "id": "3X5sUeMygYth"
      }
    },
    {
      "cell_type": "markdown",
      "source": [
        "#Data preprocessing and transformation and Finding Correlation after filling empty data"
      ],
      "metadata": {
        "id": "xpnhTLO4j2Tx"
      }
    },
    {
      "cell_type": "markdown",
      "source": [],
      "metadata": {
        "id": "3KpFxDQsj2RZ"
      }
    },
    {
      "cell_type": "code",
      "source": [
        "import statistics  # Import the statistics module to calculate the mode\n",
        "from sklearn.preprocessing import LabelEncoder\n",
        "\n",
        "weather_df_copy = weather_df.copy()\n",
        "\n",
        "##### ENCODING DATA #####\n",
        "countries = weather_df_copy['Country/Region']\n",
        "stations = weather_df_copy['STATION']\n",
        "label_encoder = LabelEncoder()\n",
        "encoded_countries = label_encoder.fit_transform(countries)\n",
        "encoded_stations = label_encoder.fit_transform(stations)\n",
        "weather_df_copy['Country/Region'] = encoded_countries\n",
        "weather_df_copy['STATION'] = encoded_stations\n",
        "\n",
        "################ USED #######################\n",
        "def calculate_mode(data):\n",
        "    try:\n",
        "        return statistics.mode(data)\n",
        "    except statistics.StatisticsError:\n",
        "        return None  # Return None if there is no unique mode\n",
        "\n",
        "################ NOT USED #######################\n",
        "# def calculate_mode(data):\n",
        "#     # Convert the data to a list of integers and filter out None values\n",
        "#     data_as_int = [int(value) for value in data if not math.isnan(value)]\n",
        "\n",
        "#     try:\n",
        "#         mode_value = statistics.mode(data_as_int)\n",
        "#         return mode_value\n",
        "#     except statistics.StatisticsError:\n",
        "#         return None  # Return None if there is no unique mode\n",
        "\n",
        "################ USED #######################\n",
        "average_temp = weather_df_copy.groupby(['Country/Region', 'Month'])['TAVG'].apply(calculate_mode).to_dict()\n",
        "average_temp_min = weather_df_copy.groupby(['Country/Region', 'Month'])['TMIN'].apply(calculate_mode).to_dict()\n",
        "average_temp_max = weather_df_copy.groupby(['Country/Region', 'Month'])['TMAX'].apply(calculate_mode).to_dict()\n",
        "average_prcp = weather_df_copy.groupby(['Country/Region', 'Month'])['PRCP'].apply(calculate_mode).to_dict()\n",
        "\n",
        "\n",
        "################ NOT USED #######################\n",
        "# average_temp = weather_df_copy.groupby(['Country/Region', 'Month'])['TAVG'].median().to_dict()\n",
        "# average_temp_min = weather_df_copy.groupby(['Country/Region', 'Month'])['TMIN'].median().to_dict()\n",
        "# average_temp_max = weather_df_copy.groupby(['Country/Region', 'Month'])['TMAX'].median().to_dict()\n",
        "# average_prcp = weather_df_copy.groupby(['Country/Region', 'Month'])['PRCP'].median().to_dict()\n",
        "\n",
        "################ USED #######################\n",
        "def fill_missing_avg_temp(row,temp_type):\n",
        "    key = (row['Country/Region'], row['Month'])\n",
        "    if(temp_type == 'TAVG'):\n",
        "      return average_temp.get(key, row[temp_type])\n",
        "    elif(temp_type == 'TMIN'):\n",
        "      return average_temp_min.get(key, row[temp_type])\n",
        "    elif(temp_type == 'PRCP'):\n",
        "      return average_prcp.get(key, row[temp_type])\n",
        "    else:\n",
        "      return average_temp_max.get(key, row[temp_type])\n",
        "\n",
        "################ USED #######################\n",
        "weather_df_copy['TAVG'] = weather_df_copy.apply(fill_missing_avg_temp, args=['TAVG'] ,axis = 1)\n",
        "weather_df_copy['TMIN'] = weather_df_copy.apply(fill_missing_avg_temp, args=['TMIN'] ,axis = 1)\n",
        "weather_df_copy['TMAX'] = weather_df_copy.apply(fill_missing_avg_temp, args=['TMAX'] ,axis = 1)\n",
        "weather_df_copy['PRCP'] = weather_df_copy.apply(fill_missing_avg_temp, args=['PRCP'] ,axis = 1)\n",
        "\n",
        "weather_df_copy.isnull().sum()"
      ],
      "metadata": {
        "colab": {
          "base_uri": "https://localhost:8080/",
          "height": 0
        },
        "id": "d6Vuwleo59_B",
        "outputId": "2cf9ef03-1fd2-4be2-ffd2-2774ea2454a3"
      },
      "execution_count": 11,
      "outputs": [
        {
          "output_type": "execute_result",
          "data": {
            "text/plain": [
              "STATION                0\n",
              "Country/Region         0\n",
              "DATE                   0\n",
              "Month                  0\n",
              "Day                    0\n",
              "PRCP               31358\n",
              "SNWD              811769\n",
              "TAVG                   0\n",
              "TMAX               23794\n",
              "TMIN               14280\n",
              "SNOW              922128\n",
              "LATITUDE          923812\n",
              "LONGITUDE         923812\n",
              "ELEVATION         923812\n",
              "dtype: int64"
            ]
          },
          "metadata": {},
          "execution_count": 11
        }
      ]
    },
    {
      "cell_type": "markdown",
      "source": [
        "This step contains mjor operations of EDA\n",
        "\n",
        "\n",
        "1.   We are using label encoder to encode the object data in Station and Country/Region column.\n",
        "2.   We are filling empty cells of TAVG, TMIN, TMAX, and PRCP columns by finding mode of perticular country with given month.\n",
        "\n"
      ],
      "metadata": {
        "id": "zaH-u6SLhJ_8"
      }
    },
    {
      "cell_type": "code",
      "source": [
        "weather_df_copy.isnull().sum()\n",
        "weather_df_copy = weather_df_copy.dropna(subset=['TMIN','TMAX','PRCP'])\n",
        "# columns_to_drop = ['SNOW', 'LATITUDE','LONGITUDE','ELEVATION', 'SNWD']\n",
        "# weather_df_copy.drop(columns = columns_to_drop, axis=1)\n",
        "\n",
        "columns_to_drop = ['SNOW', 'LATITUDE', 'LONGITUDE', 'ELEVATION', 'SNWD']\n",
        "weather_df_copy = weather_df_copy.drop(columns=columns_to_drop)\n",
        "\n",
        "\n",
        "weather_df_copy.info()"
      ],
      "metadata": {
        "colab": {
          "base_uri": "https://localhost:8080/",
          "height": 0
        },
        "id": "J0485-xsvf95",
        "outputId": "00672b53-fb36-42ef-ac35-b10cbfdf5543"
      },
      "execution_count": 12,
      "outputs": [
        {
          "output_type": "stream",
          "name": "stdout",
          "text": [
            "<class 'pandas.core.frame.DataFrame'>\n",
            "Int64Index: 985196 entries, 0 to 1026118\n",
            "Data columns (total 9 columns):\n",
            " #   Column          Non-Null Count   Dtype  \n",
            "---  ------          --------------   -----  \n",
            " 0   STATION         985196 non-null  int64  \n",
            " 1   Country/Region  985196 non-null  int64  \n",
            " 2   DATE            985196 non-null  object \n",
            " 3   Month           985196 non-null  int64  \n",
            " 4   Day             985196 non-null  int64  \n",
            " 5   PRCP            985196 non-null  float64\n",
            " 6   TAVG            985196 non-null  float64\n",
            " 7   TMAX            985196 non-null  float64\n",
            " 8   TMIN            985196 non-null  float64\n",
            "dtypes: float64(4), int64(4), object(1)\n",
            "memory usage: 75.2+ MB\n"
          ]
        }
      ]
    },
    {
      "cell_type": "markdown",
      "source": [
        "After filling empty cell we are removing those rows whose data still remained unfilled becouse of no data for perticular country and given month was found while calculating the mode and filling data.\n",
        "\n",
        "We are also removing some of the columns which has too much missing data."
      ],
      "metadata": {
        "id": "e6qzPVr9h3_M"
      }
    },
    {
      "cell_type": "code",
      "source": [
        "plt.figure(figsize=(8,8))\n",
        "sns.heatmap(weather_df_copy.corr(), annot=True);\n",
        "plt.tight_layout()"
      ],
      "metadata": {
        "colab": {
          "base_uri": "https://localhost:8080/",
          "height": 862
        },
        "id": "rRNPQQCeXJE3",
        "outputId": "d076a781-1d10-4509-f358-52c6780b65e5"
      },
      "execution_count": 37,
      "outputs": [
        {
          "output_type": "stream",
          "name": "stderr",
          "text": [
            "<ipython-input-37-28a7a1a20e44>:2: FutureWarning: The default value of numeric_only in DataFrame.corr is deprecated. In a future version, it will default to False. Select only valid columns or specify the value of numeric_only to silence this warning.\n",
            "  sns.heatmap(weather_df_copy.corr(), annot=True);\n"
          ]
        },
        {
          "output_type": "display_data",
          "data": {
            "text/plain": [
              "<Figure size 800x800 with 2 Axes>"
            ],
            "image/png": "[encoded data removed]"
          },
          "metadata": {}
        }
      ]
    },
    {
      "cell_type": "markdown",
      "source": [
        "1.   From the heatmap we can observe that TAVG,TMIN,TMIX has very strong relation.\n",
        "2.   Country has very good relation with stations\n",
        "3.   Months also have some relation with TAVG,TMIN,TMAX.\n",
        "\n",
        "\n"
      ],
      "metadata": {
        "id": "ka9GGiJsi5xf"
      }
    },
    {
      "cell_type": "code",
      "source": [
        "from sklearn.model_selection import train_test_split\n",
        "from sklearn.linear_model import LinearRegression\n",
        "from sklearn.model_selection import GridSearchCV\n",
        "from sklearn.tree import DecisionTreeRegressor\n",
        "from sklearn.preprocessing import PolynomialFeatures\n",
        "from sklearn.metrics import mean_absolute_error, mean_squared_error\n",
        "from sklearn.metrics import r2_score\n",
        "from sklearn import preprocessing\n",
        "\n",
        "X_train, X_test, y_train, y_test = train_test_split(weather_df_copy[[\"STATION\",\"Country/Region\",\"Month\",\"Day\",\"TAVG\"]], weather_df_copy[\"TMIN\"], test_size=0.2)\n",
        "\n",
        "\n",
        "size_scaler = preprocessing.StandardScaler().fit(X_train)\n",
        "X_train_scaled = size_scaler.transform(X_train)\n",
        "X_test_scaled = size_scaler.transform(X_test)\n",
        "X_train_scaled.shape, X_test_scaled.shape\n"
      ],
      "metadata": {
        "id": "Pjg5srueXsV9",
        "colab": {
          "base_uri": "https://localhost:8080/",
          "height": 0
        },
        "outputId": "4f6c97bd-99ff-418c-de8d-a1385f79d553"
      },
      "execution_count": 23,
      "outputs": [
        {
          "output_type": "execute_result",
          "data": {
            "text/plain": [
              "((788156, 5), (197040, 5))"
            ]
          },
          "metadata": {},
          "execution_count": 23
        }
      ]
    },
    {
      "cell_type": "code",
      "source": [
        "X_train_scaled"
      ],
      "metadata": {
        "colab": {
          "base_uri": "https://localhost:8080/",
          "height": 0
        },
        "id": "PmLiJ6Rg1_Wb",
        "outputId": "aa1510a4-5d89-431b-83be-b6ea45163003"
      },
      "execution_count": 24,
      "outputs": [
        {
          "output_type": "execute_result",
          "data": {
            "text/plain": [
              "array([[-1.34363222, -0.99679897,  0.39481749,  1.38577534, -0.40257316],\n",
              "       [-1.52337139, -0.99679897,  0.39481749,  1.61422479, -0.40257316],\n",
              "       [ 1.04883223,  0.95727227, -1.83297298,  1.04310115,  1.20351725],\n",
              "       ...,\n",
              "       [-1.67518297, -1.11311273,  1.50871273, -0.67026978,  1.29219709],\n",
              "       [ 0.13438233,  1.63189211, -0.71907775, -1.58406761,  1.3611703 ],\n",
              "       [-0.32821331,  1.5388411 , -1.83297298,  1.61422479, -1.20069171]])"
            ]
          },
          "metadata": {},
          "execution_count": 24
        }
      ]
    },
    {
      "cell_type": "code",
      "source": [
        "X_test_scaled"
      ],
      "metadata": {
        "colab": {
          "base_uri": "https://localhost:8080/",
          "height": 0
        },
        "id": "nWQSJGnF2F_x",
        "outputId": "bf11b7b3-ffcb-4eb5-c763-250853fd39ad"
      },
      "execution_count": 25,
      "outputs": [
        {
          "output_type": "execute_result",
          "data": {
            "text/plain": [
              "array([[-1.29708622, -0.99679897, -0.71907775, -1.24139342, -1.19083839],\n",
              "       [-1.55487946, -0.99679897,  0.95176511,  0.01507859,  0.09009261],\n",
              "       [ 0.17305132,  0.44549171,  1.50871273,  0.81465169,  1.49911672],\n",
              "       ...,\n",
              "       [ 0.34204911,  0.11981317,  1.50871273,  0.92887642,  1.06557084],\n",
              "       [ 0.94356666,  0.70138199,  0.39481749,  1.38577534, -0.00844054],\n",
              "       [-0.40769955, -0.92701071,  0.39481749,  1.38577534,  1.00645095]])"
            ]
          },
          "metadata": {},
          "execution_count": 25
        }
      ]
    },
    {
      "cell_type": "markdown",
      "source": [
        "#Regression Models"
      ],
      "metadata": {
        "id": "rKp-zBm3kHLE"
      }
    },
    {
      "cell_type": "markdown",
      "source": [
        "##Linear Regression"
      ],
      "metadata": {
        "id": "pwzUpAlMkTcq"
      }
    },
    {
      "cell_type": "code",
      "source": [
        "model = LinearRegression()\n",
        "model.fit(X_train_scaled, y_train)\n",
        "y_pred = model.predict(X_test_scaled)\n",
        "mae = mean_absolute_error(y_test, y_pred)\n",
        "rmse = np.sqrt(mean_squared_error(y_test, y_pred))\n",
        "r2 = r2_score(y_test, y_pred)\n",
        "\n",
        "print(f'MAE: {mae}')\n",
        "print(f'RMSE: {rmse}')\n",
        "print(f\"R-squared (R²): {r2}\")"
      ],
      "metadata": {
        "colab": {
          "base_uri": "https://localhost:8080/",
          "height": 0
        },
        "id": "An3t6jEUXfwA",
        "outputId": "208fdc59-3e3b-4741-b43c-c90a92919309"
      },
      "execution_count": 26,
      "outputs": [
        {
          "output_type": "stream",
          "name": "stdout",
          "text": [
            "MAE: 2.5208005685605746\n",
            "RMSE: 3.342600803775712\n",
            "R-squared (R²): 0.8769824407994815\n"
          ]
        }
      ]
    },
    {
      "cell_type": "code",
      "source": [
        "plt.figure(figsize=(8, 6))\n",
        "plt.scatter(y_test, y_pred, alpha=0.5)\n",
        "plt.xlabel(\"Actual Values\")\n",
        "plt.ylabel(\"Predicted Values\")\n",
        "plt.title(\"Actual vs. Predicted Values\")\n",
        "plt.grid(True)\n",
        "\n",
        "# Add a diagonal line for reference (perfect predictions)\n",
        "plt.plot([min(y_test), max(y_test)], [min(y_test), max(y_test)], linestyle='--', color='red', linewidth=2)\n",
        "\n",
        "\n",
        "# Show the plot\n",
        "plt.show()"
      ],
      "metadata": {
        "colab": {
          "base_uri": "https://localhost:8080/",
          "height": 564
        },
        "id": "WTqLdfjuLSGJ",
        "outputId": "50c991df-47a2-44b4-c4ef-34395b52b25d"
      },
      "execution_count": 27,
      "outputs": [
        {
          "output_type": "display_data",
          "data": {
            "text/plain": [
              "<Figure size 800x600 with 1 Axes>"
            ],
            "image/png": "[encoded data removed]"
          },
          "metadata": {}
        }
      ]
    },
    {
      "cell_type": "markdown",
      "source": [
        "##Polynomial Regression"
      ],
      "metadata": {
        "id": "u75yPJ42kY3u"
      }
    },
    {
      "cell_type": "code",
      "source": [
        "degree = 2  # You can adjust this hyperparameter\n",
        "\n",
        "poly = PolynomialFeatures(degree=degree)\n",
        "X_train_poly = poly.fit_transform(X_train)\n",
        "X_test_poly = poly.transform(X_test)\n",
        "\n",
        "poly_reg = LinearRegression()\n",
        "poly_reg.fit(X_train_poly, y_train)\n",
        "\n",
        "y_pred = poly_reg.predict(X_test_poly)\n",
        "\n",
        "mse = mean_squared_error(y_test, y_pred)\n",
        "r_squared = r2_score(y_test, y_pred)\n",
        "\n",
        "print(f\"Mean Squared Error (MSE): {mse}\")\n",
        "print(f\"R-squared (R²): {r_squared}\")"
      ],
      "metadata": {
        "colab": {
          "base_uri": "https://localhost:8080/",
          "height": 0
        },
        "id": "97Q5KJKH29C1",
        "outputId": "b82323bb-98a7-46d4-979d-f3389746d48f"
      },
      "execution_count": 28,
      "outputs": [
        {
          "output_type": "stream",
          "name": "stdout",
          "text": [
            "Mean Squared Error (MSE): 9.680385014483944\n",
            "R-squared (R²): 0.8934163202310743\n"
          ]
        }
      ]
    },
    {
      "cell_type": "markdown",
      "source": [
        "## Stochastic Gradient Descent Regression"
      ],
      "metadata": {
        "id": "PyO0lp0Kkcme"
      }
    },
    {
      "cell_type": "code",
      "source": [
        "from sklearn.linear_model import SGDRegressor\n",
        "\n",
        "model = SGDRegressor(max_iter=1000, tol=1e-3, alpha=0.1, learning_rate='constant', eta0=0.01)\n",
        "\n",
        "# Fit the model to the training data\n",
        "model.fit(X_train_scaled, y_train)\n",
        "\n",
        "# Make predictions on the test data\n",
        "y_pred = model.predict(X_test_scaled)\n",
        "\n",
        "# Calculate evaluation metrics\n",
        "mae = mean_absolute_error(y_test, y_pred)\n",
        "rmse = np.sqrt(mean_squared_error(y_test, y_pred))\n",
        "r2 = r2_score(y_test, y_pred)\n",
        "\n",
        "# Print the evaluation metrics\n",
        "print(f'MAE: {mae}')\n",
        "print(f'RMSE: {rmse}')\n",
        "print(f\"R-squared (R²): {r2}\")"
      ],
      "metadata": {
        "colab": {
          "base_uri": "https://localhost:8080/",
          "height": 0
        },
        "id": "wHcebjHK4kPz",
        "outputId": "26205ba4-bd3f-4411-cbd7-757fc85ed093"
      },
      "execution_count": 31,
      "outputs": [
        {
          "output_type": "stream",
          "name": "stdout",
          "text": [
            "MAE: 2.697184113884371\n",
            "RMSE: 3.52676635281372\n",
            "R-squared (R²): 0.8630533361654232\n"
          ]
        }
      ]
    },
    {
      "cell_type": "markdown",
      "source": [
        "## Stochastic Gradient Descent Regression (Hyperparameter Tuning)."
      ],
      "metadata": {
        "id": "RBcyrBBBkoVT"
      }
    },
    {
      "cell_type": "code",
      "source": [
        "from sklearn.linear_model import SGDRegressor\n",
        "from sklearn.model_selection import GridSearchCV\n",
        "from sklearn.metrics import mean_absolute_error, mean_squared_error, r2_score\n",
        "import numpy as np\n",
        "\n",
        "# Create an SGDRegressor model\n",
        "model = SGDRegressor()\n",
        "\n",
        "# Define a hyperparameter grid to search over\n",
        "param_grid = {\n",
        "    'max_iter': [1000, 2000],          # Maximum number of iterations\n",
        "    'tol': [1e-3, 1e-4],              # Tolerance for stopping criteria\n",
        "    'alpha': [0.01, 0.1, 1.0],        # Regularization strength\n",
        "    'learning_rate': ['constant', 'optimal', 'invscaling', 'adaptive'],  # Learning rate update strategy\n",
        "    'eta0': [0.01, 0.1, 1.0]          # Initial learning rate\n",
        "}\n",
        "\n",
        "# Create a GridSearchCV object\n",
        "grid_search = GridSearchCV(model, param_grid, cv=5, scoring='neg_mean_squared_error')\n",
        "\n",
        "# Fit the GridSearchCV to your data\n",
        "grid_search.fit(X_train_scaled, y_train)\n",
        "\n",
        "# Get the best hyperparameters from the grid search\n",
        "best_params = grid_search.best_params_\n",
        "\n",
        "# Create a model with the best hyperparameters\n",
        "best_model = SGDRegressor(**best_params)\n",
        "\n",
        "# Fit the best model to the training data\n",
        "best_model.fit(X_train_scaled, y_train)\n",
        "\n",
        "# Make predictions on the test data using the best model\n",
        "y_pred = best_model.predict(X_test_scaled)\n",
        "\n",
        "# Calculate evaluation metrics\n",
        "mae = mean_absolute_error(y_test, y_pred)\n",
        "rmse = np.sqrt(mean_squared_error(y_test, y_pred))\n",
        "r2 = r2_score(y_test, y_pred)\n",
        "\n",
        "# Print the best hyperparameters and evaluation metrics\n",
        "print(\"Best Hyperparameters:\", best_params)\n",
        "print(f'MAE: {mae}')\n",
        "print(f'RMSE: {rmse}')\n",
        "print(f\"R-squared (R²): {r2}\")\n"
      ],
      "metadata": {
        "colab": {
          "base_uri": "https://localhost:8080/",
          "height": 0
        },
        "id": "zP7zbEB8_Ym0",
        "outputId": "83554050-3e8e-4e09-e30f-2651b0f536ca"
      },
      "execution_count": 21,
      "outputs": [
        {
          "output_type": "stream",
          "name": "stdout",
          "text": [
            "Best Hyperparameters: {'alpha': 0.01, 'eta0': 1.0, 'learning_rate': 'optimal', 'max_iter': 2000, 'tol': 0.0001}\n",
            "MAE: 2.5403256035426374\n",
            "RMSE: 3.356887141360582\n",
            "R-squared (R²): 0.8759336772392798\n"
          ]
        }
      ]
    },
    {
      "cell_type": "code",
      "source": [
        "plt.figure(figsize=(8, 6))\n",
        "plt.scatter(y_test, y_pred, alpha=0.5)\n",
        "plt.xlabel(\"Actual Values\")\n",
        "plt.ylabel(\"Predicted Values\")\n",
        "plt.title(\"Actual vs. Predicted Values\")\n",
        "plt.grid(True)\n",
        "\n",
        "# Add a diagonal line for reference (perfect predictions)\n",
        "plt.plot([min(y_test), max(y_test)], [min(y_test), max(y_test)], linestyle='--', color='red', linewidth=2)\n",
        "\n",
        "\n",
        "# Show the plot\n",
        "plt.show()"
      ],
      "metadata": {
        "colab": {
          "base_uri": "https://localhost:8080/",
          "height": 564
        },
        "id": "HGNXAu-sQ9Kf",
        "outputId": "5a760a05-60f5-445a-ca2d-9dbf33c4dc12"
      },
      "execution_count": 22,
      "outputs": [
        {
          "output_type": "display_data",
          "data": {
            "text/plain": [
              "<Figure size 800x600 with 1 Axes>"
            ],
            "image/png": "[encoded data removed]"
          },
          "metadata": {}
        }
      ]
    },
    {
      "cell_type": "markdown",
      "source": [
        "From above observations we can say that SGDRegression and Linear Regression gives almost same results, Polynomial Regression gives very bad results\n",
        "\n",
        "\n",
        "The Linear and SGD models explain about 87% of the variance in target variable, so we can say that it is relatively good fit.\n",
        "\n",
        "MAE for polynomial regresion is the worst.\n",
        "\n",
        "MAE for other 2 models are far better than polynomial but still not giving precise results.\n",
        "\n"
      ],
      "metadata": {
        "id": "FUzWKnm-lQ9F"
      }
    }
  ]
}