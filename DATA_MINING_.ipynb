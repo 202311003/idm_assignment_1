{
  "cells": [
    {
      "cell_type": "markdown",
      "metadata": {
        "id": "view-in-github",
        "colab_type": "text"
      },
      "source": [
        "<a href=\"https://colab.research.google.com/github/202311003/idm_assignment_1/blob/202311071/DATA_MINING_.ipynb\" target=\"_parent\"><img src=\"https://colab.research.google.com/assets/colab-badge.svg\" alt=\"Open In Colab\"/></a>"
      ]
    },
    {
      "cell_type": "markdown",
      "metadata": {
        "id": "uNrzrxlnOZn9"
      },
      "source": [
        "#1.Setting up the directory"
      ]
    },
    {
      "cell_type": "code",
      "execution_count": 1,
      "metadata": {
        "id": "pD0iptOaEeq5"
      },
      "outputs": [],
      "source": [
        "!mkdir data"
      ]
    },
    {
      "cell_type": "code",
      "execution_count": null,
      "metadata": {
        "colab": {
          "base_uri": "https://localhost:8080/"
        },
        "id": "xZv8ghAcdNim",
        "outputId": "455749a9-333b-4220-f254-8e17139f9315"
      },
      "outputs": [
        {
          "metadata": {
            "tags": null
          },
          "name": "stdout",
          "output_type": "stream",
          "text": [
            "Archive:  data/archive.zip\n",
            "replace data/the weather of 155 countries in 2020.csv? [y]es, [n]o, [A]ll, [N]one, [r]ename: "
          ]
        }
      ],
      "source": [
        "!unzip data/archive.zip -d data/"
      ]
    },
    {
      "cell_type": "markdown",
      "metadata": {
        "id": "0WqB8uJMOUl0"
      },
      "source": [
        "#2.EDA"
      ]
    },
    {
      "cell_type": "code",
      "execution_count": null,
      "metadata": {
        "id": "m1ig5rsE1s0U"
      },
      "outputs": [],
      "source": [
        "import math\n",
        "import numpy as np\n",
        "import pandas as pd\n",
        "\n",
        "import matplotlib.pyplot as plt\n",
        "import seaborn as sns"
      ]
    },
    {
      "cell_type": "code",
      "execution_count": null,
      "metadata": {
        "colab": {
          "base_uri": "https://localhost:8080/",
          "height": 377
        },
        "id": "vYSzXzQU10af",
        "outputId": "385e2292-efc1-477e-9e19-d86f079d72fb"
      },
      "outputs": [
        {
          "name": "stderr",
          "output_type": "stream",
          "text": [
            "<ipython-input-10-692c75a706a3>:1: DtypeWarning: Columns (16,17,18,19,23) have mixed types. Specify dtype option on import or set low_memory=False.\n",
            "  df = pd.read_csv('data/the weather of 187 countries in 2020.csv')\n"
          ]
        },
        {
          "data": {
            "text/html": [
              "\n",
              "  <div id=\"df-c3f2e320-16e8-4226-95bf-1226ca74eb9e\" class=\"colab-df-container\">\n",
              "    <div>\n",
              "<style scoped>\n",
              "    .dataframe tbody tr th:only-of-type {\n",
              "        vertical-align: middle;\n",
              "    }\n",
              "\n",
              "    .dataframe tbody tr th {\n",
              "        vertical-align: top;\n",
              "    }\n",
              "\n",
              "    .dataframe thead th {\n",
              "        text-align: right;\n",
              "    }\n",
              "</style>\n",
              "<table border=\"1\" class=\"dataframe\">\n",
              "  <thead>\n",
              "    <tr style=\"text-align: right;\">\n",
              "      <th></th>\n",
              "      <th>STATION</th>\n",
              "      <th>Country/Region</th>\n",
              "      <th>DATE</th>\n",
              "      <th>Year</th>\n",
              "      <th>Month</th>\n",
              "      <th>Day</th>\n",
              "      <th>PRCP</th>\n",
              "      <th>SNWD</th>\n",
              "      <th>TAVG</th>\n",
              "      <th>TMAX</th>\n",
              "      <th>...</th>\n",
              "      <th>LONGITUDE</th>\n",
              "      <th>ELEVATION</th>\n",
              "      <th>PRCP_ATTRIBUTES</th>\n",
              "      <th>TAVG_ATTRIBUTES</th>\n",
              "      <th>TMAX_ATTRIBUTES</th>\n",
              "      <th>TMIN_ATTRIBUTES</th>\n",
              "      <th>DAPR</th>\n",
              "      <th>MDPR</th>\n",
              "      <th>WESD</th>\n",
              "      <th>SNWD_ATTRIBUTES</th>\n",
              "    </tr>\n",
              "  </thead>\n",
              "  <tbody>\n",
              "    <tr>\n",
              "      <th>0</th>\n",
              "      <td>TZ000063894</td>\n",
              "      <td>Comoros</td>\n",
              "      <td>2020-01-22</td>\n",
              "      <td>2020</td>\n",
              "      <td>1</td>\n",
              "      <td>22</td>\n",
              "      <td>10.9</td>\n",
              "      <td>NaN</td>\n",
              "      <td>27.6</td>\n",
              "      <td>30.2</td>\n",
              "      <td>...</td>\n",
              "      <td>NaN</td>\n",
              "      <td>NaN</td>\n",
              "      <td>NaN</td>\n",
              "      <td>NaN</td>\n",
              "      <td>NaN</td>\n",
              "      <td>NaN</td>\n",
              "      <td>NaN</td>\n",
              "      <td>NaN</td>\n",
              "      <td>NaN</td>\n",
              "      <td>NaN</td>\n",
              "    </tr>\n",
              "    <tr>\n",
              "      <th>1</th>\n",
              "      <td>TZ000063894</td>\n",
              "      <td>Comoros</td>\n",
              "      <td>2020-01-23</td>\n",
              "      <td>2020</td>\n",
              "      <td>1</td>\n",
              "      <td>23</td>\n",
              "      <td>0.0</td>\n",
              "      <td>NaN</td>\n",
              "      <td>26.7</td>\n",
              "      <td>NaN</td>\n",
              "      <td>...</td>\n",
              "      <td>NaN</td>\n",
              "      <td>NaN</td>\n",
              "      <td>NaN</td>\n",
              "      <td>NaN</td>\n",
              "      <td>NaN</td>\n",
              "      <td>NaN</td>\n",
              "      <td>NaN</td>\n",
              "      <td>NaN</td>\n",
              "      <td>NaN</td>\n",
              "      <td>NaN</td>\n",
              "    </tr>\n",
              "    <tr>\n",
              "      <th>2</th>\n",
              "      <td>TZ000063894</td>\n",
              "      <td>Comoros</td>\n",
              "      <td>2020-01-24</td>\n",
              "      <td>2020</td>\n",
              "      <td>1</td>\n",
              "      <td>24</td>\n",
              "      <td>9.4</td>\n",
              "      <td>NaN</td>\n",
              "      <td>27.9</td>\n",
              "      <td>30.6</td>\n",
              "      <td>...</td>\n",
              "      <td>NaN</td>\n",
              "      <td>NaN</td>\n",
              "      <td>NaN</td>\n",
              "      <td>NaN</td>\n",
              "      <td>NaN</td>\n",
              "      <td>NaN</td>\n",
              "      <td>NaN</td>\n",
              "      <td>NaN</td>\n",
              "      <td>NaN</td>\n",
              "      <td>NaN</td>\n",
              "    </tr>\n",
              "    <tr>\n",
              "      <th>3</th>\n",
              "      <td>TZ000063894</td>\n",
              "      <td>Comoros</td>\n",
              "      <td>2020-01-25</td>\n",
              "      <td>2020</td>\n",
              "      <td>1</td>\n",
              "      <td>25</td>\n",
              "      <td>0.3</td>\n",
              "      <td>NaN</td>\n",
              "      <td>27.9</td>\n",
              "      <td>30.2</td>\n",
              "      <td>...</td>\n",
              "      <td>NaN</td>\n",
              "      <td>NaN</td>\n",
              "      <td>NaN</td>\n",
              "      <td>NaN</td>\n",
              "      <td>NaN</td>\n",
              "      <td>NaN</td>\n",
              "      <td>NaN</td>\n",
              "      <td>NaN</td>\n",
              "      <td>NaN</td>\n",
              "      <td>NaN</td>\n",
              "    </tr>\n",
              "    <tr>\n",
              "      <th>4</th>\n",
              "      <td>TZ000063894</td>\n",
              "      <td>Comoros</td>\n",
              "      <td>2020-01-26</td>\n",
              "      <td>2020</td>\n",
              "      <td>1</td>\n",
              "      <td>26</td>\n",
              "      <td>0.0</td>\n",
              "      <td>NaN</td>\n",
              "      <td>28.2</td>\n",
              "      <td>31.5</td>\n",
              "      <td>...</td>\n",
              "      <td>NaN</td>\n",
              "      <td>NaN</td>\n",
              "      <td>NaN</td>\n",
              "      <td>NaN</td>\n",
              "      <td>NaN</td>\n",
              "      <td>NaN</td>\n",
              "      <td>NaN</td>\n",
              "      <td>NaN</td>\n",
              "      <td>NaN</td>\n",
              "      <td>NaN</td>\n",
              "    </tr>\n",
              "  </tbody>\n",
              "</table>\n",
              "<p>5 rows × 23 columns</p>\n",
              "</div>\n",
              "    <div class=\"colab-df-buttons\">\n",
              "\n",
              "  <div class=\"colab-df-container\">\n",
              "    <button class=\"colab-df-convert\" onclick=\"convertToInteractive('df-c3f2e320-16e8-4226-95bf-1226ca74eb9e')\"\n",
              "            title=\"Convert this dataframe to an interactive table.\"\n",
              "            style=\"display:none;\">\n",
              "\n",
              "  <svg xmlns=\"http://www.w3.org/2000/svg\" height=\"24px\" viewBox=\"0 -960 960 960\">\n",
              "    <path d=\"M120-120v-720h720v720H120Zm60-500h600v-160H180v160Zm220 220h160v-160H400v160Zm0 220h160v-160H400v160ZM180-400h160v-160H180v160Zm440 0h160v-160H620v160ZM180-180h160v-160H180v160Zm440 0h160v-160H620v160Z\"/>\n",
              "  </svg>\n",
              "    </button>\n",
              "\n",
              "  <style>\n",
              "    .colab-df-container {\n",
              "      display:flex;\n",
              "      gap: 12px;\n",
              "    }\n",
              "\n",
              "    .colab-df-convert {\n",
              "      background-color: #E8F0FE;\n",
              "      border: none;\n",
              "      border-radius: 50%;\n",
              "      cursor: pointer;\n",
              "      display: none;\n",
              "      fill: #1967D2;\n",
              "      height: 32px;\n",
              "      padding: 0 0 0 0;\n",
              "      width: 32px;\n",
              "    }\n",
              "\n",
              "    .colab-df-convert:hover {\n",
              "      background-color: #E2EBFA;\n",
              "      box-shadow: 0px 1px 2px rgba(60, 64, 67, 0.3), 0px 1px 3px 1px rgba(60, 64, 67, 0.15);\n",
              "      fill: #174EA6;\n",
              "    }\n",
              "\n",
              "    .colab-df-buttons div {\n",
              "      margin-bottom: 4px;\n",
              "    }\n",
              "\n",
              "    [theme=dark] .colab-df-convert {\n",
              "      background-color: #3B4455;\n",
              "      fill: #D2E3FC;\n",
              "    }\n",
              "\n",
              "    [theme=dark] .colab-df-convert:hover {\n",
              "      background-color: #434B5C;\n",
              "      box-shadow: 0px 1px 3px 1px rgba(0, 0, 0, 0.15);\n",
              "      filter: drop-shadow(0px 1px 2px rgba(0, 0, 0, 0.3));\n",
              "      fill: #FFFFFF;\n",
              "    }\n",
              "  </style>\n",
              "\n",
              "    <script>\n",
              "      const buttonEl =\n",
              "        document.querySelector('#df-c3f2e320-16e8-4226-95bf-1226ca74eb9e button.colab-df-convert');\n",
              "      buttonEl.style.display =\n",
              "        google.colab.kernel.accessAllowed ? 'block' : 'none';\n",
              "\n",
              "      async function convertToInteractive(key) {\n",
              "        const element = document.querySelector('#df-c3f2e320-16e8-4226-95bf-1226ca74eb9e');\n",
              "        const dataTable =\n",
              "          await google.colab.kernel.invokeFunction('convertToInteractive',\n",
              "                                                    [key], {});\n",
              "        if (!dataTable) return;\n",
              "\n",
              "        const docLinkHtml = 'Like what you see? Visit the ' +\n",
              "          '<a target=\"_blank\" href=https://colab.research.google.com/notebooks/data_table.ipynb>data table notebook</a>'\n",
              "          + ' to learn more about interactive tables.';\n",
              "        element.innerHTML = '';\n",
              "        dataTable['output_type'] = 'display_data';\n",
              "        await google.colab.output.renderOutput(dataTable, element);\n",
              "        const docLink = document.createElement('div');\n",
              "        docLink.innerHTML = docLinkHtml;\n",
              "        element.appendChild(docLink);\n",
              "      }\n",
              "    </script>\n",
              "  </div>\n",
              "\n",
              "\n",
              "<div id=\"df-16cc982f-0fa1-4455-9c04-2bdfddcae32f\">\n",
              "  <button class=\"colab-df-quickchart\" onclick=\"quickchart('df-16cc982f-0fa1-4455-9c04-2bdfddcae32f')\"\n",
              "            title=\"Suggest charts.\"\n",
              "            style=\"display:none;\">\n",
              "\n",
              "<svg xmlns=\"http://www.w3.org/2000/svg\" height=\"24px\"viewBox=\"0 0 24 24\"\n",
              "     width=\"24px\">\n",
              "    <g>\n",
              "        <path d=\"M19 3H5c-1.1 0-2 .9-2 2v14c0 1.1.9 2 2 2h14c1.1 0 2-.9 2-2V5c0-1.1-.9-2-2-2zM9 17H7v-7h2v7zm4 0h-2V7h2v10zm4 0h-2v-4h2v4z\"/>\n",
              "    </g>\n",
              "</svg>\n",
              "  </button>\n",
              "\n",
              "<style>\n",
              "  .colab-df-quickchart {\n",
              "      --bg-color: #E8F0FE;\n",
              "      --fill-color: #1967D2;\n",
              "      --hover-bg-color: #E2EBFA;\n",
              "      --hover-fill-color: #174EA6;\n",
              "      --disabled-fill-color: #AAA;\n",
              "      --disabled-bg-color: #DDD;\n",
              "  }\n",
              "\n",
              "  [theme=dark] .colab-df-quickchart {\n",
              "      --bg-color: #3B4455;\n",
              "      --fill-color: #D2E3FC;\n",
              "      --hover-bg-color: #434B5C;\n",
              "      --hover-fill-color: #FFFFFF;\n",
              "      --disabled-bg-color: #3B4455;\n",
              "      --disabled-fill-color: #666;\n",
              "  }\n",
              "\n",
              "  .colab-df-quickchart {\n",
              "    background-color: var(--bg-color);\n",
              "    border: none;\n",
              "    border-radius: 50%;\n",
              "    cursor: pointer;\n",
              "    display: none;\n",
              "    fill: var(--fill-color);\n",
              "    height: 32px;\n",
              "    padding: 0;\n",
              "    width: 32px;\n",
              "  }\n",
              "\n",
              "  .colab-df-quickchart:hover {\n",
              "    background-color: var(--hover-bg-color);\n",
              "    box-shadow: 0 1px 2px rgba(60, 64, 67, 0.3), 0 1px 3px 1px rgba(60, 64, 67, 0.15);\n",
              "    fill: var(--button-hover-fill-color);\n",
              "  }\n",
              "\n",
              "  .colab-df-quickchart-complete:disabled,\n",
              "  .colab-df-quickchart-complete:disabled:hover {\n",
              "    background-color: var(--disabled-bg-color);\n",
              "    fill: var(--disabled-fill-color);\n",
              "    box-shadow: none;\n",
              "  }\n",
              "\n",
              "  .colab-df-spinner {\n",
              "    border: 2px solid var(--fill-color);\n",
              "    border-color: transparent;\n",
              "    border-bottom-color: var(--fill-color);\n",
              "    animation:\n",
              "      spin 1s steps(1) infinite;\n",
              "  }\n",
              "\n",
              "  @keyframes spin {\n",
              "    0% {\n",
              "      border-color: transparent;\n",
              "      border-bottom-color: var(--fill-color);\n",
              "      border-left-color: var(--fill-color);\n",
              "    }\n",
              "    20% {\n",
              "      border-color: transparent;\n",
              "      border-left-color: var(--fill-color);\n",
              "      border-top-color: var(--fill-color);\n",
              "    }\n",
              "    30% {\n",
              "      border-color: transparent;\n",
              "      border-left-color: var(--fill-color);\n",
              "      border-top-color: var(--fill-color);\n",
              "      border-right-color: var(--fill-color);\n",
              "    }\n",
              "    40% {\n",
              "      border-color: transparent;\n",
              "      border-right-color: var(--fill-color);\n",
              "      border-top-color: var(--fill-color);\n",
              "    }\n",
              "    60% {\n",
              "      border-color: transparent;\n",
              "      border-right-color: var(--fill-color);\n",
              "    }\n",
              "    80% {\n",
              "      border-color: transparent;\n",
              "      border-right-color: var(--fill-color);\n",
              "      border-bottom-color: var(--fill-color);\n",
              "    }\n",
              "    90% {\n",
              "      border-color: transparent;\n",
              "      border-bottom-color: var(--fill-color);\n",
              "    }\n",
              "  }\n",
              "</style>\n",
              "\n",
              "  <script>\n",
              "    async function quickchart(key) {\n",
              "      const quickchartButtonEl =\n",
              "        document.querySelector('#' + key + ' button');\n",
              "      quickchartButtonEl.disabled = true;  // To prevent multiple clicks.\n",
              "      quickchartButtonEl.classList.add('colab-df-spinner');\n",
              "      try {\n",
              "        const charts = await google.colab.kernel.invokeFunction(\n",
              "            'suggestCharts', [key], {});\n",
              "      } catch (error) {\n",
              "        console.error('Error during call to suggestCharts:', error);\n",
              "      }\n",
              "      quickchartButtonEl.classList.remove('colab-df-spinner');\n",
              "      quickchartButtonEl.classList.add('colab-df-quickchart-complete');\n",
              "    }\n",
              "    (() => {\n",
              "      let quickchartButtonEl =\n",
              "        document.querySelector('#df-16cc982f-0fa1-4455-9c04-2bdfddcae32f button');\n",
              "      quickchartButtonEl.style.display =\n",
              "        google.colab.kernel.accessAllowed ? 'block' : 'none';\n",
              "    })();\n",
              "  </script>\n",
              "</div>\n",
              "    </div>\n",
              "  </div>\n"
            ],
            "text/plain": [
              "       STATION Country/Region        DATE  Year  Month  Day  PRCP  SNWD  TAVG  \\\n",
              "0  TZ000063894        Comoros  2020-01-22  2020      1   22  10.9   NaN  27.6   \n",
              "1  TZ000063894        Comoros  2020-01-23  2020      1   23   0.0   NaN  26.7   \n",
              "2  TZ000063894        Comoros  2020-01-24  2020      1   24   9.4   NaN  27.9   \n",
              "3  TZ000063894        Comoros  2020-01-25  2020      1   25   0.3   NaN  27.9   \n",
              "4  TZ000063894        Comoros  2020-01-26  2020      1   26   0.0   NaN  28.2   \n",
              "\n",
              "   TMAX  ...  LONGITUDE  ELEVATION  PRCP_ATTRIBUTES  TAVG_ATTRIBUTES  \\\n",
              "0  30.2  ...        NaN        NaN              NaN              NaN   \n",
              "1   NaN  ...        NaN        NaN              NaN              NaN   \n",
              "2  30.6  ...        NaN        NaN              NaN              NaN   \n",
              "3  30.2  ...        NaN        NaN              NaN              NaN   \n",
              "4  31.5  ...        NaN        NaN              NaN              NaN   \n",
              "\n",
              "   TMAX_ATTRIBUTES TMIN_ATTRIBUTES DAPR MDPR WESD  SNWD_ATTRIBUTES  \n",
              "0              NaN             NaN  NaN  NaN  NaN              NaN  \n",
              "1              NaN             NaN  NaN  NaN  NaN              NaN  \n",
              "2              NaN             NaN  NaN  NaN  NaN              NaN  \n",
              "3              NaN             NaN  NaN  NaN  NaN              NaN  \n",
              "4              NaN             NaN  NaN  NaN  NaN              NaN  \n",
              "\n",
              "[5 rows x 23 columns]"
            ]
          },
          "execution_count": 10,
          "metadata": {},
          "output_type": "execute_result"
        }
      ],
      "source": [
        "df = pd.read_csv('data/the weather of 187 countries in 2020.csv')\n",
        "df.head()"
      ]
    },
    {
      "cell_type": "code",
      "execution_count": null,
      "metadata": {
        "colab": {
          "base_uri": "https://localhost:8080/"
        },
        "id": "tGLI3Fhf3wxS",
        "outputId": "a9858002-0392-4088-c09e-969d0b2fd723"
      },
      "outputs": [
        {
          "data": {
            "text/plain": [
              "Index(['STATION', 'Country/Region', 'DATE', 'Year', 'Month', 'Day', 'PRCP',\n",
              "       'SNWD', 'TAVG', 'TMAX', 'TMIN', 'SNOW', 'LATITUDE', 'LONGITUDE',\n",
              "       'ELEVATION', 'PRCP_ATTRIBUTES', 'TAVG_ATTRIBUTES', 'TMAX_ATTRIBUTES',\n",
              "       'TMIN_ATTRIBUTES', 'DAPR', 'MDPR', 'WESD', 'SNWD_ATTRIBUTES'],\n",
              "      dtype='object')"
            ]
          },
          "execution_count": 12,
          "metadata": {},
          "output_type": "execute_result"
        }
      ],
      "source": [
        "df.columns"
      ]
    },
    {
      "cell_type": "code",
      "execution_count": null,
      "metadata": {
        "colab": {
          "base_uri": "https://localhost:8080/"
        },
        "id": "vtBqcgRx3zMo",
        "outputId": "19db4a85-69c8-41d9-ba1d-9a685c9ffc79"
      },
      "outputs": [
        {
          "data": {
            "text/plain": [
              "(1392575, 23)"
            ]
          },
          "execution_count": 13,
          "metadata": {},
          "output_type": "execute_result"
        }
      ],
      "source": [
        "df.shape"
      ]
    },
    {
      "cell_type": "code",
      "execution_count": null,
      "metadata": {
        "colab": {
          "base_uri": "https://localhost:8080/",
          "height": 320
        },
        "id": "DF-FS-OH316S",
        "outputId": "b894ce7a-cd1b-4a78-8bc8-59b39bc851ed"
      },
      "outputs": [
        {
          "data": {
            "text/html": [
              "\n",
              "  <div id=\"df-e62359c7-8a45-495c-b676-2eb7afd36c51\" class=\"colab-df-container\">\n",
              "    <div>\n",
              "<style scoped>\n",
              "    .dataframe tbody tr th:only-of-type {\n",
              "        vertical-align: middle;\n",
              "    }\n",
              "\n",
              "    .dataframe tbody tr th {\n",
              "        vertical-align: top;\n",
              "    }\n",
              "\n",
              "    .dataframe thead th {\n",
              "        text-align: right;\n",
              "    }\n",
              "</style>\n",
              "<table border=\"1\" class=\"dataframe\">\n",
              "  <thead>\n",
              "    <tr style=\"text-align: right;\">\n",
              "      <th></th>\n",
              "      <th>Year</th>\n",
              "      <th>Month</th>\n",
              "      <th>Day</th>\n",
              "      <th>PRCP</th>\n",
              "      <th>SNWD</th>\n",
              "      <th>TAVG</th>\n",
              "      <th>TMAX</th>\n",
              "      <th>TMIN</th>\n",
              "      <th>SNOW</th>\n",
              "      <th>LATITUDE</th>\n",
              "      <th>LONGITUDE</th>\n",
              "      <th>ELEVATION</th>\n",
              "      <th>DAPR</th>\n",
              "      <th>MDPR</th>\n",
              "      <th>WESD</th>\n",
              "    </tr>\n",
              "  </thead>\n",
              "  <tbody>\n",
              "    <tr>\n",
              "      <th>count</th>\n",
              "      <td>1392575.0</td>\n",
              "      <td>1.392575e+06</td>\n",
              "      <td>1.392575e+06</td>\n",
              "      <td>1.043369e+06</td>\n",
              "      <td>377429.000000</td>\n",
              "      <td>878632.000000</td>\n",
              "      <td>866705.000000</td>\n",
              "      <td>898381.000000</td>\n",
              "      <td>105392.000000</td>\n",
              "      <td>104742.000000</td>\n",
              "      <td>104742.000000</td>\n",
              "      <td>104742.000000</td>\n",
              "      <td>1293.000000</td>\n",
              "      <td>81.000000</td>\n",
              "      <td>2.000000</td>\n",
              "    </tr>\n",
              "    <tr>\n",
              "      <th>mean</th>\n",
              "      <td>2020.0</td>\n",
              "      <td>4.279517e+00</td>\n",
              "      <td>1.595168e+01</td>\n",
              "      <td>2.564688e+00</td>\n",
              "      <td>120.712848</td>\n",
              "      <td>14.814992</td>\n",
              "      <td>17.412551</td>\n",
              "      <td>7.093554</td>\n",
              "      <td>3.742760</td>\n",
              "      <td>37.689351</td>\n",
              "      <td>71.371220</td>\n",
              "      <td>787.542437</td>\n",
              "      <td>5.292343</td>\n",
              "      <td>0.958025</td>\n",
              "      <td>0.050000</td>\n",
              "    </tr>\n",
              "    <tr>\n",
              "      <th>std</th>\n",
              "      <td>0.0</td>\n",
              "      <td>1.812637e+00</td>\n",
              "      <td>8.770296e+00</td>\n",
              "      <td>8.035237e+00</td>\n",
              "      <td>293.874318</td>\n",
              "      <td>13.063075</td>\n",
              "      <td>12.707588</td>\n",
              "      <td>12.227766</td>\n",
              "      <td>19.093372</td>\n",
              "      <td>11.572761</td>\n",
              "      <td>71.760255</td>\n",
              "      <td>1094.757321</td>\n",
              "      <td>7.121322</td>\n",
              "      <td>1.653137</td>\n",
              "      <td>0.070711</td>\n",
              "    </tr>\n",
              "    <tr>\n",
              "      <th>min</th>\n",
              "      <td>2020.0</td>\n",
              "      <td>1.000000e+00</td>\n",
              "      <td>1.000000e+00</td>\n",
              "      <td>0.000000e+00</td>\n",
              "      <td>-20.000000</td>\n",
              "      <td>-56.200000</td>\n",
              "      <td>-55.000000</td>\n",
              "      <td>-65.000000</td>\n",
              "      <td>0.000000</td>\n",
              "      <td>-17.817000</td>\n",
              "      <td>-140.850000</td>\n",
              "      <td>0.600000</td>\n",
              "      <td>1.000000</td>\n",
              "      <td>0.000000</td>\n",
              "      <td>0.000000</td>\n",
              "    </tr>\n",
              "    <tr>\n",
              "      <th>25%</th>\n",
              "      <td>2020.0</td>\n",
              "      <td>3.000000e+00</td>\n",
              "      <td>8.000000e+00</td>\n",
              "      <td>0.000000e+00</td>\n",
              "      <td>0.000000</td>\n",
              "      <td>6.700000</td>\n",
              "      <td>8.400000</td>\n",
              "      <td>0.000000</td>\n",
              "      <td>0.000000</td>\n",
              "      <td>30.667000</td>\n",
              "      <td>75.983000</td>\n",
              "      <td>68.000000</td>\n",
              "      <td>2.000000</td>\n",
              "      <td>0.000000</td>\n",
              "      <td>0.025000</td>\n",
              "    </tr>\n",
              "    <tr>\n",
              "      <th>50%</th>\n",
              "      <td>2020.0</td>\n",
              "      <td>4.000000e+00</td>\n",
              "      <td>1.600000e+01</td>\n",
              "      <td>0.000000e+00</td>\n",
              "      <td>0.000000</td>\n",
              "      <td>16.800000</td>\n",
              "      <td>18.500000</td>\n",
              "      <td>7.700000</td>\n",
              "      <td>0.000000</td>\n",
              "      <td>37.850000</td>\n",
              "      <td>104.500000</td>\n",
              "      <td>250.000000</td>\n",
              "      <td>3.000000</td>\n",
              "      <td>0.280000</td>\n",
              "      <td>0.050000</td>\n",
              "    </tr>\n",
              "    <tr>\n",
              "      <th>75%</th>\n",
              "      <td>2020.0</td>\n",
              "      <td>6.000000e+00</td>\n",
              "      <td>2.400000e+01</td>\n",
              "      <td>1.500000e+00</td>\n",
              "      <td>99.000000</td>\n",
              "      <td>25.600000</td>\n",
              "      <td>27.222222</td>\n",
              "      <td>15.600000</td>\n",
              "      <td>0.000000</td>\n",
              "      <td>45.217000</td>\n",
              "      <td>116.117000</td>\n",
              "      <td>1099.000000</td>\n",
              "      <td>5.000000</td>\n",
              "      <td>1.510000</td>\n",
              "      <td>0.075000</td>\n",
              "    </tr>\n",
              "    <tr>\n",
              "      <th>max</th>\n",
              "      <td>2020.0</td>\n",
              "      <td>7.000000e+00</td>\n",
              "      <td>3.100000e+01</td>\n",
              "      <td>4.849000e+02</td>\n",
              "      <td>52900.000000</td>\n",
              "      <td>43.300000</td>\n",
              "      <td>51.200000</td>\n",
              "      <td>36.700000</td>\n",
              "      <td>625.000000</td>\n",
              "      <td>82.500000</td>\n",
              "      <td>131.983000</td>\n",
              "      <td>4701.000000</td>\n",
              "      <td>61.000000</td>\n",
              "      <td>9.240000</td>\n",
              "      <td>0.100000</td>\n",
              "    </tr>\n",
              "  </tbody>\n",
              "</table>\n",
              "</div>\n",
              "    <div class=\"colab-df-buttons\">\n",
              "\n",
              "  <div class=\"colab-df-container\">\n",
              "    <button class=\"colab-df-convert\" onclick=\"convertToInteractive('df-e62359c7-8a45-495c-b676-2eb7afd36c51')\"\n",
              "            title=\"Convert this dataframe to an interactive table.\"\n",
              "            style=\"display:none;\">\n",
              "\n",
              "  <svg xmlns=\"http://www.w3.org/2000/svg\" height=\"24px\" viewBox=\"0 -960 960 960\">\n",
              "    <path d=\"M120-120v-720h720v720H120Zm60-500h600v-160H180v160Zm220 220h160v-160H400v160Zm0 220h160v-160H400v160ZM180-400h160v-160H180v160Zm440 0h160v-160H620v160ZM180-180h160v-160H180v160Zm440 0h160v-160H620v160Z\"/>\n",
              "  </svg>\n",
              "    </button>\n",
              "\n",
              "  <style>\n",
              "    .colab-df-container {\n",
              "      display:flex;\n",
              "      gap: 12px;\n",
              "    }\n",
              "\n",
              "    .colab-df-convert {\n",
              "      background-color: #E8F0FE;\n",
              "      border: none;\n",
              "      border-radius: 50%;\n",
              "      cursor: pointer;\n",
              "      display: none;\n",
              "      fill: #1967D2;\n",
              "      height: 32px;\n",
              "      padding: 0 0 0 0;\n",
              "      width: 32px;\n",
              "    }\n",
              "\n",
              "    .colab-df-convert:hover {\n",
              "      background-color: #E2EBFA;\n",
              "      box-shadow: 0px 1px 2px rgba(60, 64, 67, 0.3), 0px 1px 3px 1px rgba(60, 64, 67, 0.15);\n",
              "      fill: #174EA6;\n",
              "    }\n",
              "\n",
              "    .colab-df-buttons div {\n",
              "      margin-bottom: 4px;\n",
              "    }\n",
              "\n",
              "    [theme=dark] .colab-df-convert {\n",
              "      background-color: #3B4455;\n",
              "      fill: #D2E3FC;\n",
              "    }\n",
              "\n",
              "    [theme=dark] .colab-df-convert:hover {\n",
              "      background-color: #434B5C;\n",
              "      box-shadow: 0px 1px 3px 1px rgba(0, 0, 0, 0.15);\n",
              "      filter: drop-shadow(0px 1px 2px rgba(0, 0, 0, 0.3));\n",
              "      fill: #FFFFFF;\n",
              "    }\n",
              "  </style>\n",
              "\n",
              "    <script>\n",
              "      const buttonEl =\n",
              "        document.querySelector('#df-e62359c7-8a45-495c-b676-2eb7afd36c51 button.colab-df-convert');\n",
              "      buttonEl.style.display =\n",
              "        google.colab.kernel.accessAllowed ? 'block' : 'none';\n",
              "\n",
              "      async function convertToInteractive(key) {\n",
              "        const element = document.querySelector('#df-e62359c7-8a45-495c-b676-2eb7afd36c51');\n",
              "        const dataTable =\n",
              "          await google.colab.kernel.invokeFunction('convertToInteractive',\n",
              "                                                    [key], {});\n",
              "        if (!dataTable) return;\n",
              "\n",
              "        const docLinkHtml = 'Like what you see? Visit the ' +\n",
              "          '<a target=\"_blank\" href=https://colab.research.google.com/notebooks/data_table.ipynb>data table notebook</a>'\n",
              "          + ' to learn more about interactive tables.';\n",
              "        element.innerHTML = '';\n",
              "        dataTable['output_type'] = 'display_data';\n",
              "        await google.colab.output.renderOutput(dataTable, element);\n",
              "        const docLink = document.createElement('div');\n",
              "        docLink.innerHTML = docLinkHtml;\n",
              "        element.appendChild(docLink);\n",
              "      }\n",
              "    </script>\n",
              "  </div>\n",
              "\n",
              "\n",
              "<div id=\"df-085905c6-81dd-4d27-936f-dc93c9fb1033\">\n",
              "  <button class=\"colab-df-quickchart\" onclick=\"quickchart('df-085905c6-81dd-4d27-936f-dc93c9fb1033')\"\n",
              "            title=\"Suggest charts.\"\n",
              "            style=\"display:none;\">\n",
              "\n",
              "<svg xmlns=\"http://www.w3.org/2000/svg\" height=\"24px\"viewBox=\"0 0 24 24\"\n",
              "     width=\"24px\">\n",
              "    <g>\n",
              "        <path d=\"M19 3H5c-1.1 0-2 .9-2 2v14c0 1.1.9 2 2 2h14c1.1 0 2-.9 2-2V5c0-1.1-.9-2-2-2zM9 17H7v-7h2v7zm4 0h-2V7h2v10zm4 0h-2v-4h2v4z\"/>\n",
              "    </g>\n",
              "</svg>\n",
              "  </button>\n",
              "\n",
              "<style>\n",
              "  .colab-df-quickchart {\n",
              "      --bg-color: #E8F0FE;\n",
              "      --fill-color: #1967D2;\n",
              "      --hover-bg-color: #E2EBFA;\n",
              "      --hover-fill-color: #174EA6;\n",
              "      --disabled-fill-color: #AAA;\n",
              "      --disabled-bg-color: #DDD;\n",
              "  }\n",
              "\n",
              "  [theme=dark] .colab-df-quickchart {\n",
              "      --bg-color: #3B4455;\n",
              "      --fill-color: #D2E3FC;\n",
              "      --hover-bg-color: #434B5C;\n",
              "      --hover-fill-color: #FFFFFF;\n",
              "      --disabled-bg-color: #3B4455;\n",
              "      --disabled-fill-color: #666;\n",
              "  }\n",
              "\n",
              "  .colab-df-quickchart {\n",
              "    background-color: var(--bg-color);\n",
              "    border: none;\n",
              "    border-radius: 50%;\n",
              "    cursor: pointer;\n",
              "    display: none;\n",
              "    fill: var(--fill-color);\n",
              "    height: 32px;\n",
              "    padding: 0;\n",
              "    width: 32px;\n",
              "  }\n",
              "\n",
              "  .colab-df-quickchart:hover {\n",
              "    background-color: var(--hover-bg-color);\n",
              "    box-shadow: 0 1px 2px rgba(60, 64, 67, 0.3), 0 1px 3px 1px rgba(60, 64, 67, 0.15);\n",
              "    fill: var(--button-hover-fill-color);\n",
              "  }\n",
              "\n",
              "  .colab-df-quickchart-complete:disabled,\n",
              "  .colab-df-quickchart-complete:disabled:hover {\n",
              "    background-color: var(--disabled-bg-color);\n",
              "    fill: var(--disabled-fill-color);\n",
              "    box-shadow: none;\n",
              "  }\n",
              "\n",
              "  .colab-df-spinner {\n",
              "    border: 2px solid var(--fill-color);\n",
              "    border-color: transparent;\n",
              "    border-bottom-color: var(--fill-color);\n",
              "    animation:\n",
              "      spin 1s steps(1) infinite;\n",
              "  }\n",
              "\n",
              "  @keyframes spin {\n",
              "    0% {\n",
              "      border-color: transparent;\n",
              "      border-bottom-color: var(--fill-color);\n",
              "      border-left-color: var(--fill-color);\n",
              "    }\n",
              "    20% {\n",
              "      border-color: transparent;\n",
              "      border-left-color: var(--fill-color);\n",
              "      border-top-color: var(--fill-color);\n",
              "    }\n",
              "    30% {\n",
              "      border-color: transparent;\n",
              "      border-left-color: var(--fill-color);\n",
              "      border-top-color: var(--fill-color);\n",
              "      border-right-color: var(--fill-color);\n",
              "    }\n",
              "    40% {\n",
              "      border-color: transparent;\n",
              "      border-right-color: var(--fill-color);\n",
              "      border-top-color: var(--fill-color);\n",
              "    }\n",
              "    60% {\n",
              "      border-color: transparent;\n",
              "      border-right-color: var(--fill-color);\n",
              "    }\n",
              "    80% {\n",
              "      border-color: transparent;\n",
              "      border-right-color: var(--fill-color);\n",
              "      border-bottom-color: var(--fill-color);\n",
              "    }\n",
              "    90% {\n",
              "      border-color: transparent;\n",
              "      border-bottom-color: var(--fill-color);\n",
              "    }\n",
              "  }\n",
              "</style>\n",
              "\n",
              "  <script>\n",
              "    async function quickchart(key) {\n",
              "      const quickchartButtonEl =\n",
              "        document.querySelector('#' + key + ' button');\n",
              "      quickchartButtonEl.disabled = true;  // To prevent multiple clicks.\n",
              "      quickchartButtonEl.classList.add('colab-df-spinner');\n",
              "      try {\n",
              "        const charts = await google.colab.kernel.invokeFunction(\n",
              "            'suggestCharts', [key], {});\n",
              "      } catch (error) {\n",
              "        console.error('Error during call to suggestCharts:', error);\n",
              "      }\n",
              "      quickchartButtonEl.classList.remove('colab-df-spinner');\n",
              "      quickchartButtonEl.classList.add('colab-df-quickchart-complete');\n",
              "    }\n",
              "    (() => {\n",
              "      let quickchartButtonEl =\n",
              "        document.querySelector('#df-085905c6-81dd-4d27-936f-dc93c9fb1033 button');\n",
              "      quickchartButtonEl.style.display =\n",
              "        google.colab.kernel.accessAllowed ? 'block' : 'none';\n",
              "    })();\n",
              "  </script>\n",
              "</div>\n",
              "    </div>\n",
              "  </div>\n"
            ],
            "text/plain": [
              "            Year         Month           Day          PRCP           SNWD  \\\n",
              "count  1392575.0  1.392575e+06  1.392575e+06  1.043369e+06  377429.000000   \n",
              "mean      2020.0  4.279517e+00  1.595168e+01  2.564688e+00     120.712848   \n",
              "std          0.0  1.812637e+00  8.770296e+00  8.035237e+00     293.874318   \n",
              "min       2020.0  1.000000e+00  1.000000e+00  0.000000e+00     -20.000000   \n",
              "25%       2020.0  3.000000e+00  8.000000e+00  0.000000e+00       0.000000   \n",
              "50%       2020.0  4.000000e+00  1.600000e+01  0.000000e+00       0.000000   \n",
              "75%       2020.0  6.000000e+00  2.400000e+01  1.500000e+00      99.000000   \n",
              "max       2020.0  7.000000e+00  3.100000e+01  4.849000e+02   52900.000000   \n",
              "\n",
              "                TAVG           TMAX           TMIN           SNOW  \\\n",
              "count  878632.000000  866705.000000  898381.000000  105392.000000   \n",
              "mean       14.814992      17.412551       7.093554       3.742760   \n",
              "std        13.063075      12.707588      12.227766      19.093372   \n",
              "min       -56.200000     -55.000000     -65.000000       0.000000   \n",
              "25%         6.700000       8.400000       0.000000       0.000000   \n",
              "50%        16.800000      18.500000       7.700000       0.000000   \n",
              "75%        25.600000      27.222222      15.600000       0.000000   \n",
              "max        43.300000      51.200000      36.700000     625.000000   \n",
              "\n",
              "            LATITUDE      LONGITUDE      ELEVATION         DAPR       MDPR  \\\n",
              "count  104742.000000  104742.000000  104742.000000  1293.000000  81.000000   \n",
              "mean       37.689351      71.371220     787.542437     5.292343   0.958025   \n",
              "std        11.572761      71.760255    1094.757321     7.121322   1.653137   \n",
              "min       -17.817000    -140.850000       0.600000     1.000000   0.000000   \n",
              "25%        30.667000      75.983000      68.000000     2.000000   0.000000   \n",
              "50%        37.850000     104.500000     250.000000     3.000000   0.280000   \n",
              "75%        45.217000     116.117000    1099.000000     5.000000   1.510000   \n",
              "max        82.500000     131.983000    4701.000000    61.000000   9.240000   \n",
              "\n",
              "           WESD  \n",
              "count  2.000000  \n",
              "mean   0.050000  \n",
              "std    0.070711  \n",
              "min    0.000000  \n",
              "25%    0.025000  \n",
              "50%    0.050000  \n",
              "75%    0.075000  \n",
              "max    0.100000  "
            ]
          },
          "execution_count": 14,
          "metadata": {},
          "output_type": "execute_result"
        }
      ],
      "source": [
        "df.describe()"
      ]
    },
    {
      "cell_type": "code",
      "execution_count": null,
      "metadata": {
        "colab": {
          "base_uri": "https://localhost:8080/"
        },
        "id": "zraoBQFT360h",
        "outputId": "6b7a216f-37cd-4ef5-b710-08d6790dd874"
      },
      "outputs": [
        {
          "data": {
            "text/plain": [
              "STATION            6911\n",
              "Country/Region      187\n",
              "DATE                188\n",
              "Year                  1\n",
              "Month                 7\n",
              "Day                  31\n",
              "PRCP               1353\n",
              "SNWD                779\n",
              "TAVG               1771\n",
              "TMAX               1075\n",
              "TMIN               1001\n",
              "SNOW                242\n",
              "LATITUDE           1219\n",
              "LONGITUDE          1473\n",
              "ELEVATION           992\n",
              "PRCP_ATTRIBUTES       3\n",
              "TAVG_ATTRIBUTES       1\n",
              "TMAX_ATTRIBUTES       3\n",
              "TMIN_ATTRIBUTES       3\n",
              "DAPR                 46\n",
              "MDPR                 48\n",
              "WESD                  2\n",
              "SNWD_ATTRIBUTES       4\n",
              "dtype: int64"
            ]
          },
          "execution_count": 15,
          "metadata": {},
          "output_type": "execute_result"
        }
      ],
      "source": [
        "df.nunique()"
      ]
    },
    {
      "cell_type": "code",
      "execution_count": null,
      "metadata": {
        "colab": {
          "base_uri": "https://localhost:8080/"
        },
        "id": "lcvKqwBQ37ih",
        "outputId": "81abc267-1409-4441-b579-d26c06674a4f"
      },
      "outputs": [
        {
          "data": {
            "text/plain": [
              "array(['Comoros', 'Georgia', 'Nepal', 'Philippines', 'Monaco', 'US',\n",
              "       'Australia', 'Namibia', 'Saint Lucia', 'Lebanon', 'Zambia',\n",
              "       'Malaysia', 'Peru', 'Kenya', 'Belarus', 'Iceland', 'Lesotho',\n",
              "       'Venezuela', 'Albania', 'Tanzania', 'Greece', 'Barbados',\n",
              "       'Singapore', 'Switzerland', 'Sri Lanka', 'China', 'Gabon',\n",
              "       'Guinea-Bissau', 'Congo (Brazzaville)', 'United Arab Emirates',\n",
              "       'Tajikistan', 'Syria', 'Lithuania', 'Paraguay', 'Romania',\n",
              "       'Maldives', 'Jamaica', 'Kuwait', 'Finland', 'Argentina',\n",
              "       'Ethiopia', 'Japan', 'Cameroon', 'Bhutan', 'Botswana', 'Pakistan',\n",
              "       'Brazil', 'Madagascar', 'Eritrea', 'Liberia', 'Mali', 'Thailand',\n",
              "       'Egypt', 'Ireland', 'Belgium', 'Luxembourg', 'Fiji', 'Italy',\n",
              "       'Greenland', 'Antigua and Barbuda',\n",
              "       'Saint Vincent and the Grenadines', 'Andorra', 'Guinea', 'Nigeria',\n",
              "       'Ecuador', 'Guatemala', 'Afghanistan', 'Suriname', 'Djibouti',\n",
              "       'Uganda', 'Niger', 'Israel', 'Russia', 'Chile', 'Mexico',\n",
              "       'Seychelles', 'Bosnia and Herzegovina', 'Montenegro',\n",
              "       'Trinidad and Tobago', 'Togo', 'Panama', 'Denmark', 'Malta',\n",
              "       'Sierra Leone', 'Bahamas', 'Taiwan', 'Kyrgyzstan', 'South Africa',\n",
              "       'Sao Tome and Principe', 'New Zealand', 'France', 'Qatar',\n",
              "       'Angola', 'Belize', 'Azerbaijan', 'San Marino', 'Saudi Arabia',\n",
              "       'Serbia', 'Turkey', 'Cuba', 'Nicaragua', 'Uruguay', 'Jordan',\n",
              "       'Timor-Leste', 'Grenada', 'Slovenia', 'Portugal', 'Western Sahara',\n",
              "       'Costa Rica', 'Mauritius', 'Dominica', 'Bolivia', 'Cambodia',\n",
              "       'Austria', 'Poland', 'Czechia', 'India', 'Somalia', 'Algeria',\n",
              "       'Brunei', 'Latvia', 'Gambia', 'Uzbekistan', 'Armenia', 'Slovakia',\n",
              "       'North Macedonia', 'Guyana', 'Cyprus', 'United Kingdom',\n",
              "       \"Cote d'Ivoire\", 'Honduras', 'Mozambique', 'Oman', 'Iran',\n",
              "       'Mongolia', 'Hungary', 'West Bank and Gaza', 'Bahrain', 'Chad',\n",
              "       'Kazakhstan', 'Holy See', 'Congo (Kinshasa)', 'Burkina Faso',\n",
              "       'Dominican Republic', 'Ghana', 'Zimbabwe', 'Sudan', 'Benin',\n",
              "       'Estonia', 'Haiti', 'Indonesia', 'Saint Kitts and Nevis',\n",
              "       'Netherlands', 'Croatia', 'Canada', 'Yemen', 'Eswatini', 'Moldova',\n",
              "       'Norway', 'Equatorial Guinea', 'Ukraine', 'Tunisia', 'South Korea',\n",
              "       'Burma', 'Senegal', 'Vietnam', 'Kosovo', 'Liechtenstein', 'Malawi',\n",
              "       'Central African Republic', 'South Sudan', 'Iraq', 'Morocco',\n",
              "       'Papua New Guinea', 'Cabo Verde', 'Mauritania', 'Sweden',\n",
              "       'Germany', 'Laos', 'El Salvador', 'Rwanda', 'Bangladesh', 'Libya',\n",
              "       'Burundi', 'Bulgaria', 'Spain', 'Colombia'], dtype=object)"
            ]
          },
          "execution_count": 16,
          "metadata": {},
          "output_type": "execute_result"
        }
      ],
      "source": [
        "df['Country/Region'].unique()"
      ]
    },
    {
      "cell_type": "code",
      "execution_count": null,
      "metadata": {
        "colab": {
          "base_uri": "https://localhost:8080/"
        },
        "id": "eJniWSRk2Wzo",
        "outputId": "bc8a3abb-5f98-439c-c7a6-4d52ba618543"
      },
      "outputs": [
        {
          "data": {
            "text/plain": [
              "STATION                  0\n",
              "Country/Region           0\n",
              "DATE                     0\n",
              "Year                     0\n",
              "Month                    0\n",
              "Day                      0\n",
              "PRCP                349206\n",
              "SNWD               1015146\n",
              "TAVG                513943\n",
              "TMAX                525870\n",
              "TMIN                494194\n",
              "SNOW               1287183\n",
              "LATITUDE           1287833\n",
              "LONGITUDE          1287833\n",
              "ELEVATION          1287833\n",
              "PRCP_ATTRIBUTES    1386568\n",
              "TAVG_ATTRIBUTES    1388725\n",
              "TMAX_ATTRIBUTES    1386938\n",
              "TMIN_ATTRIBUTES    1386701\n",
              "DAPR               1391282\n",
              "MDPR               1392494\n",
              "WESD               1392573\n",
              "SNWD_ATTRIBUTES    1392221\n",
              "dtype: int64"
            ]
          },
          "execution_count": 17,
          "metadata": {},
          "output_type": "execute_result"
        }
      ],
      "source": [
        "df.isnull().sum()"
      ]
    },
    {
      "cell_type": "code",
      "execution_count": null,
      "metadata": {
        "id": "tco_ozVd3BqH"
      },
      "outputs": [],
      "source": [
        "country = df['Country/Region'].unique()\n",
        "weather_df = df.drop(['Year','PRCP_ATTRIBUTES', 'TAVG_ATTRIBUTES', 'TMAX_ATTRIBUTES',\n",
        "                        'TMIN_ATTRIBUTES', 'DAPR', 'MDPR', 'WESD', 'SNWD_ATTRIBUTES',\n",
        "                        'SNOW','LATITUDE','LONGITUDE','SNWD','ELEVATION'], axis=1)"
      ]
    },
    {
      "cell_type": "code",
      "execution_count": null,
      "metadata": {
        "colab": {
          "base_uri": "https://localhost:8080/"
        },
        "id": "HGulQsR9skKH",
        "outputId": "1d0917a4-a125-4ae0-a7ea-a430dc416548"
      },
      "outputs": [
        {
          "data": {
            "text/plain": [
              "Index(['STATION', 'Country/Region', 'DATE', 'Month', 'Day', 'PRCP', 'TAVG',\n",
              "       'TMAX', 'TMIN'],\n",
              "      dtype='object')"
            ]
          },
          "execution_count": 19,
          "metadata": {},
          "output_type": "execute_result"
        }
      ],
      "source": [
        "weather_df.columns"
      ]
    },
    {
      "cell_type": "code",
      "execution_count": null,
      "metadata": {
        "colab": {
          "base_uri": "https://localhost:8080/",
          "height": 861
        },
        "id": "i1i5sxru5B2u",
        "outputId": "9c368900-5005-481a-c01f-9faeb85e0c33"
      },
      "outputs": [
        {
          "name": "stderr",
          "output_type": "stream",
          "text": [
            "<ipython-input-20-ec0f84accebf>:2: FutureWarning: The default value of numeric_only in DataFrame.corr is deprecated. In a future version, it will default to False. Select only valid columns or specify the value of numeric_only to silence this warning.\n",
            "  sns.heatmap(weather_df.corr(), annot=True);\n"
          ]
        },
        {
          "data": {
            "image/png": "[encoded data removed]",
            "text/plain": [
              "<Figure size 800x800 with 2 Axes>"
            ]
          },
          "metadata": {},
          "output_type": "display_data"
        }
      ],
      "source": [
        "plt.figure(figsize=(8,8))\n",
        "sns.heatmap(weather_df.corr(), annot=True);\n",
        "plt.tight_layout()"
      ]
    },
    {
      "cell_type": "code",
      "execution_count": null,
      "metadata": {
        "colab": {
          "base_uri": "https://localhost:8080/"
        },
        "id": "d6Vuwleo59_B",
        "outputId": "80e7b4ba-e88a-4d6a-a3a7-b994227d4d71"
      },
      "outputs": [
        {
          "name": "stdout",
          "output_type": "stream",
          "text": [
            "1305\n",
            "1305\n",
            "1305\n",
            "1305\n"
          ]
        }
      ],
      "source": [
        "import statistics  # Import the statistics module to calculate the mode\n",
        "weather_df_copy = weather_df.copy()\n",
        "from sklearn.preprocessing import LabelEncoder\n",
        "\n",
        "weather_df_copy = weather_df.copy()\n",
        "\n",
        "countries = weather_df_copy['Country/Region']\n",
        "label_encoder = LabelEncoder()\n",
        "encoded_countries = label_encoder.fit_transform(countries)\n",
        "weather_df_copy['Country/Region'] = encoded_countries\n",
        "def calculate_mode(data):\n",
        "    # Convert the data to a list of integers and filter out None values\n",
        "    data_as_int = [int(value) for value in data if not math.isnan(value)]\n",
        "\n",
        "    try:\n",
        "        mode_value = statistics.mode(data_as_int)\n",
        "        return mode_value\n",
        "    except statistics.StatisticsError:\n",
        "        return None  # Return None if there is no unique mode\n",
        "\n",
        "average_temp = weather_df_copy.groupby(['Country/Region', 'Month'])['TAVG'].apply(calculate_mode).to_dict()\n",
        "average_temp_min = weather_df_copy.groupby(['Country/Region', 'Month'])['TMIN'].apply(calculate_mode).to_dict()\n",
        "average_temp_max = weather_df_copy.groupby(['Country/Region', 'Month'])['TMAX'].apply(calculate_mode).to_dict()\n",
        "average_prcp = weather_df_copy.groupby(['Country/Region', 'Month'])['PRCP'].apply(calculate_mode).to_dict()\n",
        "print(len(average_temp_min))\n",
        "print(len(average_temp_max))\n",
        "print(len(average_temp))\n",
        "print(len(average_prcp))\n"
      ]
    },
    {
      "cell_type": "code",
      "execution_count": null,
      "metadata": {
        "colab": {
          "base_uri": "https://localhost:8080/"
        },
        "id": "fLaFlhbfpu8m",
        "outputId": "430005b8-2a17-4850-ed73-9c748d31d4c1"
      },
      "outputs": [
        {
          "data": {
            "text/plain": [
              "STATION           0\n",
              "Country/Region    0\n",
              "DATE              0\n",
              "Month             0\n",
              "Day               0\n",
              "PRCP              0\n",
              "TAVG              0\n",
              "TMAX              0\n",
              "TMIN              0\n",
              "dtype: int64"
            ]
          },
          "execution_count": 22,
          "metadata": {},
          "output_type": "execute_result"
        }
      ],
      "source": [
        "def fill_missing_avg_temp(row,temp_type):\n",
        "    key = (row['Country/Region'], row['Month'])\n",
        "    if(temp_type == 'TAVG'):\n",
        "      return average_temp.get(key, row[temp_type])\n",
        "    elif(temp_type == 'TMIN'):\n",
        "      return average_temp_min.get(key, row[temp_type])\n",
        "    elif(temp_type == 'PRCP'):\n",
        "      return average_prcp.get(key, row[temp_type])\n",
        "    else:\n",
        "      return average_temp_max.get(key, row[temp_type])\n",
        "\n",
        "weather_df_copy['TAVG'] = weather_df_copy.apply(fill_missing_avg_temp, args=['TAVG'] ,axis = 1)\n",
        "weather_df_copy['TMIN'] = weather_df_copy.apply(fill_missing_avg_temp, args=['TMIN'] ,axis = 1)\n",
        "weather_df_copy['TMAX'] = weather_df_copy.apply(fill_missing_avg_temp, args=['TMAX'] ,axis = 1)\n",
        "weather_df_copy['PRCP'] = weather_df_copy.apply(fill_missing_avg_temp, args=['PRCP'] ,axis = 1)\n",
        "weather_df_copy.fillna(method='ffill', inplace=True)\n",
        "weather_df_copy.isnull().sum()"
      ]
    },
    {
      "cell_type": "code",
      "execution_count": null,
      "metadata": {
        "colab": {
          "base_uri": "https://localhost:8080/"
        },
        "id": "J0485-xsvf95",
        "outputId": "9e3d1c07-b246-4f7a-891a-173d17be667b"
      },
      "outputs": [
        {
          "name": "stdout",
          "output_type": "stream",
          "text": [
            "<class 'pandas.core.frame.DataFrame'>\n",
            "Int64Index: 1392575 entries, 0 to 1392574\n",
            "Data columns (total 9 columns):\n",
            " #   Column          Non-Null Count    Dtype  \n",
            "---  ------          --------------    -----  \n",
            " 0   STATION         1392575 non-null  object \n",
            " 1   Country/Region  1392575 non-null  int64  \n",
            " 2   DATE            1392575 non-null  object \n",
            " 3   Month           1392575 non-null  int64  \n",
            " 4   Day             1392575 non-null  int64  \n",
            " 5   PRCP            1392575 non-null  float64\n",
            " 6   TAVG            1392575 non-null  int64  \n",
            " 7   TMAX            1392575 non-null  float64\n",
            " 8   TMIN            1392575 non-null  float64\n",
            "dtypes: float64(3), int64(4), object(2)\n",
            "memory usage: 106.2+ MB\n"
          ]
        }
      ],
      "source": [
        "weather_df_copy.isnull().sum()\n",
        "weather_df_copy = weather_df_copy.dropna(subset=['TMIN','TMAX','PRCP'])\n",
        "weather_df_copy.info()"
      ]
    },
    {
      "cell_type": "code",
      "execution_count": null,
      "metadata": {
        "colab": {
          "base_uri": "https://localhost:8080/",
          "height": 860
        },
        "id": "rRNPQQCeXJE3",
        "outputId": "993fbe1d-df0e-42af-9aac-c5f49222c094"
      },
      "outputs": [
        {
          "name": "stderr",
          "output_type": "stream",
          "text": [
            "<ipython-input-24-28a7a1a20e44>:2: FutureWarning: The default value of numeric_only in DataFrame.corr is deprecated. In a future version, it will default to False. Select only valid columns or specify the value of numeric_only to silence this warning.\n",
            "  sns.heatmap(weather_df_copy.corr(), annot=True);\n"
          ]
        },
        {
          "data": {
            "image/png": "[encoded data removed]",
            "text/plain": [
              "<Figure size 800x800 with 2 Axes>"
            ]
          },
          "metadata": {},
          "output_type": "display_data"
        }
      ],
      "source": [
        "plt.figure(figsize=(8,8))\n",
        "sns.heatmap(weather_df_copy.corr(), annot=True);\n",
        "plt.tight_layout()"
      ]
    },
    {
      "cell_type": "markdown",
      "metadata": {
        "id": "gIe4IhfkuRlg"
      },
      "source": [
        "#APPLYING LINEAR REGRESSION"
      ]
    },
    {
      "cell_type": "code",
      "execution_count": null,
      "metadata": {
        "id": "8MU9nMEC6ePZ"
      },
      "outputs": [],
      "source": [
        "from sklearn.model_selection import train_test_split\n",
        "from sklearn.linear_model import LinearRegression\n",
        "from sklearn.linear_model import SGDRegressor\n",
        "from sklearn.metrics import mean_absolute_error, mean_squared_error\n",
        "from sklearn.metrics import r2_score"
      ]
    },
    {
      "cell_type": "code",
      "execution_count": null,
      "metadata": {
        "colab": {
          "base_uri": "https://localhost:8080/"
        },
        "id": "d5IxWsG_7o1w",
        "outputId": "5f032902-4619-4b54-d75d-322d1a54f237"
      },
      "outputs": [
        {
          "name": "stdout",
          "output_type": "stream",
          "text": [
            "MAE: 0.23545034486057576\n",
            "RMSE: 1.424051395487033\n",
            "R-squared (R²): 0.016001034920563373\n"
          ]
        }
      ],
      "source": [
        "X_train, X_test, y_train, y_test = train_test_split(weather_df_copy[[\"Country/Region\",\"Month\",\"TAVG\",\"TMIN\",\"TMAX\"]], weather_df_copy[\"PRCP\"], test_size=0.2)\n",
        "model = LinearRegression()\n",
        "model.fit(X_train, y_train)\n",
        "y_pred = model.predict(X_test)\n",
        "mae = mean_absolute_error(y_test, y_pred)\n",
        "rmse = np.sqrt(mean_squared_error(y_test, y_pred))\n",
        "r2 = r2_score(y_test, y_pred)\n",
        "\n",
        "print(f'MAE: {mae}')\n",
        "print(f'RMSE: {rmse}')\n",
        "print(f\"R-squared (R²): {r2}\")\n"
      ]
    },
    {
      "cell_type": "code",
      "execution_count": null,
      "metadata": {
        "colab": {
          "base_uri": "https://localhost:8080/",
          "height": 564
        },
        "id": "jqMLVA_aWpTr",
        "outputId": "49921046-4a69-474f-9272-59b24144fb3f"
      },
      "outputs": [
        {
          "data": {
            "image/png": "[encoded data removed]",
            "text/plain": [
              "<Figure size 800x600 with 1 Axes>"
            ]
          },
          "metadata": {},
          "output_type": "display_data"
        }
      ],
      "source": [
        "plt.figure(figsize=(8, 6))\n",
        "plt.scatter(y_test, y_pred, alpha=0.5)\n",
        "plt.xlabel(\"Actual Values\")\n",
        "plt.ylabel(\"Predicted Values\")\n",
        "plt.title(\"Actual vs. Predicted Values\")\n",
        "plt.grid(True)\n",
        "\n",
        "# Add a diagonal line for reference (perfect predictions)\n",
        "plt.plot([min(y_test), max(y_test)], [min(y_test), max(y_test)], linestyle='--', color='red', linewidth=2)\n",
        "\n",
        "# Show the plot\n",
        "plt.show()"
      ]
    },
    {
      "cell_type": "code",
      "execution_count": null,
      "metadata": {
        "id": "ifDdZHeNY1Im"
      },
      "outputs": [],
      "source": [
        "X_train, X_test, y_train, y_test = train_test_split(weather_df_copy[[\"Country/Region\",\"Month\"]], weather_df_copy[\"PRCP\"], test_size=0.2)"
      ]
    },
    {
      "cell_type": "code",
      "execution_count": null,
      "metadata": {
        "colab": {
          "base_uri": "https://localhost:8080/",
          "height": 423
        },
        "id": "R-zPoYHXZSgU",
        "outputId": "a10ab5e4-9348-4f6f-f1e5-e043b5e3fd17"
      },
      "outputs": [
        {
          "data": {
            "text/html": [
              "\n",
              "  <div id=\"df-f81b50bf-2a27-4634-81b2-bec10b134a37\" class=\"colab-df-container\">\n",
              "    <div>\n",
              "<style scoped>\n",
              "    .dataframe tbody tr th:only-of-type {\n",
              "        vertical-align: middle;\n",
              "    }\n",
              "\n",
              "    .dataframe tbody tr th {\n",
              "        vertical-align: top;\n",
              "    }\n",
              "\n",
              "    .dataframe thead th {\n",
              "        text-align: right;\n",
              "    }\n",
              "</style>\n",
              "<table border=\"1\" class=\"dataframe\">\n",
              "  <thead>\n",
              "    <tr style=\"text-align: right;\">\n",
              "      <th></th>\n",
              "      <th>Country/Region</th>\n",
              "      <th>Month</th>\n",
              "    </tr>\n",
              "  </thead>\n",
              "  <tbody>\n",
              "    <tr>\n",
              "      <th>1102475</th>\n",
              "      <td>126</td>\n",
              "      <td>6</td>\n",
              "    </tr>\n",
              "    <tr>\n",
              "      <th>529465</th>\n",
              "      <td>143</td>\n",
              "      <td>5</td>\n",
              "    </tr>\n",
              "    <tr>\n",
              "      <th>594535</th>\n",
              "      <td>79</td>\n",
              "      <td>1</td>\n",
              "    </tr>\n",
              "    <tr>\n",
              "      <th>673076</th>\n",
              "      <td>34</td>\n",
              "      <td>4</td>\n",
              "    </tr>\n",
              "    <tr>\n",
              "      <th>1034602</th>\n",
              "      <td>32</td>\n",
              "      <td>7</td>\n",
              "    </tr>\n",
              "    <tr>\n",
              "      <th>...</th>\n",
              "      <td>...</td>\n",
              "      <td>...</td>\n",
              "    </tr>\n",
              "    <tr>\n",
              "      <th>229177</th>\n",
              "      <td>87</td>\n",
              "      <td>4</td>\n",
              "    </tr>\n",
              "    <tr>\n",
              "      <th>872355</th>\n",
              "      <td>32</td>\n",
              "      <td>3</td>\n",
              "    </tr>\n",
              "    <tr>\n",
              "      <th>355700</th>\n",
              "      <td>138</td>\n",
              "      <td>4</td>\n",
              "    </tr>\n",
              "    <tr>\n",
              "      <th>262981</th>\n",
              "      <td>23</td>\n",
              "      <td>6</td>\n",
              "    </tr>\n",
              "    <tr>\n",
              "      <th>266230</th>\n",
              "      <td>103</td>\n",
              "      <td>2</td>\n",
              "    </tr>\n",
              "  </tbody>\n",
              "</table>\n",
              "<p>1114060 rows × 2 columns</p>\n",
              "</div>\n",
              "    <div class=\"colab-df-buttons\">\n",
              "\n",
              "  <div class=\"colab-df-container\">\n",
              "    <button class=\"colab-df-convert\" onclick=\"convertToInteractive('df-f81b50bf-2a27-4634-81b2-bec10b134a37')\"\n",
              "            title=\"Convert this dataframe to an interactive table.\"\n",
              "            style=\"display:none;\">\n",
              "\n",
              "  <svg xmlns=\"http://www.w3.org/2000/svg\" height=\"24px\" viewBox=\"0 -960 960 960\">\n",
              "    <path d=\"M120-120v-720h720v720H120Zm60-500h600v-160H180v160Zm220 220h160v-160H400v160Zm0 220h160v-160H400v160ZM180-400h160v-160H180v160Zm440 0h160v-160H620v160ZM180-180h160v-160H180v160Zm440 0h160v-160H620v160Z\"/>\n",
              "  </svg>\n",
              "    </button>\n",
              "\n",
              "  <style>\n",
              "    .colab-df-container {\n",
              "      display:flex;\n",
              "      gap: 12px;\n",
              "    }\n",
              "\n",
              "    .colab-df-convert {\n",
              "      background-color: #E8F0FE;\n",
              "      border: none;\n",
              "      border-radius: 50%;\n",
              "      cursor: pointer;\n",
              "      display: none;\n",
              "      fill: #1967D2;\n",
              "      height: 32px;\n",
              "      padding: 0 0 0 0;\n",
              "      width: 32px;\n",
              "    }\n",
              "\n",
              "    .colab-df-convert:hover {\n",
              "      background-color: #E2EBFA;\n",
              "      box-shadow: 0px 1px 2px rgba(60, 64, 67, 0.3), 0px 1px 3px 1px rgba(60, 64, 67, 0.15);\n",
              "      fill: #174EA6;\n",
              "    }\n",
              "\n",
              "    .colab-df-buttons div {\n",
              "      margin-bottom: 4px;\n",
              "    }\n",
              "\n",
              "    [theme=dark] .colab-df-convert {\n",
              "      background-color: #3B4455;\n",
              "      fill: #D2E3FC;\n",
              "    }\n",
              "\n",
              "    [theme=dark] .colab-df-convert:hover {\n",
              "      background-color: #434B5C;\n",
              "      box-shadow: 0px 1px 3px 1px rgba(0, 0, 0, 0.15);\n",
              "      filter: drop-shadow(0px 1px 2px rgba(0, 0, 0, 0.3));\n",
              "      fill: #FFFFFF;\n",
              "    }\n",
              "  </style>\n",
              "\n",
              "    <script>\n",
              "      const buttonEl =\n",
              "        document.querySelector('#df-f81b50bf-2a27-4634-81b2-bec10b134a37 button.colab-df-convert');\n",
              "      buttonEl.style.display =\n",
              "        google.colab.kernel.accessAllowed ? 'block' : 'none';\n",
              "\n",
              "      async function convertToInteractive(key) {\n",
              "        const element = document.querySelector('#df-f81b50bf-2a27-4634-81b2-bec10b134a37');\n",
              "        const dataTable =\n",
              "          await google.colab.kernel.invokeFunction('convertToInteractive',\n",
              "                                                    [key], {});\n",
              "        if (!dataTable) return;\n",
              "\n",
              "        const docLinkHtml = 'Like what you see? Visit the ' +\n",
              "          '<a target=\"_blank\" href=https://colab.research.google.com/notebooks/data_table.ipynb>data table notebook</a>'\n",
              "          + ' to learn more about interactive tables.';\n",
              "        element.innerHTML = '';\n",
              "        dataTable['output_type'] = 'display_data';\n",
              "        await google.colab.output.renderOutput(dataTable, element);\n",
              "        const docLink = document.createElement('div');\n",
              "        docLink.innerHTML = docLinkHtml;\n",
              "        element.appendChild(docLink);\n",
              "      }\n",
              "    </script>\n",
              "  </div>\n",
              "\n",
              "\n",
              "<div id=\"df-e7379560-c7dc-41b3-af57-0d99f9bc1bad\">\n",
              "  <button class=\"colab-df-quickchart\" onclick=\"quickchart('df-e7379560-c7dc-41b3-af57-0d99f9bc1bad')\"\n",
              "            title=\"Suggest charts.\"\n",
              "            style=\"display:none;\">\n",
              "\n",
              "<svg xmlns=\"http://www.w3.org/2000/svg\" height=\"24px\"viewBox=\"0 0 24 24\"\n",
              "     width=\"24px\">\n",
              "    <g>\n",
              "        <path d=\"M19 3H5c-1.1 0-2 .9-2 2v14c0 1.1.9 2 2 2h14c1.1 0 2-.9 2-2V5c0-1.1-.9-2-2-2zM9 17H7v-7h2v7zm4 0h-2V7h2v10zm4 0h-2v-4h2v4z\"/>\n",
              "    </g>\n",
              "</svg>\n",
              "  </button>\n",
              "\n",
              "<style>\n",
              "  .colab-df-quickchart {\n",
              "      --bg-color: #E8F0FE;\n",
              "      --fill-color: #1967D2;\n",
              "      --hover-bg-color: #E2EBFA;\n",
              "      --hover-fill-color: #174EA6;\n",
              "      --disabled-fill-color: #AAA;\n",
              "      --disabled-bg-color: #DDD;\n",
              "  }\n",
              "\n",
              "  [theme=dark] .colab-df-quickchart {\n",
              "      --bg-color: #3B4455;\n",
              "      --fill-color: #D2E3FC;\n",
              "      --hover-bg-color: #434B5C;\n",
              "      --hover-fill-color: #FFFFFF;\n",
              "      --disabled-bg-color: #3B4455;\n",
              "      --disabled-fill-color: #666;\n",
              "  }\n",
              "\n",
              "  .colab-df-quickchart {\n",
              "    background-color: var(--bg-color);\n",
              "    border: none;\n",
              "    border-radius: 50%;\n",
              "    cursor: pointer;\n",
              "    display: none;\n",
              "    fill: var(--fill-color);\n",
              "    height: 32px;\n",
              "    padding: 0;\n",
              "    width: 32px;\n",
              "  }\n",
              "\n",
              "  .colab-df-quickchart:hover {\n",
              "    background-color: var(--hover-bg-color);\n",
              "    box-shadow: 0 1px 2px rgba(60, 64, 67, 0.3), 0 1px 3px 1px rgba(60, 64, 67, 0.15);\n",
              "    fill: var(--button-hover-fill-color);\n",
              "  }\n",
              "\n",
              "  .colab-df-quickchart-complete:disabled,\n",
              "  .colab-df-quickchart-complete:disabled:hover {\n",
              "    background-color: var(--disabled-bg-color);\n",
              "    fill: var(--disabled-fill-color);\n",
              "    box-shadow: none;\n",
              "  }\n",
              "\n",
              "  .colab-df-spinner {\n",
              "    border: 2px solid var(--fill-color);\n",
              "    border-color: transparent;\n",
              "    border-bottom-color: var(--fill-color);\n",
              "    animation:\n",
              "      spin 1s steps(1) infinite;\n",
              "  }\n",
              "\n",
              "  @keyframes spin {\n",
              "    0% {\n",
              "      border-color: transparent;\n",
              "      border-bottom-color: var(--fill-color);\n",
              "      border-left-color: var(--fill-color);\n",
              "    }\n",
              "    20% {\n",
              "      border-color: transparent;\n",
              "      border-left-color: var(--fill-color);\n",
              "      border-top-color: var(--fill-color);\n",
              "    }\n",
              "    30% {\n",
              "      border-color: transparent;\n",
              "      border-left-color: var(--fill-color);\n",
              "      border-top-color: var(--fill-color);\n",
              "      border-right-color: var(--fill-color);\n",
              "    }\n",
              "    40% {\n",
              "      border-color: transparent;\n",
              "      border-right-color: var(--fill-color);\n",
              "      border-top-color: var(--fill-color);\n",
              "    }\n",
              "    60% {\n",
              "      border-color: transparent;\n",
              "      border-right-color: var(--fill-color);\n",
              "    }\n",
              "    80% {\n",
              "      border-color: transparent;\n",
              "      border-right-color: var(--fill-color);\n",
              "      border-bottom-color: var(--fill-color);\n",
              "    }\n",
              "    90% {\n",
              "      border-color: transparent;\n",
              "      border-bottom-color: var(--fill-color);\n",
              "    }\n",
              "  }\n",
              "</style>\n",
              "\n",
              "  <script>\n",
              "    async function quickchart(key) {\n",
              "      const quickchartButtonEl =\n",
              "        document.querySelector('#' + key + ' button');\n",
              "      quickchartButtonEl.disabled = true;  // To prevent multiple clicks.\n",
              "      quickchartButtonEl.classList.add('colab-df-spinner');\n",
              "      try {\n",
              "        const charts = await google.colab.kernel.invokeFunction(\n",
              "            'suggestCharts', [key], {});\n",
              "      } catch (error) {\n",
              "        console.error('Error during call to suggestCharts:', error);\n",
              "      }\n",
              "      quickchartButtonEl.classList.remove('colab-df-spinner');\n",
              "      quickchartButtonEl.classList.add('colab-df-quickchart-complete');\n",
              "    }\n",
              "    (() => {\n",
              "      let quickchartButtonEl =\n",
              "        document.querySelector('#df-e7379560-c7dc-41b3-af57-0d99f9bc1bad button');\n",
              "      quickchartButtonEl.style.display =\n",
              "        google.colab.kernel.accessAllowed ? 'block' : 'none';\n",
              "    })();\n",
              "  </script>\n",
              "</div>\n",
              "    </div>\n",
              "  </div>\n"
            ],
            "text/plain": [
              "         Country/Region  Month\n",
              "1102475             126      6\n",
              "529465              143      5\n",
              "594535               79      1\n",
              "673076               34      4\n",
              "1034602              32      7\n",
              "...                 ...    ...\n",
              "229177               87      4\n",
              "872355               32      3\n",
              "355700              138      4\n",
              "262981               23      6\n",
              "266230              103      2\n",
              "\n",
              "[1114060 rows x 2 columns]"
            ]
          },
          "execution_count": 50,
          "metadata": {},
          "output_type": "execute_result"
        }
      ],
      "source": [
        "X_train"
      ]
    },
    {
      "cell_type": "code",
      "execution_count": null,
      "metadata": {
        "colab": {
          "base_uri": "https://localhost:8080/"
        },
        "id": "I-f5Pl9uZXL-",
        "outputId": "26e5180d-2c52-41c7-a71d-f3bbaec0642a"
      },
      "outputs": [
        {
          "data": {
            "text/plain": [
              "(1114060, 2)"
            ]
          },
          "execution_count": 51,
          "metadata": {},
          "output_type": "execute_result"
        }
      ],
      "source": [
        "X_train.shape"
      ]
    },
    {
      "cell_type": "code",
      "execution_count": null,
      "metadata": {
        "colab": {
          "base_uri": "https://localhost:8080/",
          "height": 245
        },
        "id": "h2yTebJ4YR0p",
        "outputId": "1b87f093-e6ee-48a3-e6bd-21a5eed1c3d1"
      },
      "outputs": [
        {
          "ename": "NameError",
          "evalue": "ignored",
          "output_type": "error",
          "traceback": [
            "\u001b[0;31m---------------------------------------------------------------------------\u001b[0m",
            "\u001b[0;31mNameError\u001b[0m                                 Traceback (most recent call last)",
            "\u001b[0;32m<ipython-input-1-554cd425d519>\u001b[0m in \u001b[0;36m<cell line: 2>\u001b[0;34m()\u001b[0m\n\u001b[1;32m      1\u001b[0m \u001b[0;31m# Initialize the parameters for linear regression\u001b[0m\u001b[0;34m\u001b[0m\u001b[0;34m\u001b[0m\u001b[0m\n\u001b[0;32m----> 2\u001b[0;31m \u001b[0mtheta\u001b[0m \u001b[0;34m=\u001b[0m \u001b[0mnp\u001b[0m\u001b[0;34m.\u001b[0m\u001b[0mrandom\u001b[0m\u001b[0;34m.\u001b[0m\u001b[0mrandn\u001b[0m\u001b[0;34m(\u001b[0m\u001b[0;36m2\u001b[0m\u001b[0;34m,\u001b[0m \u001b[0;36m1\u001b[0m\u001b[0;34m)\u001b[0m\u001b[0;34m\u001b[0m\u001b[0;34m\u001b[0m\u001b[0m\n\u001b[0m\u001b[1;32m      3\u001b[0m \u001b[0mlearning_rate\u001b[0m \u001b[0;34m=\u001b[0m \u001b[0;36m0.01\u001b[0m\u001b[0;34m\u001b[0m\u001b[0;34m\u001b[0m\u001b[0m\n\u001b[1;32m      4\u001b[0m \u001b[0mn_iterations\u001b[0m \u001b[0;34m=\u001b[0m \u001b[0;36m1000\u001b[0m\u001b[0;34m\u001b[0m\u001b[0;34m\u001b[0m\u001b[0m\n\u001b[1;32m      5\u001b[0m \u001b[0;34m\u001b[0m\u001b[0m\n",
            "\u001b[0;31mNameError\u001b[0m: name 'np' is not defined"
          ]
        }
      ],
      "source": [
        "# Initialize the parameters for linear regression\n",
        "theta = np.random.randn(2, 1)\n",
        "learning_rate = 0.01\n",
        "n_iterations = 1000\n",
        "\n",
        "# Implement Stochastic Gradient Descent (SGD)\n",
        "for iteration in range(n_iterations):\n",
        "\n",
        "    xi = X_train\n",
        "    yi = y_train\n",
        "    gradients = xi.T.dot(xi.dot(theta) - yi)\n",
        "    theta = theta - learning_rate * gradients\n",
        "\n",
        "# Print the learned parameters\n",
        "print(\"Learned parameters (theta):\")\n",
        "print(theta)\n",
        "\n",
        "# Make predictions on the test set\n",
        "y_pred = X_test.dot(theta)\n",
        "\n",
        "# Calculate the Mean Squared Error (MSE) on the test set\n",
        "mse = np.mean((y_pred - y_test) ** 2)\n",
        "print(\"Mean Squared Error (MSE) on the test set:\", mse)\n"
      ]
    },
    {
      "cell_type": "code",
      "execution_count": null,
      "metadata": {
        "id": "DDbxi0-DaXrG"
      },
      "outputs": [],
      "source": [
        "#Lasso Regression\n",
        "model2 = Lasso(alpha=1.0)\n",
        "model2.fit(X_train, y_train)\n",
        "y_pred2 = model2.predict(X_test)\n",
        "mse2 = mean_squared_error(y_test, y_pred2)\n",
        "print(mse2)\n",
        "mae2 = mean_absolute_error(y_test, y_pred2)\n",
        "mae2"
      ]
    },
    {
      "cell_type": "code",
      "execution_count": null,
      "metadata": {
        "id": "0MpQmmoJadOl"
      },
      "outputs": [],
      "source": [
        "model2.get_params()"
      ]
    },
    {
      "cell_type": "code",
      "execution_count": null,
      "metadata": {
        "id": "uZJbJ7v9aeAZ"
      },
      "outputs": [],
      "source": [
        "from sklearn.model_selection import GridSearchCV\n",
        "\n",
        "# Define hyperparameters to tune\n",
        "model=Lasso()\n",
        "param_grid = {\n",
        "    'alpha': [0.001, 0.01, 0.1, 1, 10, 100],\n",
        "    'fit_intercept': [True, False],\n",
        "    'max_iter': [100,200,300,500,700,1000],\n",
        "    'positive': [True,False]\n",
        "}\n",
        "\n",
        "# GridSearchCV setup\n",
        "grid_search = GridSearchCV(model, param_grid, cv=5,verbose=1, n_jobs=-1)\n",
        "grid_search.fit(X_train, y_train)\n",
        "\n",
        "# Best parameters from grid search\n",
        "best_params = grid_search.best_params_\n",
        "print(f\"Best parameters: {best_params}\")\n",
        "\n",
        "# Evaluate the best model\n",
        "best_model = grid_search.best_estimator_\n",
        "test_score = best_model.score(X_test, y_test)\n",
        "print(f\"Test R^2 Score of Best Model: {test_score}\")\n"
      ]
    },
    {
      "cell_type": "code",
      "execution_count": null,
      "metadata": {
        "id": "w-bbYSowaiaD"
      },
      "outputs": [],
      "source": [
        "##Lasso tunning\n",
        "model2t=Lasso(alpha= 0.001, fit_intercept= True, max_iter= 100, positive= True)\n",
        "model2t.fit(X_train,y_train)\n",
        "y_predt2=model2t.predict(X_test)\n",
        "mse2t = mean_squared_error(y_test, y_predt2)\n",
        "print(mse2t)\n",
        "mae2t = mean_absolute_error(y_test, y_predt2)\n",
        "print(mae2t)"
      ]
    },
    {
      "cell_type": "code",
      "execution_count": null,
      "metadata": {
        "id": "i7vKwb2GalVh"
      },
      "outputs": [],
      "source": [
        "#Ridge Regression\n",
        "model3 = Ridge()\n",
        "model3.fit(X_train, y_train)\n",
        "y_pred3 = model3.predict(X_test)\n",
        "mse3 = mean_squared_error(y_test, y_pred3)\n",
        "print(mse3)\n",
        "mae3 = mean_absolute_error(y_test, y_pred3)\n",
        "print(mae3)"
      ]
    },
    {
      "cell_type": "code",
      "execution_count": null,
      "metadata": {
        "id": "T93VNLRtaqEW"
      },
      "outputs": [],
      "source": [
        "model3.get_params()"
      ]
    },
    {
      "cell_type": "code",
      "execution_count": null,
      "metadata": {
        "id": "vycMGwr-aqtx"
      },
      "outputs": [],
      "source": [
        "from sklearn.model_selection import GridSearchCV\n",
        "\n",
        "# Define hyperparameters to tune\n",
        "model=Ridge()\n",
        "param_grid = {\n",
        "    'alpha': [0.001, 0.01, 0.1, 1, 10, 100],\n",
        "    'fit_intercept': [True, False],\n",
        "    'max_iter': [100,300,500,700,1000],\n",
        "    'positive': [True,False],\n",
        "    'tol':[0.0001,0.001,0.01,0.1,1.0]\n",
        "}\n",
        "\n",
        "# GridSearchCV setup\n",
        "grid_search = GridSearchCV(model, param_grid, cv=5,verbose=1, n_jobs=-1)\n",
        "grid_search.fit(X_train, y_train)\n",
        "\n",
        "# Best parameters from grid search\n",
        "best_params = grid_search.best_params_\n",
        "print(f\"Best parameters: {best_params}\")\n",
        "\n",
        "# Evaluate the best model\n",
        "best_model = grid_search.best_estimator_\n",
        "test_score = best_model.score(X_test, y_test)\n",
        "print(f\"Test R^2 Score of Best Model: {test_score}\")\n",
        "\n"
      ]
    },
    {
      "cell_type": "code",
      "execution_count": null,
      "metadata": {
        "id": "OfukjY7XauuP"
      },
      "outputs": [],
      "source": [
        "##Ridge tunning\n",
        "model3t = Ridge(alpha= 100, fit_intercept= True, max_iter= 100, positive= False, tol= 0.0001)\n",
        "model3t.fit(X_train, y_train)\n",
        "y_pred3t = model3.predict(X_test)\n",
        "mse3t = mean_squared_error(y_test, y_pred3t)\n",
        "print(mse3t)\n",
        "mae3t = mean_absolute_error(y_test, y_pred3t)\n",
        "print(mae3t)"
      ]
    },
    {
      "cell_type": "code",
      "execution_count": null,
      "metadata": {
        "id": "WdPc2qDCa0ze"
      },
      "outputs": [],
      "source": [
        "model_dict = {\n",
        "    'LinearRegression': {\"model\": LinearRegression(), \"params\": {}},\n",
        "    'Lasso': {\"model\": Lasso(), \"params\": {'alpha': [0.001, 0.01, 0.1, 1, 10, 100],\n",
        "                                'fit_intercept': [True, False],\n",
        "                                'max_iter': [100,200,300,500,700,1000],\n",
        "                                'positive': [True,False]}},\n",
        "    'Ridge': {\"model\": Ridge(),\n",
        "                     \"params\": {'alpha': [0.001, 0.01, 0.1, 1, 10, 100],\n",
        "                                'fit_intercept': [True, False],\n",
        "                                'max_iter': [100,300,500,700,1000],\n",
        "                                'positive': [True,False],\n",
        "                                'tol':[0.0001,0.001,0.01,0.1,1.0]}}\n",
        "\n",
        "}\n"
      ]
    },
    {
      "cell_type": "code",
      "execution_count": null,
      "metadata": {
        "id": "HRLK_Sjfa6pu"
      },
      "outputs": [],
      "source": [
        "def eval_models():\n",
        "    model_results = pd.DataFrame()\n",
        "    model_results['Train_RMSE'] = None\n",
        "    model_results['Test_RMSE'] = None\n",
        "    model_results['Train_MAE'] = None\n",
        "    model_results['Test_MAE'] = None\n",
        "    model_results['best_params'] = None\n",
        "\n",
        "    best_reg_model_ours = None\n",
        "    best_test_score = math.inf\n",
        "\n",
        "    for model_name, reg_model in model_dict.items():\n",
        "        classifier = GridSearchCV(reg_model['model'], reg_model['params'], n_jobs=20, verbose=0)\n",
        "        classifier.fit(X_train_scaled, list(y_train))\n",
        "        best_model = classifier.best_estimator_\n",
        "\n",
        "        y_train_predicted = best_model.predict(X_train_scaled)\n",
        "        train_rmse = np.sqrt(mean_squared_error(list(y_train), y_train_predicted))\n",
        "        train_mae = mean_absolute_error(list(y_train), y_train_predicted)\n",
        "\n",
        "        print(model_name, train_rmse, classifier.best_params_)\n",
        "\n",
        "        y_predicted = best_model.predict(X_test_scaled)\n",
        "        test_rmse = np.sqrt(mean_squared_error(list(y_test), y_predicted))\n",
        "        test_mae = mean_absolute_error(list(y_test), y_predicted)\n",
        "\n",
        "        if test_rmse < best_test_score:\n",
        "            best_test_score = test_rmse\n",
        "            best_reg_model_ours = best_model\n",
        "\n",
        "        model_results.loc[model_name, ['Train_RMSE', 'Test_RMSE', 'Train_MAE', 'Test_MAE', 'best_params']] = [train_rmse, test_rmse, train_mae, test_mae, classifier.best_params_]\n",
        "\n",
        "    print(\"Best model: \", best_model)\n",
        "    # plot the prediction errors using the best model\n",
        "    y_predicted = best_model.predict(X_test_scaled)\n",
        "    plt.plot(list(y_test) - y_predicted, marker='o', linestyle='')\n",
        "\n",
        "    return model_results"
      ]
    },
    {
      "cell_type": "code",
      "execution_count": null,
      "metadata": {
        "id": "sNSwPJroa8w1"
      },
      "outputs": [],
      "source": [
        "import math"
      ]
    },
    {
      "cell_type": "code",
      "execution_count": null,
      "metadata": {
        "id": "t7Wle9aSa_0x"
      },
      "outputs": [],
      "source": [
        "model_results = eval_models()"
      ]
    },
    {
      "cell_type": "code",
      "execution_count": null,
      "metadata": {
        "id": "ku1T415GbFO8"
      },
      "outputs": [],
      "source": [
        "model_results"
      ]
    }
  ],
  "metadata": {
    "colab": {
      "provenance": [],
      "include_colab_link": true
    },
    "kernelspec": {
      "display_name": "Python 3",
      "name": "python3"
    },
    "language_info": {
      "name": "python"
    }
  },
  "nbformat": 4,
  "nbformat_minor": 0
}