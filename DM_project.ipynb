{
  "nbformat": 4,
  "nbformat_minor": 0,
  "metadata": {
    "colab": {
      "provenance": [],
      "gpuType": "T4",
      "authorship_tag": "ABX9TyMFjmifJVKRjjxzJ5dfAmOu",
      "include_colab_link": true
    },
    "kernelspec": {
      "name": "python3",
      "display_name": "Python 3"
    },
    "language_info": {
      "name": "python"
    },
    "accelerator": "GPU"
  },
  "cells": [
    {
      "cell_type": "markdown",
      "metadata": {
        "id": "view-in-github",
        "colab_type": "text"
      },
      "source": [
        "<a href=\"https://colab.research.google.com/github/202311003/idm_assignment_1/blob/202311062/DM_project.ipynb\" target=\"_parent\"><img src=\"https://colab.research.google.com/assets/colab-badge.svg\" alt=\"Open In Colab\"/></a>"
      ]
    },
    {
      "cell_type": "code",
      "execution_count": null,
      "metadata": {
        "id": "J8U2rRMzifJj"
      },
      "outputs": [],
      "source": []
    },
    {
      "cell_type": "code",
      "source": [
        "from google.colab import drive\n",
        "drive.mount('/content/drive')"
      ],
      "metadata": {
        "colab": {
          "base_uri": "https://localhost:8080/"
        },
        "id": "iCkOm-wvL4lz",
        "outputId": "a1607400-a8ec-4e57-a0ef-de540110e544"
      },
      "execution_count": 1,
      "outputs": [
        {
          "output_type": "stream",
          "name": "stdout",
          "text": [
            "Mounted at /content/drive\n"
          ]
        }
      ]
    },
    {
      "cell_type": "markdown",
      "source": [
        "#Importing library"
      ],
      "metadata": {
        "id": "ey220EcBIlFJ"
      }
    },
    {
      "cell_type": "code",
      "source": [
        "import pandas as pd\n",
        "import numpy as np\n",
        "import seaborn as sns\n",
        "import statsmodels.api as sm\n"
      ],
      "metadata": {
        "id": "bVOQdGsvL5Ms"
      },
      "execution_count": 2,
      "outputs": []
    },
    {
      "cell_type": "markdown",
      "source": [
        "##Fetching dataset from drive\n",
        "\n",
        "```\n",
        "# This is formatted as code\n",
        "```\n",
        "\n"
      ],
      "metadata": {
        "id": "lhJ-Zo0aIn4V"
      }
    },
    {
      "cell_type": "code",
      "source": [
        "df=pd.read_csv('/content/drive/MyDrive/dataminning/project 1/archive (8)/the weather of 187 countries in 2020.csv')"
      ],
      "metadata": {
        "colab": {
          "base_uri": "https://localhost:8080/"
        },
        "id": "jPQDSryOMF-x",
        "outputId": "07edeb0a-dd01-4170-fc04-da2e35ca67f8"
      },
      "execution_count": 3,
      "outputs": [
        {
          "output_type": "stream",
          "name": "stderr",
          "text": [
            "<ipython-input-3-e80764f0a2cd>:1: DtypeWarning: Columns (16,17,18,19,23) have mixed types. Specify dtype option on import or set low_memory=False.\n",
            "  df=pd.read_csv('/content/drive/MyDrive/dataminning/project 1/archive (8)/the weather of 187 countries in 2020.csv')\n"
          ]
        }
      ]
    },
    {
      "cell_type": "markdown",
      "source": [
        "##EDA"
      ],
      "metadata": {
        "id": "UTy13FtoIrlD"
      }
    },
    {
      "cell_type": "code",
      "source": [
        "df.head()"
      ],
      "metadata": {
        "colab": {
          "base_uri": "https://localhost:8080/",
          "height": 342
        },
        "id": "RVQrFzZIMPA8",
        "outputId": "6e4414d6-acc6-4aad-e3a4-359e14c474cf"
      },
      "execution_count": 4,
      "outputs": [
        {
          "output_type": "execute_result",
          "data": {
            "text/plain": [
              "       STATION Country/Region        DATE  Year  Month  Day  PRCP  SNWD  TAVG  \\\n",
              "0  TZ000063894        Comoros  2020-01-22  2020      1   22  10.9   NaN  27.6   \n",
              "1  TZ000063894        Comoros  2020-01-23  2020      1   23   0.0   NaN  26.7   \n",
              "2  TZ000063894        Comoros  2020-01-24  2020      1   24   9.4   NaN  27.9   \n",
              "3  TZ000063894        Comoros  2020-01-25  2020      1   25   0.3   NaN  27.9   \n",
              "4  TZ000063894        Comoros  2020-01-26  2020      1   26   0.0   NaN  28.2   \n",
              "\n",
              "   TMAX  ...  LONGITUDE  ELEVATION  PRCP_ATTRIBUTES  TAVG_ATTRIBUTES  \\\n",
              "0  30.2  ...        NaN        NaN              NaN              NaN   \n",
              "1   NaN  ...        NaN        NaN              NaN              NaN   \n",
              "2  30.6  ...        NaN        NaN              NaN              NaN   \n",
              "3  30.2  ...        NaN        NaN              NaN              NaN   \n",
              "4  31.5  ...        NaN        NaN              NaN              NaN   \n",
              "\n",
              "   TMAX_ATTRIBUTES TMIN_ATTRIBUTES DAPR MDPR WESD  SNWD_ATTRIBUTES  \n",
              "0              NaN             NaN  NaN  NaN  NaN              NaN  \n",
              "1              NaN             NaN  NaN  NaN  NaN              NaN  \n",
              "2              NaN             NaN  NaN  NaN  NaN              NaN  \n",
              "3              NaN             NaN  NaN  NaN  NaN              NaN  \n",
              "4              NaN             NaN  NaN  NaN  NaN              NaN  \n",
              "\n",
              "[5 rows x 23 columns]"
            ],
            "text/html": [
              "\n",
              "  <div id=\"df-817d3cb8-1ce7-4b18-82dc-ceb45f22eeff\" class=\"colab-df-container\">\n",
              "    <div>\n",
              "<style scoped>\n",
              "    .dataframe tbody tr th:only-of-type {\n",
              "        vertical-align: middle;\n",
              "    }\n",
              "\n",
              "    .dataframe tbody tr th {\n",
              "        vertical-align: top;\n",
              "    }\n",
              "\n",
              "    .dataframe thead th {\n",
              "        text-align: right;\n",
              "    }\n",
              "</style>\n",
              "<table border=\"1\" class=\"dataframe\">\n",
              "  <thead>\n",
              "    <tr style=\"text-align: right;\">\n",
              "      <th></th>\n",
              "      <th>STATION</th>\n",
              "      <th>Country/Region</th>\n",
              "      <th>DATE</th>\n",
              "      <th>Year</th>\n",
              "      <th>Month</th>\n",
              "      <th>Day</th>\n",
              "      <th>PRCP</th>\n",
              "      <th>SNWD</th>\n",
              "      <th>TAVG</th>\n",
              "      <th>TMAX</th>\n",
              "      <th>...</th>\n",
              "      <th>LONGITUDE</th>\n",
              "      <th>ELEVATION</th>\n",
              "      <th>PRCP_ATTRIBUTES</th>\n",
              "      <th>TAVG_ATTRIBUTES</th>\n",
              "      <th>TMAX_ATTRIBUTES</th>\n",
              "      <th>TMIN_ATTRIBUTES</th>\n",
              "      <th>DAPR</th>\n",
              "      <th>MDPR</th>\n",
              "      <th>WESD</th>\n",
              "      <th>SNWD_ATTRIBUTES</th>\n",
              "    </tr>\n",
              "  </thead>\n",
              "  <tbody>\n",
              "    <tr>\n",
              "      <th>0</th>\n",
              "      <td>TZ000063894</td>\n",
              "      <td>Comoros</td>\n",
              "      <td>2020-01-22</td>\n",
              "      <td>2020</td>\n",
              "      <td>1</td>\n",
              "      <td>22</td>\n",
              "      <td>10.9</td>\n",
              "      <td>NaN</td>\n",
              "      <td>27.6</td>\n",
              "      <td>30.2</td>\n",
              "      <td>...</td>\n",
              "      <td>NaN</td>\n",
              "      <td>NaN</td>\n",
              "      <td>NaN</td>\n",
              "      <td>NaN</td>\n",
              "      <td>NaN</td>\n",
              "      <td>NaN</td>\n",
              "      <td>NaN</td>\n",
              "      <td>NaN</td>\n",
              "      <td>NaN</td>\n",
              "      <td>NaN</td>\n",
              "    </tr>\n",
              "    <tr>\n",
              "      <th>1</th>\n",
              "      <td>TZ000063894</td>\n",
              "      <td>Comoros</td>\n",
              "      <td>2020-01-23</td>\n",
              "      <td>2020</td>\n",
              "      <td>1</td>\n",
              "      <td>23</td>\n",
              "      <td>0.0</td>\n",
              "      <td>NaN</td>\n",
              "      <td>26.7</td>\n",
              "      <td>NaN</td>\n",
              "      <td>...</td>\n",
              "      <td>NaN</td>\n",
              "      <td>NaN</td>\n",
              "      <td>NaN</td>\n",
              "      <td>NaN</td>\n",
              "      <td>NaN</td>\n",
              "      <td>NaN</td>\n",
              "      <td>NaN</td>\n",
              "      <td>NaN</td>\n",
              "      <td>NaN</td>\n",
              "      <td>NaN</td>\n",
              "    </tr>\n",
              "    <tr>\n",
              "      <th>2</th>\n",
              "      <td>TZ000063894</td>\n",
              "      <td>Comoros</td>\n",
              "      <td>2020-01-24</td>\n",
              "      <td>2020</td>\n",
              "      <td>1</td>\n",
              "      <td>24</td>\n",
              "      <td>9.4</td>\n",
              "      <td>NaN</td>\n",
              "      <td>27.9</td>\n",
              "      <td>30.6</td>\n",
              "      <td>...</td>\n",
              "      <td>NaN</td>\n",
              "      <td>NaN</td>\n",
              "      <td>NaN</td>\n",
              "      <td>NaN</td>\n",
              "      <td>NaN</td>\n",
              "      <td>NaN</td>\n",
              "      <td>NaN</td>\n",
              "      <td>NaN</td>\n",
              "      <td>NaN</td>\n",
              "      <td>NaN</td>\n",
              "    </tr>\n",
              "    <tr>\n",
              "      <th>3</th>\n",
              "      <td>TZ000063894</td>\n",
              "      <td>Comoros</td>\n",
              "      <td>2020-01-25</td>\n",
              "      <td>2020</td>\n",
              "      <td>1</td>\n",
              "      <td>25</td>\n",
              "      <td>0.3</td>\n",
              "      <td>NaN</td>\n",
              "      <td>27.9</td>\n",
              "      <td>30.2</td>\n",
              "      <td>...</td>\n",
              "      <td>NaN</td>\n",
              "      <td>NaN</td>\n",
              "      <td>NaN</td>\n",
              "      <td>NaN</td>\n",
              "      <td>NaN</td>\n",
              "      <td>NaN</td>\n",
              "      <td>NaN</td>\n",
              "      <td>NaN</td>\n",
              "      <td>NaN</td>\n",
              "      <td>NaN</td>\n",
              "    </tr>\n",
              "    <tr>\n",
              "      <th>4</th>\n",
              "      <td>TZ000063894</td>\n",
              "      <td>Comoros</td>\n",
              "      <td>2020-01-26</td>\n",
              "      <td>2020</td>\n",
              "      <td>1</td>\n",
              "      <td>26</td>\n",
              "      <td>0.0</td>\n",
              "      <td>NaN</td>\n",
              "      <td>28.2</td>\n",
              "      <td>31.5</td>\n",
              "      <td>...</td>\n",
              "      <td>NaN</td>\n",
              "      <td>NaN</td>\n",
              "      <td>NaN</td>\n",
              "      <td>NaN</td>\n",
              "      <td>NaN</td>\n",
              "      <td>NaN</td>\n",
              "      <td>NaN</td>\n",
              "      <td>NaN</td>\n",
              "      <td>NaN</td>\n",
              "      <td>NaN</td>\n",
              "    </tr>\n",
              "  </tbody>\n",
              "</table>\n",
              "<p>5 rows × 23 columns</p>\n",
              "</div>\n",
              "    <div class=\"colab-df-buttons\">\n",
              "\n",
              "  <div class=\"colab-df-container\">\n",
              "    <button class=\"colab-df-convert\" onclick=\"convertToInteractive('df-817d3cb8-1ce7-4b18-82dc-ceb45f22eeff')\"\n",
              "            title=\"Convert this dataframe to an interactive table.\"\n",
              "            style=\"display:none;\">\n",
              "\n",
              "  <svg xmlns=\"http://www.w3.org/2000/svg\" height=\"24px\" viewBox=\"0 -960 960 960\">\n",
              "    <path d=\"M120-120v-720h720v720H120Zm60-500h600v-160H180v160Zm220 220h160v-160H400v160Zm0 220h160v-160H400v160ZM180-400h160v-160H180v160Zm440 0h160v-160H620v160ZM180-180h160v-160H180v160Zm440 0h160v-160H620v160Z\"/>\n",
              "  </svg>\n",
              "    </button>\n",
              "\n",
              "  <style>\n",
              "    .colab-df-container {\n",
              "      display:flex;\n",
              "      gap: 12px;\n",
              "    }\n",
              "\n",
              "    .colab-df-convert {\n",
              "      background-color: #E8F0FE;\n",
              "      border: none;\n",
              "      border-radius: 50%;\n",
              "      cursor: pointer;\n",
              "      display: none;\n",
              "      fill: #1967D2;\n",
              "      height: 32px;\n",
              "      padding: 0 0 0 0;\n",
              "      width: 32px;\n",
              "    }\n",
              "\n",
              "    .colab-df-convert:hover {\n",
              "      background-color: #E2EBFA;\n",
              "      box-shadow: 0px 1px 2px rgba(60, 64, 67, 0.3), 0px 1px 3px 1px rgba(60, 64, 67, 0.15);\n",
              "      fill: #174EA6;\n",
              "    }\n",
              "\n",
              "    .colab-df-buttons div {\n",
              "      margin-bottom: 4px;\n",
              "    }\n",
              "\n",
              "    [theme=dark] .colab-df-convert {\n",
              "      background-color: #3B4455;\n",
              "      fill: #D2E3FC;\n",
              "    }\n",
              "\n",
              "    [theme=dark] .colab-df-convert:hover {\n",
              "      background-color: #434B5C;\n",
              "      box-shadow: 0px 1px 3px 1px rgba(0, 0, 0, 0.15);\n",
              "      filter: drop-shadow(0px 1px 2px rgba(0, 0, 0, 0.3));\n",
              "      fill: #FFFFFF;\n",
              "    }\n",
              "  </style>\n",
              "\n",
              "    <script>\n",
              "      const buttonEl =\n",
              "        document.querySelector('#df-817d3cb8-1ce7-4b18-82dc-ceb45f22eeff button.colab-df-convert');\n",
              "      buttonEl.style.display =\n",
              "        google.colab.kernel.accessAllowed ? 'block' : 'none';\n",
              "\n",
              "      async function convertToInteractive(key) {\n",
              "        const element = document.querySelector('#df-817d3cb8-1ce7-4b18-82dc-ceb45f22eeff');\n",
              "        const dataTable =\n",
              "          await google.colab.kernel.invokeFunction('convertToInteractive',\n",
              "                                                    [key], {});\n",
              "        if (!dataTable) return;\n",
              "\n",
              "        const docLinkHtml = 'Like what you see? Visit the ' +\n",
              "          '<a target=\"_blank\" href=https://colab.research.google.com/notebooks/data_table.ipynb>data table notebook</a>'\n",
              "          + ' to learn more about interactive tables.';\n",
              "        element.innerHTML = '';\n",
              "        dataTable['output_type'] = 'display_data';\n",
              "        await google.colab.output.renderOutput(dataTable, element);\n",
              "        const docLink = document.createElement('div');\n",
              "        docLink.innerHTML = docLinkHtml;\n",
              "        element.appendChild(docLink);\n",
              "      }\n",
              "    </script>\n",
              "  </div>\n",
              "\n",
              "\n",
              "<div id=\"df-2f9151f6-fc6d-4e9e-92d4-bcc2dc5190fa\">\n",
              "  <button class=\"colab-df-quickchart\" onclick=\"quickchart('df-2f9151f6-fc6d-4e9e-92d4-bcc2dc5190fa')\"\n",
              "            title=\"Suggest charts.\"\n",
              "            style=\"display:none;\">\n",
              "\n",
              "<svg xmlns=\"http://www.w3.org/2000/svg\" height=\"24px\"viewBox=\"0 0 24 24\"\n",
              "     width=\"24px\">\n",
              "    <g>\n",
              "        <path d=\"M19 3H5c-1.1 0-2 .9-2 2v14c0 1.1.9 2 2 2h14c1.1 0 2-.9 2-2V5c0-1.1-.9-2-2-2zM9 17H7v-7h2v7zm4 0h-2V7h2v10zm4 0h-2v-4h2v4z\"/>\n",
              "    </g>\n",
              "</svg>\n",
              "  </button>\n",
              "\n",
              "<style>\n",
              "  .colab-df-quickchart {\n",
              "      --bg-color: #E8F0FE;\n",
              "      --fill-color: #1967D2;\n",
              "      --hover-bg-color: #E2EBFA;\n",
              "      --hover-fill-color: #174EA6;\n",
              "      --disabled-fill-color: #AAA;\n",
              "      --disabled-bg-color: #DDD;\n",
              "  }\n",
              "\n",
              "  [theme=dark] .colab-df-quickchart {\n",
              "      --bg-color: #3B4455;\n",
              "      --fill-color: #D2E3FC;\n",
              "      --hover-bg-color: #434B5C;\n",
              "      --hover-fill-color: #FFFFFF;\n",
              "      --disabled-bg-color: #3B4455;\n",
              "      --disabled-fill-color: #666;\n",
              "  }\n",
              "\n",
              "  .colab-df-quickchart {\n",
              "    background-color: var(--bg-color);\n",
              "    border: none;\n",
              "    border-radius: 50%;\n",
              "    cursor: pointer;\n",
              "    display: none;\n",
              "    fill: var(--fill-color);\n",
              "    height: 32px;\n",
              "    padding: 0;\n",
              "    width: 32px;\n",
              "  }\n",
              "\n",
              "  .colab-df-quickchart:hover {\n",
              "    background-color: var(--hover-bg-color);\n",
              "    box-shadow: 0 1px 2px rgba(60, 64, 67, 0.3), 0 1px 3px 1px rgba(60, 64, 67, 0.15);\n",
              "    fill: var(--button-hover-fill-color);\n",
              "  }\n",
              "\n",
              "  .colab-df-quickchart-complete:disabled,\n",
              "  .colab-df-quickchart-complete:disabled:hover {\n",
              "    background-color: var(--disabled-bg-color);\n",
              "    fill: var(--disabled-fill-color);\n",
              "    box-shadow: none;\n",
              "  }\n",
              "\n",
              "  .colab-df-spinner {\n",
              "    border: 2px solid var(--fill-color);\n",
              "    border-color: transparent;\n",
              "    border-bottom-color: var(--fill-color);\n",
              "    animation:\n",
              "      spin 1s steps(1) infinite;\n",
              "  }\n",
              "\n",
              "  @keyframes spin {\n",
              "    0% {\n",
              "      border-color: transparent;\n",
              "      border-bottom-color: var(--fill-color);\n",
              "      border-left-color: var(--fill-color);\n",
              "    }\n",
              "    20% {\n",
              "      border-color: transparent;\n",
              "      border-left-color: var(--fill-color);\n",
              "      border-top-color: var(--fill-color);\n",
              "    }\n",
              "    30% {\n",
              "      border-color: transparent;\n",
              "      border-left-color: var(--fill-color);\n",
              "      border-top-color: var(--fill-color);\n",
              "      border-right-color: var(--fill-color);\n",
              "    }\n",
              "    40% {\n",
              "      border-color: transparent;\n",
              "      border-right-color: var(--fill-color);\n",
              "      border-top-color: var(--fill-color);\n",
              "    }\n",
              "    60% {\n",
              "      border-color: transparent;\n",
              "      border-right-color: var(--fill-color);\n",
              "    }\n",
              "    80% {\n",
              "      border-color: transparent;\n",
              "      border-right-color: var(--fill-color);\n",
              "      border-bottom-color: var(--fill-color);\n",
              "    }\n",
              "    90% {\n",
              "      border-color: transparent;\n",
              "      border-bottom-color: var(--fill-color);\n",
              "    }\n",
              "  }\n",
              "</style>\n",
              "\n",
              "  <script>\n",
              "    async function quickchart(key) {\n",
              "      const quickchartButtonEl =\n",
              "        document.querySelector('#' + key + ' button');\n",
              "      quickchartButtonEl.disabled = true;  // To prevent multiple clicks.\n",
              "      quickchartButtonEl.classList.add('colab-df-spinner');\n",
              "      try {\n",
              "        const charts = await google.colab.kernel.invokeFunction(\n",
              "            'suggestCharts', [key], {});\n",
              "      } catch (error) {\n",
              "        console.error('Error during call to suggestCharts:', error);\n",
              "      }\n",
              "      quickchartButtonEl.classList.remove('colab-df-spinner');\n",
              "      quickchartButtonEl.classList.add('colab-df-quickchart-complete');\n",
              "    }\n",
              "    (() => {\n",
              "      let quickchartButtonEl =\n",
              "        document.querySelector('#df-2f9151f6-fc6d-4e9e-92d4-bcc2dc5190fa button');\n",
              "      quickchartButtonEl.style.display =\n",
              "        google.colab.kernel.accessAllowed ? 'block' : 'none';\n",
              "    })();\n",
              "  </script>\n",
              "</div>\n",
              "    </div>\n",
              "  </div>\n"
            ]
          },
          "metadata": {},
          "execution_count": 4
        }
      ]
    },
    {
      "cell_type": "code",
      "source": [
        "df.isnull()"
      ],
      "metadata": {
        "colab": {
          "base_uri": "https://localhost:8080/",
          "height": 443
        },
        "id": "XOD4XbOqMf2Z",
        "outputId": "e732e32a-8fa4-47df-f987-2cb3874b3bfc"
      },
      "execution_count": 5,
      "outputs": [
        {
          "output_type": "execute_result",
          "data": {
            "text/plain": [
              "         STATION  Country/Region   DATE   Year  Month    Day   PRCP  SNWD  \\\n",
              "0          False           False  False  False  False  False  False  True   \n",
              "1          False           False  False  False  False  False  False  True   \n",
              "2          False           False  False  False  False  False  False  True   \n",
              "3          False           False  False  False  False  False  False  True   \n",
              "4          False           False  False  False  False  False  False  True   \n",
              "...          ...             ...    ...    ...    ...    ...    ...   ...   \n",
              "1392570    False           False  False  False  False  False  False  True   \n",
              "1392571    False           False  False  False  False  False   True  True   \n",
              "1392572    False           False  False  False  False  False   True  True   \n",
              "1392573    False           False  False  False  False  False   True  True   \n",
              "1392574    False           False  False  False  False  False   True  True   \n",
              "\n",
              "          TAVG   TMAX  ...  LONGITUDE  ELEVATION  PRCP_ATTRIBUTES  \\\n",
              "0        False  False  ...       True       True             True   \n",
              "1        False   True  ...       True       True             True   \n",
              "2        False  False  ...       True       True             True   \n",
              "3        False  False  ...       True       True             True   \n",
              "4        False  False  ...       True       True             True   \n",
              "...        ...    ...  ...        ...        ...              ...   \n",
              "1392570  False   True  ...       True       True             True   \n",
              "1392571  False   True  ...       True       True             True   \n",
              "1392572  False   True  ...       True       True             True   \n",
              "1392573  False   True  ...       True       True             True   \n",
              "1392574  False   True  ...       True       True             True   \n",
              "\n",
              "         TAVG_ATTRIBUTES  TMAX_ATTRIBUTES  TMIN_ATTRIBUTES  DAPR  MDPR  WESD  \\\n",
              "0                   True             True             True  True  True  True   \n",
              "1                   True             True             True  True  True  True   \n",
              "2                   True             True             True  True  True  True   \n",
              "3                   True             True             True  True  True  True   \n",
              "4                   True             True             True  True  True  True   \n",
              "...                  ...              ...              ...   ...   ...   ...   \n",
              "1392570             True             True             True  True  True  True   \n",
              "1392571             True             True             True  True  True  True   \n",
              "1392572             True             True             True  True  True  True   \n",
              "1392573             True             True             True  True  True  True   \n",
              "1392574             True             True             True  True  True  True   \n",
              "\n",
              "         SNWD_ATTRIBUTES  \n",
              "0                   True  \n",
              "1                   True  \n",
              "2                   True  \n",
              "3                   True  \n",
              "4                   True  \n",
              "...                  ...  \n",
              "1392570             True  \n",
              "1392571             True  \n",
              "1392572             True  \n",
              "1392573             True  \n",
              "1392574             True  \n",
              "\n",
              "[1392575 rows x 23 columns]"
            ],
            "text/html": [
              "\n",
              "  <div id=\"df-3b45db8b-a35a-4667-b2a2-b42006e9ba9c\" class=\"colab-df-container\">\n",
              "    <div>\n",
              "<style scoped>\n",
              "    .dataframe tbody tr th:only-of-type {\n",
              "        vertical-align: middle;\n",
              "    }\n",
              "\n",
              "    .dataframe tbody tr th {\n",
              "        vertical-align: top;\n",
              "    }\n",
              "\n",
              "    .dataframe thead th {\n",
              "        text-align: right;\n",
              "    }\n",
              "</style>\n",
              "<table border=\"1\" class=\"dataframe\">\n",
              "  <thead>\n",
              "    <tr style=\"text-align: right;\">\n",
              "      <th></th>\n",
              "      <th>STATION</th>\n",
              "      <th>Country/Region</th>\n",
              "      <th>DATE</th>\n",
              "      <th>Year</th>\n",
              "      <th>Month</th>\n",
              "      <th>Day</th>\n",
              "      <th>PRCP</th>\n",
              "      <th>SNWD</th>\n",
              "      <th>TAVG</th>\n",
              "      <th>TMAX</th>\n",
              "      <th>...</th>\n",
              "      <th>LONGITUDE</th>\n",
              "      <th>ELEVATION</th>\n",
              "      <th>PRCP_ATTRIBUTES</th>\n",
              "      <th>TAVG_ATTRIBUTES</th>\n",
              "      <th>TMAX_ATTRIBUTES</th>\n",
              "      <th>TMIN_ATTRIBUTES</th>\n",
              "      <th>DAPR</th>\n",
              "      <th>MDPR</th>\n",
              "      <th>WESD</th>\n",
              "      <th>SNWD_ATTRIBUTES</th>\n",
              "    </tr>\n",
              "  </thead>\n",
              "  <tbody>\n",
              "    <tr>\n",
              "      <th>0</th>\n",
              "      <td>False</td>\n",
              "      <td>False</td>\n",
              "      <td>False</td>\n",
              "      <td>False</td>\n",
              "      <td>False</td>\n",
              "      <td>False</td>\n",
              "      <td>False</td>\n",
              "      <td>True</td>\n",
              "      <td>False</td>\n",
              "      <td>False</td>\n",
              "      <td>...</td>\n",
              "      <td>True</td>\n",
              "      <td>True</td>\n",
              "      <td>True</td>\n",
              "      <td>True</td>\n",
              "      <td>True</td>\n",
              "      <td>True</td>\n",
              "      <td>True</td>\n",
              "      <td>True</td>\n",
              "      <td>True</td>\n",
              "      <td>True</td>\n",
              "    </tr>\n",
              "    <tr>\n",
              "      <th>1</th>\n",
              "      <td>False</td>\n",
              "      <td>False</td>\n",
              "      <td>False</td>\n",
              "      <td>False</td>\n",
              "      <td>False</td>\n",
              "      <td>False</td>\n",
              "      <td>False</td>\n",
              "      <td>True</td>\n",
              "      <td>False</td>\n",
              "      <td>True</td>\n",
              "      <td>...</td>\n",
              "      <td>True</td>\n",
              "      <td>True</td>\n",
              "      <td>True</td>\n",
              "      <td>True</td>\n",
              "      <td>True</td>\n",
              "      <td>True</td>\n",
              "      <td>True</td>\n",
              "      <td>True</td>\n",
              "      <td>True</td>\n",
              "      <td>True</td>\n",
              "    </tr>\n",
              "    <tr>\n",
              "      <th>2</th>\n",
              "      <td>False</td>\n",
              "      <td>False</td>\n",
              "      <td>False</td>\n",
              "      <td>False</td>\n",
              "      <td>False</td>\n",
              "      <td>False</td>\n",
              "      <td>False</td>\n",
              "      <td>True</td>\n",
              "      <td>False</td>\n",
              "      <td>False</td>\n",
              "      <td>...</td>\n",
              "      <td>True</td>\n",
              "      <td>True</td>\n",
              "      <td>True</td>\n",
              "      <td>True</td>\n",
              "      <td>True</td>\n",
              "      <td>True</td>\n",
              "      <td>True</td>\n",
              "      <td>True</td>\n",
              "      <td>True</td>\n",
              "      <td>True</td>\n",
              "    </tr>\n",
              "    <tr>\n",
              "      <th>3</th>\n",
              "      <td>False</td>\n",
              "      <td>False</td>\n",
              "      <td>False</td>\n",
              "      <td>False</td>\n",
              "      <td>False</td>\n",
              "      <td>False</td>\n",
              "      <td>False</td>\n",
              "      <td>True</td>\n",
              "      <td>False</td>\n",
              "      <td>False</td>\n",
              "      <td>...</td>\n",
              "      <td>True</td>\n",
              "      <td>True</td>\n",
              "      <td>True</td>\n",
              "      <td>True</td>\n",
              "      <td>True</td>\n",
              "      <td>True</td>\n",
              "      <td>True</td>\n",
              "      <td>True</td>\n",
              "      <td>True</td>\n",
              "      <td>True</td>\n",
              "    </tr>\n",
              "    <tr>\n",
              "      <th>4</th>\n",
              "      <td>False</td>\n",
              "      <td>False</td>\n",
              "      <td>False</td>\n",
              "      <td>False</td>\n",
              "      <td>False</td>\n",
              "      <td>False</td>\n",
              "      <td>False</td>\n",
              "      <td>True</td>\n",
              "      <td>False</td>\n",
              "      <td>False</td>\n",
              "      <td>...</td>\n",
              "      <td>True</td>\n",
              "      <td>True</td>\n",
              "      <td>True</td>\n",
              "      <td>True</td>\n",
              "      <td>True</td>\n",
              "      <td>True</td>\n",
              "      <td>True</td>\n",
              "      <td>True</td>\n",
              "      <td>True</td>\n",
              "      <td>True</td>\n",
              "    </tr>\n",
              "    <tr>\n",
              "      <th>...</th>\n",
              "      <td>...</td>\n",
              "      <td>...</td>\n",
              "      <td>...</td>\n",
              "      <td>...</td>\n",
              "      <td>...</td>\n",
              "      <td>...</td>\n",
              "      <td>...</td>\n",
              "      <td>...</td>\n",
              "      <td>...</td>\n",
              "      <td>...</td>\n",
              "      <td>...</td>\n",
              "      <td>...</td>\n",
              "      <td>...</td>\n",
              "      <td>...</td>\n",
              "      <td>...</td>\n",
              "      <td>...</td>\n",
              "      <td>...</td>\n",
              "      <td>...</td>\n",
              "      <td>...</td>\n",
              "      <td>...</td>\n",
              "      <td>...</td>\n",
              "    </tr>\n",
              "    <tr>\n",
              "      <th>1392570</th>\n",
              "      <td>False</td>\n",
              "      <td>False</td>\n",
              "      <td>False</td>\n",
              "      <td>False</td>\n",
              "      <td>False</td>\n",
              "      <td>False</td>\n",
              "      <td>False</td>\n",
              "      <td>True</td>\n",
              "      <td>False</td>\n",
              "      <td>True</td>\n",
              "      <td>...</td>\n",
              "      <td>True</td>\n",
              "      <td>True</td>\n",
              "      <td>True</td>\n",
              "      <td>True</td>\n",
              "      <td>True</td>\n",
              "      <td>True</td>\n",
              "      <td>True</td>\n",
              "      <td>True</td>\n",
              "      <td>True</td>\n",
              "      <td>True</td>\n",
              "    </tr>\n",
              "    <tr>\n",
              "      <th>1392571</th>\n",
              "      <td>False</td>\n",
              "      <td>False</td>\n",
              "      <td>False</td>\n",
              "      <td>False</td>\n",
              "      <td>False</td>\n",
              "      <td>False</td>\n",
              "      <td>True</td>\n",
              "      <td>True</td>\n",
              "      <td>False</td>\n",
              "      <td>True</td>\n",
              "      <td>...</td>\n",
              "      <td>True</td>\n",
              "      <td>True</td>\n",
              "      <td>True</td>\n",
              "      <td>True</td>\n",
              "      <td>True</td>\n",
              "      <td>True</td>\n",
              "      <td>True</td>\n",
              "      <td>True</td>\n",
              "      <td>True</td>\n",
              "      <td>True</td>\n",
              "    </tr>\n",
              "    <tr>\n",
              "      <th>1392572</th>\n",
              "      <td>False</td>\n",
              "      <td>False</td>\n",
              "      <td>False</td>\n",
              "      <td>False</td>\n",
              "      <td>False</td>\n",
              "      <td>False</td>\n",
              "      <td>True</td>\n",
              "      <td>True</td>\n",
              "      <td>False</td>\n",
              "      <td>True</td>\n",
              "      <td>...</td>\n",
              "      <td>True</td>\n",
              "      <td>True</td>\n",
              "      <td>True</td>\n",
              "      <td>True</td>\n",
              "      <td>True</td>\n",
              "      <td>True</td>\n",
              "      <td>True</td>\n",
              "      <td>True</td>\n",
              "      <td>True</td>\n",
              "      <td>True</td>\n",
              "    </tr>\n",
              "    <tr>\n",
              "      <th>1392573</th>\n",
              "      <td>False</td>\n",
              "      <td>False</td>\n",
              "      <td>False</td>\n",
              "      <td>False</td>\n",
              "      <td>False</td>\n",
              "      <td>False</td>\n",
              "      <td>True</td>\n",
              "      <td>True</td>\n",
              "      <td>False</td>\n",
              "      <td>True</td>\n",
              "      <td>...</td>\n",
              "      <td>True</td>\n",
              "      <td>True</td>\n",
              "      <td>True</td>\n",
              "      <td>True</td>\n",
              "      <td>True</td>\n",
              "      <td>True</td>\n",
              "      <td>True</td>\n",
              "      <td>True</td>\n",
              "      <td>True</td>\n",
              "      <td>True</td>\n",
              "    </tr>\n",
              "    <tr>\n",
              "      <th>1392574</th>\n",
              "      <td>False</td>\n",
              "      <td>False</td>\n",
              "      <td>False</td>\n",
              "      <td>False</td>\n",
              "      <td>False</td>\n",
              "      <td>False</td>\n",
              "      <td>True</td>\n",
              "      <td>True</td>\n",
              "      <td>False</td>\n",
              "      <td>True</td>\n",
              "      <td>...</td>\n",
              "      <td>True</td>\n",
              "      <td>True</td>\n",
              "      <td>True</td>\n",
              "      <td>True</td>\n",
              "      <td>True</td>\n",
              "      <td>True</td>\n",
              "      <td>True</td>\n",
              "      <td>True</td>\n",
              "      <td>True</td>\n",
              "      <td>True</td>\n",
              "    </tr>\n",
              "  </tbody>\n",
              "</table>\n",
              "<p>1392575 rows × 23 columns</p>\n",
              "</div>\n",
              "    <div class=\"colab-df-buttons\">\n",
              "\n",
              "  <div class=\"colab-df-container\">\n",
              "    <button class=\"colab-df-convert\" onclick=\"convertToInteractive('df-3b45db8b-a35a-4667-b2a2-b42006e9ba9c')\"\n",
              "            title=\"Convert this dataframe to an interactive table.\"\n",
              "            style=\"display:none;\">\n",
              "\n",
              "  <svg xmlns=\"http://www.w3.org/2000/svg\" height=\"24px\" viewBox=\"0 -960 960 960\">\n",
              "    <path d=\"M120-120v-720h720v720H120Zm60-500h600v-160H180v160Zm220 220h160v-160H400v160Zm0 220h160v-160H400v160ZM180-400h160v-160H180v160Zm440 0h160v-160H620v160ZM180-180h160v-160H180v160Zm440 0h160v-160H620v160Z\"/>\n",
              "  </svg>\n",
              "    </button>\n",
              "\n",
              "  <style>\n",
              "    .colab-df-container {\n",
              "      display:flex;\n",
              "      gap: 12px;\n",
              "    }\n",
              "\n",
              "    .colab-df-convert {\n",
              "      background-color: #E8F0FE;\n",
              "      border: none;\n",
              "      border-radius: 50%;\n",
              "      cursor: pointer;\n",
              "      display: none;\n",
              "      fill: #1967D2;\n",
              "      height: 32px;\n",
              "      padding: 0 0 0 0;\n",
              "      width: 32px;\n",
              "    }\n",
              "\n",
              "    .colab-df-convert:hover {\n",
              "      background-color: #E2EBFA;\n",
              "      box-shadow: 0px 1px 2px rgba(60, 64, 67, 0.3), 0px 1px 3px 1px rgba(60, 64, 67, 0.15);\n",
              "      fill: #174EA6;\n",
              "    }\n",
              "\n",
              "    .colab-df-buttons div {\n",
              "      margin-bottom: 4px;\n",
              "    }\n",
              "\n",
              "    [theme=dark] .colab-df-convert {\n",
              "      background-color: #3B4455;\n",
              "      fill: #D2E3FC;\n",
              "    }\n",
              "\n",
              "    [theme=dark] .colab-df-convert:hover {\n",
              "      background-color: #434B5C;\n",
              "      box-shadow: 0px 1px 3px 1px rgba(0, 0, 0, 0.15);\n",
              "      filter: drop-shadow(0px 1px 2px rgba(0, 0, 0, 0.3));\n",
              "      fill: #FFFFFF;\n",
              "    }\n",
              "  </style>\n",
              "\n",
              "    <script>\n",
              "      const buttonEl =\n",
              "        document.querySelector('#df-3b45db8b-a35a-4667-b2a2-b42006e9ba9c button.colab-df-convert');\n",
              "      buttonEl.style.display =\n",
              "        google.colab.kernel.accessAllowed ? 'block' : 'none';\n",
              "\n",
              "      async function convertToInteractive(key) {\n",
              "        const element = document.querySelector('#df-3b45db8b-a35a-4667-b2a2-b42006e9ba9c');\n",
              "        const dataTable =\n",
              "          await google.colab.kernel.invokeFunction('convertToInteractive',\n",
              "                                                    [key], {});\n",
              "        if (!dataTable) return;\n",
              "\n",
              "        const docLinkHtml = 'Like what you see? Visit the ' +\n",
              "          '<a target=\"_blank\" href=https://colab.research.google.com/notebooks/data_table.ipynb>data table notebook</a>'\n",
              "          + ' to learn more about interactive tables.';\n",
              "        element.innerHTML = '';\n",
              "        dataTable['output_type'] = 'display_data';\n",
              "        await google.colab.output.renderOutput(dataTable, element);\n",
              "        const docLink = document.createElement('div');\n",
              "        docLink.innerHTML = docLinkHtml;\n",
              "        element.appendChild(docLink);\n",
              "      }\n",
              "    </script>\n",
              "  </div>\n",
              "\n",
              "\n",
              "<div id=\"df-af9e42f3-3460-43ed-be81-b17e261875c1\">\n",
              "  <button class=\"colab-df-quickchart\" onclick=\"quickchart('df-af9e42f3-3460-43ed-be81-b17e261875c1')\"\n",
              "            title=\"Suggest charts.\"\n",
              "            style=\"display:none;\">\n",
              "\n",
              "<svg xmlns=\"http://www.w3.org/2000/svg\" height=\"24px\"viewBox=\"0 0 24 24\"\n",
              "     width=\"24px\">\n",
              "    <g>\n",
              "        <path d=\"M19 3H5c-1.1 0-2 .9-2 2v14c0 1.1.9 2 2 2h14c1.1 0 2-.9 2-2V5c0-1.1-.9-2-2-2zM9 17H7v-7h2v7zm4 0h-2V7h2v10zm4 0h-2v-4h2v4z\"/>\n",
              "    </g>\n",
              "</svg>\n",
              "  </button>\n",
              "\n",
              "<style>\n",
              "  .colab-df-quickchart {\n",
              "      --bg-color: #E8F0FE;\n",
              "      --fill-color: #1967D2;\n",
              "      --hover-bg-color: #E2EBFA;\n",
              "      --hover-fill-color: #174EA6;\n",
              "      --disabled-fill-color: #AAA;\n",
              "      --disabled-bg-color: #DDD;\n",
              "  }\n",
              "\n",
              "  [theme=dark] .colab-df-quickchart {\n",
              "      --bg-color: #3B4455;\n",
              "      --fill-color: #D2E3FC;\n",
              "      --hover-bg-color: #434B5C;\n",
              "      --hover-fill-color: #FFFFFF;\n",
              "      --disabled-bg-color: #3B4455;\n",
              "      --disabled-fill-color: #666;\n",
              "  }\n",
              "\n",
              "  .colab-df-quickchart {\n",
              "    background-color: var(--bg-color);\n",
              "    border: none;\n",
              "    border-radius: 50%;\n",
              "    cursor: pointer;\n",
              "    display: none;\n",
              "    fill: var(--fill-color);\n",
              "    height: 32px;\n",
              "    padding: 0;\n",
              "    width: 32px;\n",
              "  }\n",
              "\n",
              "  .colab-df-quickchart:hover {\n",
              "    background-color: var(--hover-bg-color);\n",
              "    box-shadow: 0 1px 2px rgba(60, 64, 67, 0.3), 0 1px 3px 1px rgba(60, 64, 67, 0.15);\n",
              "    fill: var(--button-hover-fill-color);\n",
              "  }\n",
              "\n",
              "  .colab-df-quickchart-complete:disabled,\n",
              "  .colab-df-quickchart-complete:disabled:hover {\n",
              "    background-color: var(--disabled-bg-color);\n",
              "    fill: var(--disabled-fill-color);\n",
              "    box-shadow: none;\n",
              "  }\n",
              "\n",
              "  .colab-df-spinner {\n",
              "    border: 2px solid var(--fill-color);\n",
              "    border-color: transparent;\n",
              "    border-bottom-color: var(--fill-color);\n",
              "    animation:\n",
              "      spin 1s steps(1) infinite;\n",
              "  }\n",
              "\n",
              "  @keyframes spin {\n",
              "    0% {\n",
              "      border-color: transparent;\n",
              "      border-bottom-color: var(--fill-color);\n",
              "      border-left-color: var(--fill-color);\n",
              "    }\n",
              "    20% {\n",
              "      border-color: transparent;\n",
              "      border-left-color: var(--fill-color);\n",
              "      border-top-color: var(--fill-color);\n",
              "    }\n",
              "    30% {\n",
              "      border-color: transparent;\n",
              "      border-left-color: var(--fill-color);\n",
              "      border-top-color: var(--fill-color);\n",
              "      border-right-color: var(--fill-color);\n",
              "    }\n",
              "    40% {\n",
              "      border-color: transparent;\n",
              "      border-right-color: var(--fill-color);\n",
              "      border-top-color: var(--fill-color);\n",
              "    }\n",
              "    60% {\n",
              "      border-color: transparent;\n",
              "      border-right-color: var(--fill-color);\n",
              "    }\n",
              "    80% {\n",
              "      border-color: transparent;\n",
              "      border-right-color: var(--fill-color);\n",
              "      border-bottom-color: var(--fill-color);\n",
              "    }\n",
              "    90% {\n",
              "      border-color: transparent;\n",
              "      border-bottom-color: var(--fill-color);\n",
              "    }\n",
              "  }\n",
              "</style>\n",
              "\n",
              "  <script>\n",
              "    async function quickchart(key) {\n",
              "      const quickchartButtonEl =\n",
              "        document.querySelector('#' + key + ' button');\n",
              "      quickchartButtonEl.disabled = true;  // To prevent multiple clicks.\n",
              "      quickchartButtonEl.classList.add('colab-df-spinner');\n",
              "      try {\n",
              "        const charts = await google.colab.kernel.invokeFunction(\n",
              "            'suggestCharts', [key], {});\n",
              "      } catch (error) {\n",
              "        console.error('Error during call to suggestCharts:', error);\n",
              "      }\n",
              "      quickchartButtonEl.classList.remove('colab-df-spinner');\n",
              "      quickchartButtonEl.classList.add('colab-df-quickchart-complete');\n",
              "    }\n",
              "    (() => {\n",
              "      let quickchartButtonEl =\n",
              "        document.querySelector('#df-af9e42f3-3460-43ed-be81-b17e261875c1 button');\n",
              "      quickchartButtonEl.style.display =\n",
              "        google.colab.kernel.accessAllowed ? 'block' : 'none';\n",
              "    })();\n",
              "  </script>\n",
              "</div>\n",
              "    </div>\n",
              "  </div>\n"
            ]
          },
          "metadata": {},
          "execution_count": 5
        }
      ]
    },
    {
      "cell_type": "code",
      "source": [
        "unique_counts = df.nunique()\n",
        "unique_counts"
      ],
      "metadata": {
        "colab": {
          "base_uri": "https://localhost:8080/"
        },
        "id": "IWxZWnjCO0bC",
        "outputId": "52246599-3c9c-424d-9439-6f6790e902cd"
      },
      "execution_count": 7,
      "outputs": [
        {
          "output_type": "execute_result",
          "data": {
            "text/plain": [
              "STATION            6911\n",
              "Country/Region      187\n",
              "DATE                188\n",
              "Year                  1\n",
              "Month                 7\n",
              "Day                  31\n",
              "PRCP               1353\n",
              "SNWD                779\n",
              "TAVG               1771\n",
              "TMAX               1075\n",
              "TMIN               1001\n",
              "SNOW                242\n",
              "LATITUDE           1219\n",
              "LONGITUDE          1473\n",
              "ELEVATION           992\n",
              "PRCP_ATTRIBUTES       3\n",
              "TAVG_ATTRIBUTES       1\n",
              "TMAX_ATTRIBUTES       3\n",
              "TMIN_ATTRIBUTES       3\n",
              "DAPR                 46\n",
              "MDPR                 48\n",
              "WESD                  2\n",
              "SNWD_ATTRIBUTES       4\n",
              "dtype: int64"
            ]
          },
          "metadata": {},
          "execution_count": 7
        }
      ]
    },
    {
      "cell_type": "code",
      "source": [
        "df.shape"
      ],
      "metadata": {
        "id": "sWv05Ww3gzUm",
        "colab": {
          "base_uri": "https://localhost:8080/"
        },
        "outputId": "28e7c7ee-ebe0-40ba-8054-3764dc7fa0ef"
      },
      "execution_count": 8,
      "outputs": [
        {
          "output_type": "execute_result",
          "data": {
            "text/plain": [
              "(1392575, 23)"
            ]
          },
          "metadata": {},
          "execution_count": 8
        }
      ]
    },
    {
      "cell_type": "code",
      "source": [
        "df.columns"
      ],
      "metadata": {
        "id": "jb_mUxM0gzTD",
        "colab": {
          "base_uri": "https://localhost:8080/"
        },
        "outputId": "9e7b4f9a-fb9f-470f-ef7b-5a6521359b11"
      },
      "execution_count": 9,
      "outputs": [
        {
          "output_type": "execute_result",
          "data": {
            "text/plain": [
              "Index(['STATION', 'Country/Region', 'DATE', 'Year', 'Month', 'Day', 'PRCP',\n",
              "       'SNWD', 'TAVG', 'TMAX', 'TMIN', 'SNOW', 'LATITUDE', 'LONGITUDE',\n",
              "       'ELEVATION', 'PRCP_ATTRIBUTES', 'TAVG_ATTRIBUTES', 'TMAX_ATTRIBUTES',\n",
              "       'TMIN_ATTRIBUTES', 'DAPR', 'MDPR', 'WESD', 'SNWD_ATTRIBUTES'],\n",
              "      dtype='object')"
            ]
          },
          "metadata": {},
          "execution_count": 9
        }
      ]
    },
    {
      "cell_type": "code",
      "source": [
        "df.describe()"
      ],
      "metadata": {
        "id": "-mwuZnQVgzOM",
        "colab": {
          "base_uri": "https://localhost:8080/",
          "height": 320
        },
        "outputId": "32148f88-19c4-4738-b629-464d295bf0f7"
      },
      "execution_count": 10,
      "outputs": [
        {
          "output_type": "execute_result",
          "data": {
            "text/plain": [
              "            Year         Month           Day          PRCP           SNWD  \\\n",
              "count  1392575.0  1.392575e+06  1.392575e+06  1.043369e+06  377429.000000   \n",
              "mean      2020.0  4.279517e+00  1.595168e+01  2.564688e+00     120.712848   \n",
              "std          0.0  1.812637e+00  8.770296e+00  8.035237e+00     293.874318   \n",
              "min       2020.0  1.000000e+00  1.000000e+00  0.000000e+00     -20.000000   \n",
              "25%       2020.0  3.000000e+00  8.000000e+00  0.000000e+00       0.000000   \n",
              "50%       2020.0  4.000000e+00  1.600000e+01  0.000000e+00       0.000000   \n",
              "75%       2020.0  6.000000e+00  2.400000e+01  1.500000e+00      99.000000   \n",
              "max       2020.0  7.000000e+00  3.100000e+01  4.849000e+02   52900.000000   \n",
              "\n",
              "                TAVG           TMAX           TMIN           SNOW  \\\n",
              "count  878632.000000  866705.000000  898381.000000  105392.000000   \n",
              "mean       14.814992      17.412551       7.093554       3.742760   \n",
              "std        13.063075      12.707588      12.227766      19.093372   \n",
              "min       -56.200000     -55.000000     -65.000000       0.000000   \n",
              "25%         6.700000       8.400000       0.000000       0.000000   \n",
              "50%        16.800000      18.500000       7.700000       0.000000   \n",
              "75%        25.600000      27.222222      15.600000       0.000000   \n",
              "max        43.300000      51.200000      36.700000     625.000000   \n",
              "\n",
              "            LATITUDE      LONGITUDE      ELEVATION         DAPR       MDPR  \\\n",
              "count  104742.000000  104742.000000  104742.000000  1293.000000  81.000000   \n",
              "mean       37.689351      71.371220     787.542437     5.292343   0.958025   \n",
              "std        11.572761      71.760255    1094.757321     7.121322   1.653137   \n",
              "min       -17.817000    -140.850000       0.600000     1.000000   0.000000   \n",
              "25%        30.667000      75.983000      68.000000     2.000000   0.000000   \n",
              "50%        37.850000     104.500000     250.000000     3.000000   0.280000   \n",
              "75%        45.217000     116.117000    1099.000000     5.000000   1.510000   \n",
              "max        82.500000     131.983000    4701.000000    61.000000   9.240000   \n",
              "\n",
              "           WESD  \n",
              "count  2.000000  \n",
              "mean   0.050000  \n",
              "std    0.070711  \n",
              "min    0.000000  \n",
              "25%    0.025000  \n",
              "50%    0.050000  \n",
              "75%    0.075000  \n",
              "max    0.100000  "
            ],
            "text/html": [
              "\n",
              "  <div id=\"df-84f533a6-f5fa-4a5f-a572-bb5923f5a50e\" class=\"colab-df-container\">\n",
              "    <div>\n",
              "<style scoped>\n",
              "    .dataframe tbody tr th:only-of-type {\n",
              "        vertical-align: middle;\n",
              "    }\n",
              "\n",
              "    .dataframe tbody tr th {\n",
              "        vertical-align: top;\n",
              "    }\n",
              "\n",
              "    .dataframe thead th {\n",
              "        text-align: right;\n",
              "    }\n",
              "</style>\n",
              "<table border=\"1\" class=\"dataframe\">\n",
              "  <thead>\n",
              "    <tr style=\"text-align: right;\">\n",
              "      <th></th>\n",
              "      <th>Year</th>\n",
              "      <th>Month</th>\n",
              "      <th>Day</th>\n",
              "      <th>PRCP</th>\n",
              "      <th>SNWD</th>\n",
              "      <th>TAVG</th>\n",
              "      <th>TMAX</th>\n",
              "      <th>TMIN</th>\n",
              "      <th>SNOW</th>\n",
              "      <th>LATITUDE</th>\n",
              "      <th>LONGITUDE</th>\n",
              "      <th>ELEVATION</th>\n",
              "      <th>DAPR</th>\n",
              "      <th>MDPR</th>\n",
              "      <th>WESD</th>\n",
              "    </tr>\n",
              "  </thead>\n",
              "  <tbody>\n",
              "    <tr>\n",
              "      <th>count</th>\n",
              "      <td>1392575.0</td>\n",
              "      <td>1.392575e+06</td>\n",
              "      <td>1.392575e+06</td>\n",
              "      <td>1.043369e+06</td>\n",
              "      <td>377429.000000</td>\n",
              "      <td>878632.000000</td>\n",
              "      <td>866705.000000</td>\n",
              "      <td>898381.000000</td>\n",
              "      <td>105392.000000</td>\n",
              "      <td>104742.000000</td>\n",
              "      <td>104742.000000</td>\n",
              "      <td>104742.000000</td>\n",
              "      <td>1293.000000</td>\n",
              "      <td>81.000000</td>\n",
              "      <td>2.000000</td>\n",
              "    </tr>\n",
              "    <tr>\n",
              "      <th>mean</th>\n",
              "      <td>2020.0</td>\n",
              "      <td>4.279517e+00</td>\n",
              "      <td>1.595168e+01</td>\n",
              "      <td>2.564688e+00</td>\n",
              "      <td>120.712848</td>\n",
              "      <td>14.814992</td>\n",
              "      <td>17.412551</td>\n",
              "      <td>7.093554</td>\n",
              "      <td>3.742760</td>\n",
              "      <td>37.689351</td>\n",
              "      <td>71.371220</td>\n",
              "      <td>787.542437</td>\n",
              "      <td>5.292343</td>\n",
              "      <td>0.958025</td>\n",
              "      <td>0.050000</td>\n",
              "    </tr>\n",
              "    <tr>\n",
              "      <th>std</th>\n",
              "      <td>0.0</td>\n",
              "      <td>1.812637e+00</td>\n",
              "      <td>8.770296e+00</td>\n",
              "      <td>8.035237e+00</td>\n",
              "      <td>293.874318</td>\n",
              "      <td>13.063075</td>\n",
              "      <td>12.707588</td>\n",
              "      <td>12.227766</td>\n",
              "      <td>19.093372</td>\n",
              "      <td>11.572761</td>\n",
              "      <td>71.760255</td>\n",
              "      <td>1094.757321</td>\n",
              "      <td>7.121322</td>\n",
              "      <td>1.653137</td>\n",
              "      <td>0.070711</td>\n",
              "    </tr>\n",
              "    <tr>\n",
              "      <th>min</th>\n",
              "      <td>2020.0</td>\n",
              "      <td>1.000000e+00</td>\n",
              "      <td>1.000000e+00</td>\n",
              "      <td>0.000000e+00</td>\n",
              "      <td>-20.000000</td>\n",
              "      <td>-56.200000</td>\n",
              "      <td>-55.000000</td>\n",
              "      <td>-65.000000</td>\n",
              "      <td>0.000000</td>\n",
              "      <td>-17.817000</td>\n",
              "      <td>-140.850000</td>\n",
              "      <td>0.600000</td>\n",
              "      <td>1.000000</td>\n",
              "      <td>0.000000</td>\n",
              "      <td>0.000000</td>\n",
              "    </tr>\n",
              "    <tr>\n",
              "      <th>25%</th>\n",
              "      <td>2020.0</td>\n",
              "      <td>3.000000e+00</td>\n",
              "      <td>8.000000e+00</td>\n",
              "      <td>0.000000e+00</td>\n",
              "      <td>0.000000</td>\n",
              "      <td>6.700000</td>\n",
              "      <td>8.400000</td>\n",
              "      <td>0.000000</td>\n",
              "      <td>0.000000</td>\n",
              "      <td>30.667000</td>\n",
              "      <td>75.983000</td>\n",
              "      <td>68.000000</td>\n",
              "      <td>2.000000</td>\n",
              "      <td>0.000000</td>\n",
              "      <td>0.025000</td>\n",
              "    </tr>\n",
              "    <tr>\n",
              "      <th>50%</th>\n",
              "      <td>2020.0</td>\n",
              "      <td>4.000000e+00</td>\n",
              "      <td>1.600000e+01</td>\n",
              "      <td>0.000000e+00</td>\n",
              "      <td>0.000000</td>\n",
              "      <td>16.800000</td>\n",
              "      <td>18.500000</td>\n",
              "      <td>7.700000</td>\n",
              "      <td>0.000000</td>\n",
              "      <td>37.850000</td>\n",
              "      <td>104.500000</td>\n",
              "      <td>250.000000</td>\n",
              "      <td>3.000000</td>\n",
              "      <td>0.280000</td>\n",
              "      <td>0.050000</td>\n",
              "    </tr>\n",
              "    <tr>\n",
              "      <th>75%</th>\n",
              "      <td>2020.0</td>\n",
              "      <td>6.000000e+00</td>\n",
              "      <td>2.400000e+01</td>\n",
              "      <td>1.500000e+00</td>\n",
              "      <td>99.000000</td>\n",
              "      <td>25.600000</td>\n",
              "      <td>27.222222</td>\n",
              "      <td>15.600000</td>\n",
              "      <td>0.000000</td>\n",
              "      <td>45.217000</td>\n",
              "      <td>116.117000</td>\n",
              "      <td>1099.000000</td>\n",
              "      <td>5.000000</td>\n",
              "      <td>1.510000</td>\n",
              "      <td>0.075000</td>\n",
              "    </tr>\n",
              "    <tr>\n",
              "      <th>max</th>\n",
              "      <td>2020.0</td>\n",
              "      <td>7.000000e+00</td>\n",
              "      <td>3.100000e+01</td>\n",
              "      <td>4.849000e+02</td>\n",
              "      <td>52900.000000</td>\n",
              "      <td>43.300000</td>\n",
              "      <td>51.200000</td>\n",
              "      <td>36.700000</td>\n",
              "      <td>625.000000</td>\n",
              "      <td>82.500000</td>\n",
              "      <td>131.983000</td>\n",
              "      <td>4701.000000</td>\n",
              "      <td>61.000000</td>\n",
              "      <td>9.240000</td>\n",
              "      <td>0.100000</td>\n",
              "    </tr>\n",
              "  </tbody>\n",
              "</table>\n",
              "</div>\n",
              "    <div class=\"colab-df-buttons\">\n",
              "\n",
              "  <div class=\"colab-df-container\">\n",
              "    <button class=\"colab-df-convert\" onclick=\"convertToInteractive('df-84f533a6-f5fa-4a5f-a572-bb5923f5a50e')\"\n",
              "            title=\"Convert this dataframe to an interactive table.\"\n",
              "            style=\"display:none;\">\n",
              "\n",
              "  <svg xmlns=\"http://www.w3.org/2000/svg\" height=\"24px\" viewBox=\"0 -960 960 960\">\n",
              "    <path d=\"M120-120v-720h720v720H120Zm60-500h600v-160H180v160Zm220 220h160v-160H400v160Zm0 220h160v-160H400v160ZM180-400h160v-160H180v160Zm440 0h160v-160H620v160ZM180-180h160v-160H180v160Zm440 0h160v-160H620v160Z\"/>\n",
              "  </svg>\n",
              "    </button>\n",
              "\n",
              "  <style>\n",
              "    .colab-df-container {\n",
              "      display:flex;\n",
              "      gap: 12px;\n",
              "    }\n",
              "\n",
              "    .colab-df-convert {\n",
              "      background-color: #E8F0FE;\n",
              "      border: none;\n",
              "      border-radius: 50%;\n",
              "      cursor: pointer;\n",
              "      display: none;\n",
              "      fill: #1967D2;\n",
              "      height: 32px;\n",
              "      padding: 0 0 0 0;\n",
              "      width: 32px;\n",
              "    }\n",
              "\n",
              "    .colab-df-convert:hover {\n",
              "      background-color: #E2EBFA;\n",
              "      box-shadow: 0px 1px 2px rgba(60, 64, 67, 0.3), 0px 1px 3px 1px rgba(60, 64, 67, 0.15);\n",
              "      fill: #174EA6;\n",
              "    }\n",
              "\n",
              "    .colab-df-buttons div {\n",
              "      margin-bottom: 4px;\n",
              "    }\n",
              "\n",
              "    [theme=dark] .colab-df-convert {\n",
              "      background-color: #3B4455;\n",
              "      fill: #D2E3FC;\n",
              "    }\n",
              "\n",
              "    [theme=dark] .colab-df-convert:hover {\n",
              "      background-color: #434B5C;\n",
              "      box-shadow: 0px 1px 3px 1px rgba(0, 0, 0, 0.15);\n",
              "      filter: drop-shadow(0px 1px 2px rgba(0, 0, 0, 0.3));\n",
              "      fill: #FFFFFF;\n",
              "    }\n",
              "  </style>\n",
              "\n",
              "    <script>\n",
              "      const buttonEl =\n",
              "        document.querySelector('#df-84f533a6-f5fa-4a5f-a572-bb5923f5a50e button.colab-df-convert');\n",
              "      buttonEl.style.display =\n",
              "        google.colab.kernel.accessAllowed ? 'block' : 'none';\n",
              "\n",
              "      async function convertToInteractive(key) {\n",
              "        const element = document.querySelector('#df-84f533a6-f5fa-4a5f-a572-bb5923f5a50e');\n",
              "        const dataTable =\n",
              "          await google.colab.kernel.invokeFunction('convertToInteractive',\n",
              "                                                    [key], {});\n",
              "        if (!dataTable) return;\n",
              "\n",
              "        const docLinkHtml = 'Like what you see? Visit the ' +\n",
              "          '<a target=\"_blank\" href=https://colab.research.google.com/notebooks/data_table.ipynb>data table notebook</a>'\n",
              "          + ' to learn more about interactive tables.';\n",
              "        element.innerHTML = '';\n",
              "        dataTable['output_type'] = 'display_data';\n",
              "        await google.colab.output.renderOutput(dataTable, element);\n",
              "        const docLink = document.createElement('div');\n",
              "        docLink.innerHTML = docLinkHtml;\n",
              "        element.appendChild(docLink);\n",
              "      }\n",
              "    </script>\n",
              "  </div>\n",
              "\n",
              "\n",
              "<div id=\"df-cfc08a95-8a14-47fb-b166-229e79e4d641\">\n",
              "  <button class=\"colab-df-quickchart\" onclick=\"quickchart('df-cfc08a95-8a14-47fb-b166-229e79e4d641')\"\n",
              "            title=\"Suggest charts.\"\n",
              "            style=\"display:none;\">\n",
              "\n",
              "<svg xmlns=\"http://www.w3.org/2000/svg\" height=\"24px\"viewBox=\"0 0 24 24\"\n",
              "     width=\"24px\">\n",
              "    <g>\n",
              "        <path d=\"M19 3H5c-1.1 0-2 .9-2 2v14c0 1.1.9 2 2 2h14c1.1 0 2-.9 2-2V5c0-1.1-.9-2-2-2zM9 17H7v-7h2v7zm4 0h-2V7h2v10zm4 0h-2v-4h2v4z\"/>\n",
              "    </g>\n",
              "</svg>\n",
              "  </button>\n",
              "\n",
              "<style>\n",
              "  .colab-df-quickchart {\n",
              "      --bg-color: #E8F0FE;\n",
              "      --fill-color: #1967D2;\n",
              "      --hover-bg-color: #E2EBFA;\n",
              "      --hover-fill-color: #174EA6;\n",
              "      --disabled-fill-color: #AAA;\n",
              "      --disabled-bg-color: #DDD;\n",
              "  }\n",
              "\n",
              "  [theme=dark] .colab-df-quickchart {\n",
              "      --bg-color: #3B4455;\n",
              "      --fill-color: #D2E3FC;\n",
              "      --hover-bg-color: #434B5C;\n",
              "      --hover-fill-color: #FFFFFF;\n",
              "      --disabled-bg-color: #3B4455;\n",
              "      --disabled-fill-color: #666;\n",
              "  }\n",
              "\n",
              "  .colab-df-quickchart {\n",
              "    background-color: var(--bg-color);\n",
              "    border: none;\n",
              "    border-radius: 50%;\n",
              "    cursor: pointer;\n",
              "    display: none;\n",
              "    fill: var(--fill-color);\n",
              "    height: 32px;\n",
              "    padding: 0;\n",
              "    width: 32px;\n",
              "  }\n",
              "\n",
              "  .colab-df-quickchart:hover {\n",
              "    background-color: var(--hover-bg-color);\n",
              "    box-shadow: 0 1px 2px rgba(60, 64, 67, 0.3), 0 1px 3px 1px rgba(60, 64, 67, 0.15);\n",
              "    fill: var(--button-hover-fill-color);\n",
              "  }\n",
              "\n",
              "  .colab-df-quickchart-complete:disabled,\n",
              "  .colab-df-quickchart-complete:disabled:hover {\n",
              "    background-color: var(--disabled-bg-color);\n",
              "    fill: var(--disabled-fill-color);\n",
              "    box-shadow: none;\n",
              "  }\n",
              "\n",
              "  .colab-df-spinner {\n",
              "    border: 2px solid var(--fill-color);\n",
              "    border-color: transparent;\n",
              "    border-bottom-color: var(--fill-color);\n",
              "    animation:\n",
              "      spin 1s steps(1) infinite;\n",
              "  }\n",
              "\n",
              "  @keyframes spin {\n",
              "    0% {\n",
              "      border-color: transparent;\n",
              "      border-bottom-color: var(--fill-color);\n",
              "      border-left-color: var(--fill-color);\n",
              "    }\n",
              "    20% {\n",
              "      border-color: transparent;\n",
              "      border-left-color: var(--fill-color);\n",
              "      border-top-color: var(--fill-color);\n",
              "    }\n",
              "    30% {\n",
              "      border-color: transparent;\n",
              "      border-left-color: var(--fill-color);\n",
              "      border-top-color: var(--fill-color);\n",
              "      border-right-color: var(--fill-color);\n",
              "    }\n",
              "    40% {\n",
              "      border-color: transparent;\n",
              "      border-right-color: var(--fill-color);\n",
              "      border-top-color: var(--fill-color);\n",
              "    }\n",
              "    60% {\n",
              "      border-color: transparent;\n",
              "      border-right-color: var(--fill-color);\n",
              "    }\n",
              "    80% {\n",
              "      border-color: transparent;\n",
              "      border-right-color: var(--fill-color);\n",
              "      border-bottom-color: var(--fill-color);\n",
              "    }\n",
              "    90% {\n",
              "      border-color: transparent;\n",
              "      border-bottom-color: var(--fill-color);\n",
              "    }\n",
              "  }\n",
              "</style>\n",
              "\n",
              "  <script>\n",
              "    async function quickchart(key) {\n",
              "      const quickchartButtonEl =\n",
              "        document.querySelector('#' + key + ' button');\n",
              "      quickchartButtonEl.disabled = true;  // To prevent multiple clicks.\n",
              "      quickchartButtonEl.classList.add('colab-df-spinner');\n",
              "      try {\n",
              "        const charts = await google.colab.kernel.invokeFunction(\n",
              "            'suggestCharts', [key], {});\n",
              "      } catch (error) {\n",
              "        console.error('Error during call to suggestCharts:', error);\n",
              "      }\n",
              "      quickchartButtonEl.classList.remove('colab-df-spinner');\n",
              "      quickchartButtonEl.classList.add('colab-df-quickchart-complete');\n",
              "    }\n",
              "    (() => {\n",
              "      let quickchartButtonEl =\n",
              "        document.querySelector('#df-cfc08a95-8a14-47fb-b166-229e79e4d641 button');\n",
              "      quickchartButtonEl.style.display =\n",
              "        google.colab.kernel.accessAllowed ? 'block' : 'none';\n",
              "    })();\n",
              "  </script>\n",
              "</div>\n",
              "    </div>\n",
              "  </div>\n"
            ]
          },
          "metadata": {},
          "execution_count": 10
        }
      ]
    },
    {
      "cell_type": "code",
      "source": [
        "df.info()"
      ],
      "metadata": {
        "colab": {
          "base_uri": "https://localhost:8080/"
        },
        "id": "g7V1zMNlSA6m",
        "outputId": "c5b3eaeb-0fbc-4be3-a766-30b9eba3a785"
      },
      "execution_count": 11,
      "outputs": [
        {
          "output_type": "stream",
          "name": "stdout",
          "text": [
            "<class 'pandas.core.frame.DataFrame'>\n",
            "Int64Index: 1392575 entries, 0 to 1392574\n",
            "Data columns (total 23 columns):\n",
            " #   Column           Non-Null Count    Dtype  \n",
            "---  ------           --------------    -----  \n",
            " 0   STATION          1392575 non-null  object \n",
            " 1   Country/Region   1392575 non-null  object \n",
            " 2   DATE             1392575 non-null  object \n",
            " 3   Year             1392575 non-null  int64  \n",
            " 4   Month            1392575 non-null  int64  \n",
            " 5   Day              1392575 non-null  int64  \n",
            " 6   PRCP             1043369 non-null  float64\n",
            " 7   SNWD             377429 non-null   float64\n",
            " 8   TAVG             878632 non-null   float64\n",
            " 9   TMAX             866705 non-null   float64\n",
            " 10  TMIN             898381 non-null   float64\n",
            " 11  SNOW             105392 non-null   float64\n",
            " 12  LATITUDE         104742 non-null   float64\n",
            " 13  LONGITUDE        104742 non-null   float64\n",
            " 14  ELEVATION        104742 non-null   float64\n",
            " 15  PRCP_ATTRIBUTES  6007 non-null     object \n",
            " 16  TAVG_ATTRIBUTES  3850 non-null     object \n",
            " 17  TMAX_ATTRIBUTES  5637 non-null     object \n",
            " 18  TMIN_ATTRIBUTES  5874 non-null     object \n",
            " 19  DAPR             1293 non-null     float64\n",
            " 20  MDPR             81 non-null       float64\n",
            " 21  WESD             2 non-null        float64\n",
            " 22  SNWD_ATTRIBUTES  354 non-null      object \n",
            "dtypes: float64(12), int64(3), object(8)\n",
            "memory usage: 255.0+ MB\n"
          ]
        }
      ]
    },
    {
      "cell_type": "markdown",
      "source": [
        "Checking number of null values in dataset featurewise"
      ],
      "metadata": {
        "id": "LR2B52O4J3-d"
      }
    },
    {
      "cell_type": "code",
      "source": [
        "df.isnull().sum()"
      ],
      "metadata": {
        "colab": {
          "base_uri": "https://localhost:8080/"
        },
        "id": "TM1HE7fUMjs7",
        "outputId": "a19c73c9-7604-4542-fd82-42b3a16bcdc8"
      },
      "execution_count": 12,
      "outputs": [
        {
          "output_type": "execute_result",
          "data": {
            "text/plain": [
              "STATION                  0\n",
              "Country/Region           0\n",
              "DATE                     0\n",
              "Year                     0\n",
              "Month                    0\n",
              "Day                      0\n",
              "PRCP                349206\n",
              "SNWD               1015146\n",
              "TAVG                513943\n",
              "TMAX                525870\n",
              "TMIN                494194\n",
              "SNOW               1287183\n",
              "LATITUDE           1287833\n",
              "LONGITUDE          1287833\n",
              "ELEVATION          1287833\n",
              "PRCP_ATTRIBUTES    1386568\n",
              "TAVG_ATTRIBUTES    1388725\n",
              "TMAX_ATTRIBUTES    1386938\n",
              "TMIN_ATTRIBUTES    1386701\n",
              "DAPR               1391282\n",
              "MDPR               1392494\n",
              "WESD               1392573\n",
              "SNWD_ATTRIBUTES    1392221\n",
              "dtype: int64"
            ]
          },
          "metadata": {},
          "execution_count": 12
        }
      ]
    },
    {
      "cell_type": "code",
      "source": [],
      "metadata": {
        "id": "rMFWdP5KGVwO"
      },
      "execution_count": 12,
      "outputs": []
    },
    {
      "cell_type": "markdown",
      "source": [
        "Droping columns.It can be observed so many columns are dropped reason for it is as seen above many column has more than half of its value missing or ull and if we try to fill this value it will affect our prediction models."
      ],
      "metadata": {
        "id": "wUHUGHroJ-Cn"
      }
    },
    {
      "cell_type": "code",
      "source": [
        "df1 = df.drop(['ELEVATION', 'PRCP_ATTRIBUTES','TAVG_ATTRIBUTES','TMAX_ATTRIBUTES','TMIN_ATTRIBUTES','DAPR','MDPR','WESD','SNWD_ATTRIBUTES','Year','SNOW','LATITUDE','LONGITUDE','SNWD'], axis=1)"
      ],
      "metadata": {
        "id": "Qy_mgkSlMqpd"
      },
      "execution_count": 13,
      "outputs": []
    },
    {
      "cell_type": "code",
      "source": [
        "df1.columns"
      ],
      "metadata": {
        "id": "2O66HbuSM0-I",
        "colab": {
          "base_uri": "https://localhost:8080/"
        },
        "outputId": "6a1a8c69-e75e-4a39-be49-787a9fcabdf8"
      },
      "execution_count": 14,
      "outputs": [
        {
          "output_type": "execute_result",
          "data": {
            "text/plain": [
              "Index(['STATION', 'Country/Region', 'DATE', 'Month', 'Day', 'PRCP', 'TAVG',\n",
              "       'TMAX', 'TMIN'],\n",
              "      dtype='object')"
            ]
          },
          "metadata": {},
          "execution_count": 14
        }
      ]
    },
    {
      "cell_type": "code",
      "source": [
        "df1.isnull().sum()"
      ],
      "metadata": {
        "colab": {
          "base_uri": "https://localhost:8080/"
        },
        "id": "7oT47haABJSu",
        "outputId": "69c7edfb-5e1b-48bf-eab4-4b84cf9300ca"
      },
      "execution_count": 15,
      "outputs": [
        {
          "output_type": "execute_result",
          "data": {
            "text/plain": [
              "STATION                0\n",
              "Country/Region         0\n",
              "DATE                   0\n",
              "Month                  0\n",
              "Day                    0\n",
              "PRCP              349206\n",
              "TAVG              513943\n",
              "TMAX              525870\n",
              "TMIN              494194\n",
              "dtype: int64"
            ]
          },
          "metadata": {},
          "execution_count": 15
        }
      ]
    },
    {
      "cell_type": "code",
      "source": [
        "import matplotlib.pyplot as plt\n"
      ],
      "metadata": {
        "id": "WOEBTullLkxb"
      },
      "execution_count": 16,
      "outputs": []
    },
    {
      "cell_type": "markdown",
      "source": [
        "There is need to fill the missing values which are left after performing drop of columns.For that purpose we have first grouped our dataset,the features used for grouping are Country/Region,station and month.After grouping we have calculated median of the group formed for TAVG,TMIN,TMAX,TMIN.Here we have just calculated median and have not filled any missing value yet.Then we have converted this median to a dictionary."
      ],
      "metadata": {
        "id": "1Rll7ZoiKSB8"
      }
    },
    {
      "cell_type": "code",
      "source": [
        "dfnew = df1.copy()\n",
        "average_temp = dfnew.groupby(['Country/Region','STATION','Month'])['TAVG'].median().to_dict()\n",
        "average_temp_min = dfnew.groupby(['Country/Region','STATION','Month'])['TMIN'].median().to_dict()\n",
        "average_temp_max = dfnew.groupby(['Country/Region','STATION','Month'])['TMAX'].median().to_dict()\n",
        "average_prcp = dfnew.groupby(['Country/Region','STATION','Month'])['PRCP'].median().to_dict()\n",
        "print(len(average_temp_min))\n",
        "print(len(average_temp_max))\n",
        "print(len(average_temp))\n",
        "print(len(average_prcp))"
      ],
      "metadata": {
        "colab": {
          "base_uri": "https://localhost:8080/"
        },
        "id": "KTzMagA5G9k3",
        "outputId": "91e88c78-b296-431e-a2cf-14f01d404d63"
      },
      "execution_count": 17,
      "outputs": [
        {
          "output_type": "stream",
          "name": "stdout",
          "text": [
            "53299\n",
            "53299\n",
            "53299\n",
            "53299\n"
          ]
        }
      ]
    },
    {
      "cell_type": "code",
      "source": [
        "dfnew.shape"
      ],
      "metadata": {
        "colab": {
          "base_uri": "https://localhost:8080/"
        },
        "id": "jUStuo7vAZq2",
        "outputId": "b2b54cdf-c874-4f24-f544-8963ab77d255"
      },
      "execution_count": 18,
      "outputs": [
        {
          "output_type": "execute_result",
          "data": {
            "text/plain": [
              "(1392575, 9)"
            ]
          },
          "metadata": {},
          "execution_count": 18
        }
      ]
    },
    {
      "cell_type": "markdown",
      "source": [
        "We have plotted heatmap to observe the correlation between attributes and it can be observed tha day and month are the least correlated attributes."
      ],
      "metadata": {
        "id": "s2OzLdNyMQVa"
      }
    },
    {
      "cell_type": "code",
      "source": [
        "\n",
        "sns.heatmap(dfnew.corr())"
      ],
      "metadata": {
        "colab": {
          "base_uri": "https://localhost:8080/",
          "height": 507
        },
        "id": "-yioxVz76U_B",
        "outputId": "e4dd69d2-2c34-4a5d-e374-56757ef49e61"
      },
      "execution_count": 19,
      "outputs": [
        {
          "output_type": "stream",
          "name": "stderr",
          "text": [
            "<ipython-input-19-219072a17b51>:1: FutureWarning: The default value of numeric_only in DataFrame.corr is deprecated. In a future version, it will default to False. Select only valid columns or specify the value of numeric_only to silence this warning.\n",
            "  sns.heatmap(dfnew.corr())\n"
          ]
        },
        {
          "output_type": "execute_result",
          "data": {
            "text/plain": [
              "<Axes: >"
            ]
          },
          "metadata": {},
          "execution_count": 19
        },
        {
          "output_type": "display_data",
          "data": {
            "text/plain": [
              "<Figure size 640x480 with 2 Axes>"
            ],
            "image/png": "[encoded data removed]"
          },
          "metadata": {}
        }
      ]
    },
    {
      "cell_type": "markdown",
      "source": [
        "In next cell we have filled the missing value"
      ],
      "metadata": {
        "id": "k76zLE9qMkDr"
      }
    },
    {
      "cell_type": "code",
      "source": [
        "def fill_missing(row,temp_type):\n",
        "    key = (row['Country/Region'],row['STATION'], row['Month'])\n",
        "    if(temp_type == 'TAVG'):\n",
        "      return average_temp.get(key, row[temp_type])\n",
        "    elif(temp_type == 'TMIN'):\n",
        "      return average_temp_min.get(key, row[temp_type])\n",
        "    elif(temp_type == 'PRCP'):\n",
        "      return average_prcp.get(key, row[temp_type])\n",
        "    else:\n",
        "      return average_temp_max.get(key, row[temp_type])\n",
        "\n",
        "\n",
        "dfnew['TAVG'] = dfnew.apply(fill_missing, args=['TAVG'] ,axis = 1)\n",
        "dfnew['TMIN'] = dfnew.apply(fill_missing, args=['TMIN'] ,axis = 1)\n",
        "dfnew['TMAX'] = dfnew.apply(fill_missing, args=['TMAX'] ,axis = 1)\n",
        "dfnew['PRCP'] = dfnew.apply(fill_missing, args=['PRCP'] ,axis = 1)\n",
        "dfnew.isnull().sum()"
      ],
      "metadata": {
        "colab": {
          "base_uri": "https://localhost:8080/"
        },
        "id": "dJBZ57RJG9gf",
        "outputId": "9bea4880-7c95-4f63-cc44-221f3cc19176"
      },
      "execution_count": 20,
      "outputs": [
        {
          "output_type": "execute_result",
          "data": {
            "text/plain": [
              "STATION                0\n",
              "Country/Region         0\n",
              "DATE                   0\n",
              "Month                  0\n",
              "Day                    0\n",
              "PRCP              188290\n",
              "TAVG              510753\n",
              "TMAX              386113\n",
              "TMIN              328369\n",
              "dtype: int64"
            ]
          },
          "metadata": {},
          "execution_count": 20
        }
      ]
    },
    {
      "cell_type": "code",
      "source": [
        "\n",
        "df_final=df1.dropna()"
      ],
      "metadata": {
        "id": "ZLyTxrHjG9eF"
      },
      "execution_count": 21,
      "outputs": []
    },
    {
      "cell_type": "code",
      "source": [
        "\n",
        "df_final.isnull().sum()"
      ],
      "metadata": {
        "colab": {
          "base_uri": "https://localhost:8080/"
        },
        "id": "6ryngXRrG9Y0",
        "outputId": "87afb7fc-4f66-468e-d42c-10590a69e331"
      },
      "execution_count": 22,
      "outputs": [
        {
          "output_type": "execute_result",
          "data": {
            "text/plain": [
              "STATION           0\n",
              "Country/Region    0\n",
              "DATE              0\n",
              "Month             0\n",
              "Day               0\n",
              "PRCP              0\n",
              "TAVG              0\n",
              "TMAX              0\n",
              "TMIN              0\n",
              "dtype: int64"
            ]
          },
          "metadata": {},
          "execution_count": 22
        }
      ]
    },
    {
      "cell_type": "code",
      "source": [
        "df_final.shape"
      ],
      "metadata": {
        "colab": {
          "base_uri": "https://localhost:8080/"
        },
        "id": "NXzn4FdbO8MQ",
        "outputId": "75b43c1a-48f8-4934-f334-c9acb34c3755"
      },
      "execution_count": 23,
      "outputs": [
        {
          "output_type": "execute_result",
          "data": {
            "text/plain": [
              "(402632, 9)"
            ]
          },
          "metadata": {},
          "execution_count": 23
        }
      ]
    },
    {
      "cell_type": "markdown",
      "source": [
        "As we have various countries present in the Country/Region feature and we have to predict it sowe are labellig it using label encoder.It gives unique id to each unique occurence and replaces string label to numerical labes."
      ],
      "metadata": {
        "id": "8DPEXTMgOhH7"
      }
    },
    {
      "cell_type": "code",
      "source": [
        "from sklearn.preprocessing import LabelEncoder\n",
        "\n",
        "label_encoder = LabelEncoder()\n",
        "df_final['Country/Region'] = label_encoder.fit_transform(df_final['Country/Region'])\n",
        "\n",
        "print(df_final)"
      ],
      "metadata": {
        "colab": {
          "base_uri": "https://localhost:8080/"
        },
        "id": "T0n2KOOxG9Wy",
        "outputId": "7f599ce1-eb3d-43ee-e8e5-953869835bb9"
      },
      "execution_count": 24,
      "outputs": [
        {
          "output_type": "stream",
          "name": "stdout",
          "text": [
            "             STATION  Country/Region        DATE  Month  Day  PRCP  TAVG  \\\n",
            "0        TZ000063894              35  2020-01-22      1   22  10.9  27.6   \n",
            "2        TZ000063894              35  2020-01-24      1   24   9.4  27.9   \n",
            "3        TZ000063894              35  2020-01-25      1   25   0.3  27.9   \n",
            "7        TZ000063894              35  2020-01-29      1   29   5.1  28.6   \n",
            "27       TZ000063894              35  2020-02-18      2   18   0.3  29.4   \n",
            "...              ...             ...         ...    ...  ...   ...   ...   \n",
            "1392257  COM00080009              34  2020-03-19      3   19   0.0  29.8   \n",
            "1392258  COM00080009              34  2020-03-20      3   20   0.0  29.8   \n",
            "1392261  COM00080009              34  2020-03-23      3   23   0.0  29.5   \n",
            "1392424  COM00080091              34  2020-02-27      2   27   0.5  28.7   \n",
            "1392427  COM00080091              34  2020-03-01      3    1   0.0  31.8   \n",
            "\n",
            "         TMAX  TMIN  \n",
            "0        30.2  24.9  \n",
            "2        30.6  25.6  \n",
            "3        30.2  16.3  \n",
            "7        32.5  26.0  \n",
            "27       34.0  25.7  \n",
            "...       ...   ...  \n",
            "1392257  35.9  23.9  \n",
            "1392258  35.7  24.3  \n",
            "1392261  35.2  23.2  \n",
            "1392424  34.2  24.0  \n",
            "1392427  35.2  25.0  \n",
            "\n",
            "[402632 rows x 9 columns]\n"
          ]
        },
        {
          "output_type": "stream",
          "name": "stderr",
          "text": [
            "<ipython-input-24-21fd96c83560>:4: SettingWithCopyWarning: \n",
            "A value is trying to be set on a copy of a slice from a DataFrame.\n",
            "Try using .loc[row_indexer,col_indexer] = value instead\n",
            "\n",
            "See the caveats in the documentation: https://pandas.pydata.org/pandas-docs/stable/user_guide/indexing.html#returning-a-view-versus-a-copy\n",
            "  df_final['Country/Region'] = label_encoder.fit_transform(df_final['Country/Region'])\n"
          ]
        }
      ]
    },
    {
      "cell_type": "code",
      "source": [
        "\n",
        "df_final.head()"
      ],
      "metadata": {
        "colab": {
          "base_uri": "https://localhost:8080/",
          "height": 206
        },
        "id": "6_yxqLAYG9R_",
        "outputId": "74f89337-c408-4bf0-9445-09ec3b183807"
      },
      "execution_count": 25,
      "outputs": [
        {
          "output_type": "execute_result",
          "data": {
            "text/plain": [
              "        STATION  Country/Region        DATE  Month  Day  PRCP  TAVG  TMAX  \\\n",
              "0   TZ000063894              35  2020-01-22      1   22  10.9  27.6  30.2   \n",
              "2   TZ000063894              35  2020-01-24      1   24   9.4  27.9  30.6   \n",
              "3   TZ000063894              35  2020-01-25      1   25   0.3  27.9  30.2   \n",
              "7   TZ000063894              35  2020-01-29      1   29   5.1  28.6  32.5   \n",
              "27  TZ000063894              35  2020-02-18      2   18   0.3  29.4  34.0   \n",
              "\n",
              "    TMIN  \n",
              "0   24.9  \n",
              "2   25.6  \n",
              "3   16.3  \n",
              "7   26.0  \n",
              "27  25.7  "
            ],
            "text/html": [
              "\n",
              "  <div id=\"df-dcd16106-3eef-4d07-83a2-2cc44b9ec042\" class=\"colab-df-container\">\n",
              "    <div>\n",
              "<style scoped>\n",
              "    .dataframe tbody tr th:only-of-type {\n",
              "        vertical-align: middle;\n",
              "    }\n",
              "\n",
              "    .dataframe tbody tr th {\n",
              "        vertical-align: top;\n",
              "    }\n",
              "\n",
              "    .dataframe thead th {\n",
              "        text-align: right;\n",
              "    }\n",
              "</style>\n",
              "<table border=\"1\" class=\"dataframe\">\n",
              "  <thead>\n",
              "    <tr style=\"text-align: right;\">\n",
              "      <th></th>\n",
              "      <th>STATION</th>\n",
              "      <th>Country/Region</th>\n",
              "      <th>DATE</th>\n",
              "      <th>Month</th>\n",
              "      <th>Day</th>\n",
              "      <th>PRCP</th>\n",
              "      <th>TAVG</th>\n",
              "      <th>TMAX</th>\n",
              "      <th>TMIN</th>\n",
              "    </tr>\n",
              "  </thead>\n",
              "  <tbody>\n",
              "    <tr>\n",
              "      <th>0</th>\n",
              "      <td>TZ000063894</td>\n",
              "      <td>35</td>\n",
              "      <td>2020-01-22</td>\n",
              "      <td>1</td>\n",
              "      <td>22</td>\n",
              "      <td>10.9</td>\n",
              "      <td>27.6</td>\n",
              "      <td>30.2</td>\n",
              "      <td>24.9</td>\n",
              "    </tr>\n",
              "    <tr>\n",
              "      <th>2</th>\n",
              "      <td>TZ000063894</td>\n",
              "      <td>35</td>\n",
              "      <td>2020-01-24</td>\n",
              "      <td>1</td>\n",
              "      <td>24</td>\n",
              "      <td>9.4</td>\n",
              "      <td>27.9</td>\n",
              "      <td>30.6</td>\n",
              "      <td>25.6</td>\n",
              "    </tr>\n",
              "    <tr>\n",
              "      <th>3</th>\n",
              "      <td>TZ000063894</td>\n",
              "      <td>35</td>\n",
              "      <td>2020-01-25</td>\n",
              "      <td>1</td>\n",
              "      <td>25</td>\n",
              "      <td>0.3</td>\n",
              "      <td>27.9</td>\n",
              "      <td>30.2</td>\n",
              "      <td>16.3</td>\n",
              "    </tr>\n",
              "    <tr>\n",
              "      <th>7</th>\n",
              "      <td>TZ000063894</td>\n",
              "      <td>35</td>\n",
              "      <td>2020-01-29</td>\n",
              "      <td>1</td>\n",
              "      <td>29</td>\n",
              "      <td>5.1</td>\n",
              "      <td>28.6</td>\n",
              "      <td>32.5</td>\n",
              "      <td>26.0</td>\n",
              "    </tr>\n",
              "    <tr>\n",
              "      <th>27</th>\n",
              "      <td>TZ000063894</td>\n",
              "      <td>35</td>\n",
              "      <td>2020-02-18</td>\n",
              "      <td>2</td>\n",
              "      <td>18</td>\n",
              "      <td>0.3</td>\n",
              "      <td>29.4</td>\n",
              "      <td>34.0</td>\n",
              "      <td>25.7</td>\n",
              "    </tr>\n",
              "  </tbody>\n",
              "</table>\n",
              "</div>\n",
              "    <div class=\"colab-df-buttons\">\n",
              "\n",
              "  <div class=\"colab-df-container\">\n",
              "    <button class=\"colab-df-convert\" onclick=\"convertToInteractive('df-dcd16106-3eef-4d07-83a2-2cc44b9ec042')\"\n",
              "            title=\"Convert this dataframe to an interactive table.\"\n",
              "            style=\"display:none;\">\n",
              "\n",
              "  <svg xmlns=\"http://www.w3.org/2000/svg\" height=\"24px\" viewBox=\"0 -960 960 960\">\n",
              "    <path d=\"M120-120v-720h720v720H120Zm60-500h600v-160H180v160Zm220 220h160v-160H400v160Zm0 220h160v-160H400v160ZM180-400h160v-160H180v160Zm440 0h160v-160H620v160ZM180-180h160v-160H180v160Zm440 0h160v-160H620v160Z\"/>\n",
              "  </svg>\n",
              "    </button>\n",
              "\n",
              "  <style>\n",
              "    .colab-df-container {\n",
              "      display:flex;\n",
              "      gap: 12px;\n",
              "    }\n",
              "\n",
              "    .colab-df-convert {\n",
              "      background-color: #E8F0FE;\n",
              "      border: none;\n",
              "      border-radius: 50%;\n",
              "      cursor: pointer;\n",
              "      display: none;\n",
              "      fill: #1967D2;\n",
              "      height: 32px;\n",
              "      padding: 0 0 0 0;\n",
              "      width: 32px;\n",
              "    }\n",
              "\n",
              "    .colab-df-convert:hover {\n",
              "      background-color: #E2EBFA;\n",
              "      box-shadow: 0px 1px 2px rgba(60, 64, 67, 0.3), 0px 1px 3px 1px rgba(60, 64, 67, 0.15);\n",
              "      fill: #174EA6;\n",
              "    }\n",
              "\n",
              "    .colab-df-buttons div {\n",
              "      margin-bottom: 4px;\n",
              "    }\n",
              "\n",
              "    [theme=dark] .colab-df-convert {\n",
              "      background-color: #3B4455;\n",
              "      fill: #D2E3FC;\n",
              "    }\n",
              "\n",
              "    [theme=dark] .colab-df-convert:hover {\n",
              "      background-color: #434B5C;\n",
              "      box-shadow: 0px 1px 3px 1px rgba(0, 0, 0, 0.15);\n",
              "      filter: drop-shadow(0px 1px 2px rgba(0, 0, 0, 0.3));\n",
              "      fill: #FFFFFF;\n",
              "    }\n",
              "  </style>\n",
              "\n",
              "    <script>\n",
              "      const buttonEl =\n",
              "        document.querySelector('#df-dcd16106-3eef-4d07-83a2-2cc44b9ec042 button.colab-df-convert');\n",
              "      buttonEl.style.display =\n",
              "        google.colab.kernel.accessAllowed ? 'block' : 'none';\n",
              "\n",
              "      async function convertToInteractive(key) {\n",
              "        const element = document.querySelector('#df-dcd16106-3eef-4d07-83a2-2cc44b9ec042');\n",
              "        const dataTable =\n",
              "          await google.colab.kernel.invokeFunction('convertToInteractive',\n",
              "                                                    [key], {});\n",
              "        if (!dataTable) return;\n",
              "\n",
              "        const docLinkHtml = 'Like what you see? Visit the ' +\n",
              "          '<a target=\"_blank\" href=https://colab.research.google.com/notebooks/data_table.ipynb>data table notebook</a>'\n",
              "          + ' to learn more about interactive tables.';\n",
              "        element.innerHTML = '';\n",
              "        dataTable['output_type'] = 'display_data';\n",
              "        await google.colab.output.renderOutput(dataTable, element);\n",
              "        const docLink = document.createElement('div');\n",
              "        docLink.innerHTML = docLinkHtml;\n",
              "        element.appendChild(docLink);\n",
              "      }\n",
              "    </script>\n",
              "  </div>\n",
              "\n",
              "\n",
              "<div id=\"df-658163d9-cb06-4d0a-8621-5ee681ebde25\">\n",
              "  <button class=\"colab-df-quickchart\" onclick=\"quickchart('df-658163d9-cb06-4d0a-8621-5ee681ebde25')\"\n",
              "            title=\"Suggest charts.\"\n",
              "            style=\"display:none;\">\n",
              "\n",
              "<svg xmlns=\"http://www.w3.org/2000/svg\" height=\"24px\"viewBox=\"0 0 24 24\"\n",
              "     width=\"24px\">\n",
              "    <g>\n",
              "        <path d=\"M19 3H5c-1.1 0-2 .9-2 2v14c0 1.1.9 2 2 2h14c1.1 0 2-.9 2-2V5c0-1.1-.9-2-2-2zM9 17H7v-7h2v7zm4 0h-2V7h2v10zm4 0h-2v-4h2v4z\"/>\n",
              "    </g>\n",
              "</svg>\n",
              "  </button>\n",
              "\n",
              "<style>\n",
              "  .colab-df-quickchart {\n",
              "      --bg-color: #E8F0FE;\n",
              "      --fill-color: #1967D2;\n",
              "      --hover-bg-color: #E2EBFA;\n",
              "      --hover-fill-color: #174EA6;\n",
              "      --disabled-fill-color: #AAA;\n",
              "      --disabled-bg-color: #DDD;\n",
              "  }\n",
              "\n",
              "  [theme=dark] .colab-df-quickchart {\n",
              "      --bg-color: #3B4455;\n",
              "      --fill-color: #D2E3FC;\n",
              "      --hover-bg-color: #434B5C;\n",
              "      --hover-fill-color: #FFFFFF;\n",
              "      --disabled-bg-color: #3B4455;\n",
              "      --disabled-fill-color: #666;\n",
              "  }\n",
              "\n",
              "  .colab-df-quickchart {\n",
              "    background-color: var(--bg-color);\n",
              "    border: none;\n",
              "    border-radius: 50%;\n",
              "    cursor: pointer;\n",
              "    display: none;\n",
              "    fill: var(--fill-color);\n",
              "    height: 32px;\n",
              "    padding: 0;\n",
              "    width: 32px;\n",
              "  }\n",
              "\n",
              "  .colab-df-quickchart:hover {\n",
              "    background-color: var(--hover-bg-color);\n",
              "    box-shadow: 0 1px 2px rgba(60, 64, 67, 0.3), 0 1px 3px 1px rgba(60, 64, 67, 0.15);\n",
              "    fill: var(--button-hover-fill-color);\n",
              "  }\n",
              "\n",
              "  .colab-df-quickchart-complete:disabled,\n",
              "  .colab-df-quickchart-complete:disabled:hover {\n",
              "    background-color: var(--disabled-bg-color);\n",
              "    fill: var(--disabled-fill-color);\n",
              "    box-shadow: none;\n",
              "  }\n",
              "\n",
              "  .colab-df-spinner {\n",
              "    border: 2px solid var(--fill-color);\n",
              "    border-color: transparent;\n",
              "    border-bottom-color: var(--fill-color);\n",
              "    animation:\n",
              "      spin 1s steps(1) infinite;\n",
              "  }\n",
              "\n",
              "  @keyframes spin {\n",
              "    0% {\n",
              "      border-color: transparent;\n",
              "      border-bottom-color: var(--fill-color);\n",
              "      border-left-color: var(--fill-color);\n",
              "    }\n",
              "    20% {\n",
              "      border-color: transparent;\n",
              "      border-left-color: var(--fill-color);\n",
              "      border-top-color: var(--fill-color);\n",
              "    }\n",
              "    30% {\n",
              "      border-color: transparent;\n",
              "      border-left-color: var(--fill-color);\n",
              "      border-top-color: var(--fill-color);\n",
              "      border-right-color: var(--fill-color);\n",
              "    }\n",
              "    40% {\n",
              "      border-color: transparent;\n",
              "      border-right-color: var(--fill-color);\n",
              "      border-top-color: var(--fill-color);\n",
              "    }\n",
              "    60% {\n",
              "      border-color: transparent;\n",
              "      border-right-color: var(--fill-color);\n",
              "    }\n",
              "    80% {\n",
              "      border-color: transparent;\n",
              "      border-right-color: var(--fill-color);\n",
              "      border-bottom-color: var(--fill-color);\n",
              "    }\n",
              "    90% {\n",
              "      border-color: transparent;\n",
              "      border-bottom-color: var(--fill-color);\n",
              "    }\n",
              "  }\n",
              "</style>\n",
              "\n",
              "  <script>\n",
              "    async function quickchart(key) {\n",
              "      const quickchartButtonEl =\n",
              "        document.querySelector('#' + key + ' button');\n",
              "      quickchartButtonEl.disabled = true;  // To prevent multiple clicks.\n",
              "      quickchartButtonEl.classList.add('colab-df-spinner');\n",
              "      try {\n",
              "        const charts = await google.colab.kernel.invokeFunction(\n",
              "            'suggestCharts', [key], {});\n",
              "      } catch (error) {\n",
              "        console.error('Error during call to suggestCharts:', error);\n",
              "      }\n",
              "      quickchartButtonEl.classList.remove('colab-df-spinner');\n",
              "      quickchartButtonEl.classList.add('colab-df-quickchart-complete');\n",
              "    }\n",
              "    (() => {\n",
              "      let quickchartButtonEl =\n",
              "        document.querySelector('#df-658163d9-cb06-4d0a-8621-5ee681ebde25 button');\n",
              "      quickchartButtonEl.style.display =\n",
              "        google.colab.kernel.accessAllowed ? 'block' : 'none';\n",
              "    })();\n",
              "  </script>\n",
              "</div>\n",
              "    </div>\n",
              "  </div>\n"
            ]
          },
          "metadata": {},
          "execution_count": 25
        }
      ]
    },
    {
      "cell_type": "markdown",
      "source": [
        "In next cell we are labellinf Station using label encoder."
      ],
      "metadata": {
        "id": "WQK0YmICVUxb"
      }
    },
    {
      "cell_type": "code",
      "source": [
        "from sklearn.preprocessing import LabelEncoder\n",
        "\n",
        "label_encoder = LabelEncoder()\n",
        "df_final['STATION'] = label_encoder.fit_transform(df_final['STATION'])\n",
        "\n",
        "print(df_final)"
      ],
      "metadata": {
        "colab": {
          "base_uri": "https://localhost:8080/"
        },
        "id": "3nARXUG_G9P_",
        "outputId": "245b4b04-b7ed-4de1-8ad6-31ca0678554e"
      },
      "execution_count": 26,
      "outputs": [
        {
          "output_type": "stream",
          "name": "stdout",
          "text": [
            "         STATION  Country/Region        DATE  Month  Day  PRCP  TAVG  TMAX  \\\n",
            "0           3078              35  2020-01-22      1   22  10.9  27.6  30.2   \n",
            "2           3078              35  2020-01-24      1   24   9.4  27.9  30.6   \n",
            "3           3078              35  2020-01-25      1   25   0.3  27.9  30.2   \n",
            "7           3078              35  2020-01-29      1   29   5.1  28.6  32.5   \n",
            "27          3078              35  2020-02-18      2   18   0.3  29.4  34.0   \n",
            "...          ...             ...         ...    ...  ...   ...   ...   ...   \n",
            "1392257     1274              34  2020-03-19      3   19   0.0  29.8  35.9   \n",
            "1392258     1274              34  2020-03-20      3   20   0.0  29.8  35.7   \n",
            "1392261     1274              34  2020-03-23      3   23   0.0  29.5  35.2   \n",
            "1392424     1281              34  2020-02-27      2   27   0.5  28.7  34.2   \n",
            "1392427     1281              34  2020-03-01      3    1   0.0  31.8  35.2   \n",
            "\n",
            "         TMIN  \n",
            "0        24.9  \n",
            "2        25.6  \n",
            "3        16.3  \n",
            "7        26.0  \n",
            "27       25.7  \n",
            "...       ...  \n",
            "1392257  23.9  \n",
            "1392258  24.3  \n",
            "1392261  23.2  \n",
            "1392424  24.0  \n",
            "1392427  25.0  \n",
            "\n",
            "[402632 rows x 9 columns]\n"
          ]
        },
        {
          "output_type": "stream",
          "name": "stderr",
          "text": [
            "<ipython-input-26-5207936ed0d9>:4: SettingWithCopyWarning: \n",
            "A value is trying to be set on a copy of a slice from a DataFrame.\n",
            "Try using .loc[row_indexer,col_indexer] = value instead\n",
            "\n",
            "See the caveats in the documentation: https://pandas.pydata.org/pandas-docs/stable/user_guide/indexing.html#returning-a-view-versus-a-copy\n",
            "  df_final['STATION'] = label_encoder.fit_transform(df_final['STATION'])\n"
          ]
        }
      ]
    },
    {
      "cell_type": "code",
      "source": [
        "df_final.head()"
      ],
      "metadata": {
        "colab": {
          "base_uri": "https://localhost:8080/",
          "height": 206
        },
        "id": "hxjw8vLANl-R",
        "outputId": "9a1f7df1-4db4-465b-f12e-52e6cbeb42ae"
      },
      "execution_count": 27,
      "outputs": [
        {
          "output_type": "execute_result",
          "data": {
            "text/plain": [
              "    STATION  Country/Region        DATE  Month  Day  PRCP  TAVG  TMAX  TMIN\n",
              "0      3078              35  2020-01-22      1   22  10.9  27.6  30.2  24.9\n",
              "2      3078              35  2020-01-24      1   24   9.4  27.9  30.6  25.6\n",
              "3      3078              35  2020-01-25      1   25   0.3  27.9  30.2  16.3\n",
              "7      3078              35  2020-01-29      1   29   5.1  28.6  32.5  26.0\n",
              "27     3078              35  2020-02-18      2   18   0.3  29.4  34.0  25.7"
            ],
            "text/html": [
              "\n",
              "  <div id=\"df-0f18e2f7-05d9-4318-aa70-e46b0eee84a3\" class=\"colab-df-container\">\n",
              "    <div>\n",
              "<style scoped>\n",
              "    .dataframe tbody tr th:only-of-type {\n",
              "        vertical-align: middle;\n",
              "    }\n",
              "\n",
              "    .dataframe tbody tr th {\n",
              "        vertical-align: top;\n",
              "    }\n",
              "\n",
              "    .dataframe thead th {\n",
              "        text-align: right;\n",
              "    }\n",
              "</style>\n",
              "<table border=\"1\" class=\"dataframe\">\n",
              "  <thead>\n",
              "    <tr style=\"text-align: right;\">\n",
              "      <th></th>\n",
              "      <th>STATION</th>\n",
              "      <th>Country/Region</th>\n",
              "      <th>DATE</th>\n",
              "      <th>Month</th>\n",
              "      <th>Day</th>\n",
              "      <th>PRCP</th>\n",
              "      <th>TAVG</th>\n",
              "      <th>TMAX</th>\n",
              "      <th>TMIN</th>\n",
              "    </tr>\n",
              "  </thead>\n",
              "  <tbody>\n",
              "    <tr>\n",
              "      <th>0</th>\n",
              "      <td>3078</td>\n",
              "      <td>35</td>\n",
              "      <td>2020-01-22</td>\n",
              "      <td>1</td>\n",
              "      <td>22</td>\n",
              "      <td>10.9</td>\n",
              "      <td>27.6</td>\n",
              "      <td>30.2</td>\n",
              "      <td>24.9</td>\n",
              "    </tr>\n",
              "    <tr>\n",
              "      <th>2</th>\n",
              "      <td>3078</td>\n",
              "      <td>35</td>\n",
              "      <td>2020-01-24</td>\n",
              "      <td>1</td>\n",
              "      <td>24</td>\n",
              "      <td>9.4</td>\n",
              "      <td>27.9</td>\n",
              "      <td>30.6</td>\n",
              "      <td>25.6</td>\n",
              "    </tr>\n",
              "    <tr>\n",
              "      <th>3</th>\n",
              "      <td>3078</td>\n",
              "      <td>35</td>\n",
              "      <td>2020-01-25</td>\n",
              "      <td>1</td>\n",
              "      <td>25</td>\n",
              "      <td>0.3</td>\n",
              "      <td>27.9</td>\n",
              "      <td>30.2</td>\n",
              "      <td>16.3</td>\n",
              "    </tr>\n",
              "    <tr>\n",
              "      <th>7</th>\n",
              "      <td>3078</td>\n",
              "      <td>35</td>\n",
              "      <td>2020-01-29</td>\n",
              "      <td>1</td>\n",
              "      <td>29</td>\n",
              "      <td>5.1</td>\n",
              "      <td>28.6</td>\n",
              "      <td>32.5</td>\n",
              "      <td>26.0</td>\n",
              "    </tr>\n",
              "    <tr>\n",
              "      <th>27</th>\n",
              "      <td>3078</td>\n",
              "      <td>35</td>\n",
              "      <td>2020-02-18</td>\n",
              "      <td>2</td>\n",
              "      <td>18</td>\n",
              "      <td>0.3</td>\n",
              "      <td>29.4</td>\n",
              "      <td>34.0</td>\n",
              "      <td>25.7</td>\n",
              "    </tr>\n",
              "  </tbody>\n",
              "</table>\n",
              "</div>\n",
              "    <div class=\"colab-df-buttons\">\n",
              "\n",
              "  <div class=\"colab-df-container\">\n",
              "    <button class=\"colab-df-convert\" onclick=\"convertToInteractive('df-0f18e2f7-05d9-4318-aa70-e46b0eee84a3')\"\n",
              "            title=\"Convert this dataframe to an interactive table.\"\n",
              "            style=\"display:none;\">\n",
              "\n",
              "  <svg xmlns=\"http://www.w3.org/2000/svg\" height=\"24px\" viewBox=\"0 -960 960 960\">\n",
              "    <path d=\"M120-120v-720h720v720H120Zm60-500h600v-160H180v160Zm220 220h160v-160H400v160Zm0 220h160v-160H400v160ZM180-400h160v-160H180v160Zm440 0h160v-160H620v160ZM180-180h160v-160H180v160Zm440 0h160v-160H620v160Z\"/>\n",
              "  </svg>\n",
              "    </button>\n",
              "\n",
              "  <style>\n",
              "    .colab-df-container {\n",
              "      display:flex;\n",
              "      gap: 12px;\n",
              "    }\n",
              "\n",
              "    .colab-df-convert {\n",
              "      background-color: #E8F0FE;\n",
              "      border: none;\n",
              "      border-radius: 50%;\n",
              "      cursor: pointer;\n",
              "      display: none;\n",
              "      fill: #1967D2;\n",
              "      height: 32px;\n",
              "      padding: 0 0 0 0;\n",
              "      width: 32px;\n",
              "    }\n",
              "\n",
              "    .colab-df-convert:hover {\n",
              "      background-color: #E2EBFA;\n",
              "      box-shadow: 0px 1px 2px rgba(60, 64, 67, 0.3), 0px 1px 3px 1px rgba(60, 64, 67, 0.15);\n",
              "      fill: #174EA6;\n",
              "    }\n",
              "\n",
              "    .colab-df-buttons div {\n",
              "      margin-bottom: 4px;\n",
              "    }\n",
              "\n",
              "    [theme=dark] .colab-df-convert {\n",
              "      background-color: #3B4455;\n",
              "      fill: #D2E3FC;\n",
              "    }\n",
              "\n",
              "    [theme=dark] .colab-df-convert:hover {\n",
              "      background-color: #434B5C;\n",
              "      box-shadow: 0px 1px 3px 1px rgba(0, 0, 0, 0.15);\n",
              "      filter: drop-shadow(0px 1px 2px rgba(0, 0, 0, 0.3));\n",
              "      fill: #FFFFFF;\n",
              "    }\n",
              "  </style>\n",
              "\n",
              "    <script>\n",
              "      const buttonEl =\n",
              "        document.querySelector('#df-0f18e2f7-05d9-4318-aa70-e46b0eee84a3 button.colab-df-convert');\n",
              "      buttonEl.style.display =\n",
              "        google.colab.kernel.accessAllowed ? 'block' : 'none';\n",
              "\n",
              "      async function convertToInteractive(key) {\n",
              "        const element = document.querySelector('#df-0f18e2f7-05d9-4318-aa70-e46b0eee84a3');\n",
              "        const dataTable =\n",
              "          await google.colab.kernel.invokeFunction('convertToInteractive',\n",
              "                                                    [key], {});\n",
              "        if (!dataTable) return;\n",
              "\n",
              "        const docLinkHtml = 'Like what you see? Visit the ' +\n",
              "          '<a target=\"_blank\" href=https://colab.research.google.com/notebooks/data_table.ipynb>data table notebook</a>'\n",
              "          + ' to learn more about interactive tables.';\n",
              "        element.innerHTML = '';\n",
              "        dataTable['output_type'] = 'display_data';\n",
              "        await google.colab.output.renderOutput(dataTable, element);\n",
              "        const docLink = document.createElement('div');\n",
              "        docLink.innerHTML = docLinkHtml;\n",
              "        element.appendChild(docLink);\n",
              "      }\n",
              "    </script>\n",
              "  </div>\n",
              "\n",
              "\n",
              "<div id=\"df-94a2628f-da70-4284-8c3d-9a37a617af30\">\n",
              "  <button class=\"colab-df-quickchart\" onclick=\"quickchart('df-94a2628f-da70-4284-8c3d-9a37a617af30')\"\n",
              "            title=\"Suggest charts.\"\n",
              "            style=\"display:none;\">\n",
              "\n",
              "<svg xmlns=\"http://www.w3.org/2000/svg\" height=\"24px\"viewBox=\"0 0 24 24\"\n",
              "     width=\"24px\">\n",
              "    <g>\n",
              "        <path d=\"M19 3H5c-1.1 0-2 .9-2 2v14c0 1.1.9 2 2 2h14c1.1 0 2-.9 2-2V5c0-1.1-.9-2-2-2zM9 17H7v-7h2v7zm4 0h-2V7h2v10zm4 0h-2v-4h2v4z\"/>\n",
              "    </g>\n",
              "</svg>\n",
              "  </button>\n",
              "\n",
              "<style>\n",
              "  .colab-df-quickchart {\n",
              "      --bg-color: #E8F0FE;\n",
              "      --fill-color: #1967D2;\n",
              "      --hover-bg-color: #E2EBFA;\n",
              "      --hover-fill-color: #174EA6;\n",
              "      --disabled-fill-color: #AAA;\n",
              "      --disabled-bg-color: #DDD;\n",
              "  }\n",
              "\n",
              "  [theme=dark] .colab-df-quickchart {\n",
              "      --bg-color: #3B4455;\n",
              "      --fill-color: #D2E3FC;\n",
              "      --hover-bg-color: #434B5C;\n",
              "      --hover-fill-color: #FFFFFF;\n",
              "      --disabled-bg-color: #3B4455;\n",
              "      --disabled-fill-color: #666;\n",
              "  }\n",
              "\n",
              "  .colab-df-quickchart {\n",
              "    background-color: var(--bg-color);\n",
              "    border: none;\n",
              "    border-radius: 50%;\n",
              "    cursor: pointer;\n",
              "    display: none;\n",
              "    fill: var(--fill-color);\n",
              "    height: 32px;\n",
              "    padding: 0;\n",
              "    width: 32px;\n",
              "  }\n",
              "\n",
              "  .colab-df-quickchart:hover {\n",
              "    background-color: var(--hover-bg-color);\n",
              "    box-shadow: 0 1px 2px rgba(60, 64, 67, 0.3), 0 1px 3px 1px rgba(60, 64, 67, 0.15);\n",
              "    fill: var(--button-hover-fill-color);\n",
              "  }\n",
              "\n",
              "  .colab-df-quickchart-complete:disabled,\n",
              "  .colab-df-quickchart-complete:disabled:hover {\n",
              "    background-color: var(--disabled-bg-color);\n",
              "    fill: var(--disabled-fill-color);\n",
              "    box-shadow: none;\n",
              "  }\n",
              "\n",
              "  .colab-df-spinner {\n",
              "    border: 2px solid var(--fill-color);\n",
              "    border-color: transparent;\n",
              "    border-bottom-color: var(--fill-color);\n",
              "    animation:\n",
              "      spin 1s steps(1) infinite;\n",
              "  }\n",
              "\n",
              "  @keyframes spin {\n",
              "    0% {\n",
              "      border-color: transparent;\n",
              "      border-bottom-color: var(--fill-color);\n",
              "      border-left-color: var(--fill-color);\n",
              "    }\n",
              "    20% {\n",
              "      border-color: transparent;\n",
              "      border-left-color: var(--fill-color);\n",
              "      border-top-color: var(--fill-color);\n",
              "    }\n",
              "    30% {\n",
              "      border-color: transparent;\n",
              "      border-left-color: var(--fill-color);\n",
              "      border-top-color: var(--fill-color);\n",
              "      border-right-color: var(--fill-color);\n",
              "    }\n",
              "    40% {\n",
              "      border-color: transparent;\n",
              "      border-right-color: var(--fill-color);\n",
              "      border-top-color: var(--fill-color);\n",
              "    }\n",
              "    60% {\n",
              "      border-color: transparent;\n",
              "      border-right-color: var(--fill-color);\n",
              "    }\n",
              "    80% {\n",
              "      border-color: transparent;\n",
              "      border-right-color: var(--fill-color);\n",
              "      border-bottom-color: var(--fill-color);\n",
              "    }\n",
              "    90% {\n",
              "      border-color: transparent;\n",
              "      border-bottom-color: var(--fill-color);\n",
              "    }\n",
              "  }\n",
              "</style>\n",
              "\n",
              "  <script>\n",
              "    async function quickchart(key) {\n",
              "      const quickchartButtonEl =\n",
              "        document.querySelector('#' + key + ' button');\n",
              "      quickchartButtonEl.disabled = true;  // To prevent multiple clicks.\n",
              "      quickchartButtonEl.classList.add('colab-df-spinner');\n",
              "      try {\n",
              "        const charts = await google.colab.kernel.invokeFunction(\n",
              "            'suggestCharts', [key], {});\n",
              "      } catch (error) {\n",
              "        console.error('Error during call to suggestCharts:', error);\n",
              "      }\n",
              "      quickchartButtonEl.classList.remove('colab-df-spinner');\n",
              "      quickchartButtonEl.classList.add('colab-df-quickchart-complete');\n",
              "    }\n",
              "    (() => {\n",
              "      let quickchartButtonEl =\n",
              "        document.querySelector('#df-94a2628f-da70-4284-8c3d-9a37a617af30 button');\n",
              "      quickchartButtonEl.style.display =\n",
              "        google.colab.kernel.accessAllowed ? 'block' : 'none';\n",
              "    })();\n",
              "  </script>\n",
              "</div>\n",
              "    </div>\n",
              "  </div>\n"
            ]
          },
          "metadata": {},
          "execution_count": 27
        }
      ]
    },
    {
      "cell_type": "code",
      "source": [
        "df_use=df_final.copy()"
      ],
      "metadata": {
        "id": "SGvSUHdgQFjo"
      },
      "execution_count": 28,
      "outputs": []
    },
    {
      "cell_type": "code",
      "source": [
        "df_to_train = df_use.drop(['DATE','TAVG'], axis=1)"
      ],
      "metadata": {
        "id": "FKgt8_1FRt0n"
      },
      "execution_count": 29,
      "outputs": []
    },
    {
      "cell_type": "code",
      "source": [
        "dfnew.head()"
      ],
      "metadata": {
        "colab": {
          "base_uri": "https://localhost:8080/",
          "height": 206
        },
        "id": "m3YTXNhyVief",
        "outputId": "a8c9fe2b-034b-4b1a-fc7e-abe62768993d"
      },
      "execution_count": 30,
      "outputs": [
        {
          "output_type": "execute_result",
          "data": {
            "text/plain": [
              "       STATION Country/Region        DATE  Month  Day  PRCP  TAVG   TMAX  TMIN\n",
              "0  TZ000063894        Comoros  2020-01-22      1   22   2.7  27.9  31.05  25.0\n",
              "1  TZ000063894        Comoros  2020-01-23      1   23   2.7  27.9  31.05  25.0\n",
              "2  TZ000063894        Comoros  2020-01-24      1   24   2.7  27.9  31.05  25.0\n",
              "3  TZ000063894        Comoros  2020-01-25      1   25   2.7  27.9  31.05  25.0\n",
              "4  TZ000063894        Comoros  2020-01-26      1   26   2.7  27.9  31.05  25.0"
            ],
            "text/html": [
              "\n",
              "  <div id=\"df-5426b204-ec04-42fa-bd2d-be77bc389bef\" class=\"colab-df-container\">\n",
              "    <div>\n",
              "<style scoped>\n",
              "    .dataframe tbody tr th:only-of-type {\n",
              "        vertical-align: middle;\n",
              "    }\n",
              "\n",
              "    .dataframe tbody tr th {\n",
              "        vertical-align: top;\n",
              "    }\n",
              "\n",
              "    .dataframe thead th {\n",
              "        text-align: right;\n",
              "    }\n",
              "</style>\n",
              "<table border=\"1\" class=\"dataframe\">\n",
              "  <thead>\n",
              "    <tr style=\"text-align: right;\">\n",
              "      <th></th>\n",
              "      <th>STATION</th>\n",
              "      <th>Country/Region</th>\n",
              "      <th>DATE</th>\n",
              "      <th>Month</th>\n",
              "      <th>Day</th>\n",
              "      <th>PRCP</th>\n",
              "      <th>TAVG</th>\n",
              "      <th>TMAX</th>\n",
              "      <th>TMIN</th>\n",
              "    </tr>\n",
              "  </thead>\n",
              "  <tbody>\n",
              "    <tr>\n",
              "      <th>0</th>\n",
              "      <td>TZ000063894</td>\n",
              "      <td>Comoros</td>\n",
              "      <td>2020-01-22</td>\n",
              "      <td>1</td>\n",
              "      <td>22</td>\n",
              "      <td>2.7</td>\n",
              "      <td>27.9</td>\n",
              "      <td>31.05</td>\n",
              "      <td>25.0</td>\n",
              "    </tr>\n",
              "    <tr>\n",
              "      <th>1</th>\n",
              "      <td>TZ000063894</td>\n",
              "      <td>Comoros</td>\n",
              "      <td>2020-01-23</td>\n",
              "      <td>1</td>\n",
              "      <td>23</td>\n",
              "      <td>2.7</td>\n",
              "      <td>27.9</td>\n",
              "      <td>31.05</td>\n",
              "      <td>25.0</td>\n",
              "    </tr>\n",
              "    <tr>\n",
              "      <th>2</th>\n",
              "      <td>TZ000063894</td>\n",
              "      <td>Comoros</td>\n",
              "      <td>2020-01-24</td>\n",
              "      <td>1</td>\n",
              "      <td>24</td>\n",
              "      <td>2.7</td>\n",
              "      <td>27.9</td>\n",
              "      <td>31.05</td>\n",
              "      <td>25.0</td>\n",
              "    </tr>\n",
              "    <tr>\n",
              "      <th>3</th>\n",
              "      <td>TZ000063894</td>\n",
              "      <td>Comoros</td>\n",
              "      <td>2020-01-25</td>\n",
              "      <td>1</td>\n",
              "      <td>25</td>\n",
              "      <td>2.7</td>\n",
              "      <td>27.9</td>\n",
              "      <td>31.05</td>\n",
              "      <td>25.0</td>\n",
              "    </tr>\n",
              "    <tr>\n",
              "      <th>4</th>\n",
              "      <td>TZ000063894</td>\n",
              "      <td>Comoros</td>\n",
              "      <td>2020-01-26</td>\n",
              "      <td>1</td>\n",
              "      <td>26</td>\n",
              "      <td>2.7</td>\n",
              "      <td>27.9</td>\n",
              "      <td>31.05</td>\n",
              "      <td>25.0</td>\n",
              "    </tr>\n",
              "  </tbody>\n",
              "</table>\n",
              "</div>\n",
              "    <div class=\"colab-df-buttons\">\n",
              "\n",
              "  <div class=\"colab-df-container\">\n",
              "    <button class=\"colab-df-convert\" onclick=\"convertToInteractive('df-5426b204-ec04-42fa-bd2d-be77bc389bef')\"\n",
              "            title=\"Convert this dataframe to an interactive table.\"\n",
              "            style=\"display:none;\">\n",
              "\n",
              "  <svg xmlns=\"http://www.w3.org/2000/svg\" height=\"24px\" viewBox=\"0 -960 960 960\">\n",
              "    <path d=\"M120-120v-720h720v720H120Zm60-500h600v-160H180v160Zm220 220h160v-160H400v160Zm0 220h160v-160H400v160ZM180-400h160v-160H180v160Zm440 0h160v-160H620v160ZM180-180h160v-160H180v160Zm440 0h160v-160H620v160Z\"/>\n",
              "  </svg>\n",
              "    </button>\n",
              "\n",
              "  <style>\n",
              "    .colab-df-container {\n",
              "      display:flex;\n",
              "      gap: 12px;\n",
              "    }\n",
              "\n",
              "    .colab-df-convert {\n",
              "      background-color: #E8F0FE;\n",
              "      border: none;\n",
              "      border-radius: 50%;\n",
              "      cursor: pointer;\n",
              "      display: none;\n",
              "      fill: #1967D2;\n",
              "      height: 32px;\n",
              "      padding: 0 0 0 0;\n",
              "      width: 32px;\n",
              "    }\n",
              "\n",
              "    .colab-df-convert:hover {\n",
              "      background-color: #E2EBFA;\n",
              "      box-shadow: 0px 1px 2px rgba(60, 64, 67, 0.3), 0px 1px 3px 1px rgba(60, 64, 67, 0.15);\n",
              "      fill: #174EA6;\n",
              "    }\n",
              "\n",
              "    .colab-df-buttons div {\n",
              "      margin-bottom: 4px;\n",
              "    }\n",
              "\n",
              "    [theme=dark] .colab-df-convert {\n",
              "      background-color: #3B4455;\n",
              "      fill: #D2E3FC;\n",
              "    }\n",
              "\n",
              "    [theme=dark] .colab-df-convert:hover {\n",
              "      background-color: #434B5C;\n",
              "      box-shadow: 0px 1px 3px 1px rgba(0, 0, 0, 0.15);\n",
              "      filter: drop-shadow(0px 1px 2px rgba(0, 0, 0, 0.3));\n",
              "      fill: #FFFFFF;\n",
              "    }\n",
              "  </style>\n",
              "\n",
              "    <script>\n",
              "      const buttonEl =\n",
              "        document.querySelector('#df-5426b204-ec04-42fa-bd2d-be77bc389bef button.colab-df-convert');\n",
              "      buttonEl.style.display =\n",
              "        google.colab.kernel.accessAllowed ? 'block' : 'none';\n",
              "\n",
              "      async function convertToInteractive(key) {\n",
              "        const element = document.querySelector('#df-5426b204-ec04-42fa-bd2d-be77bc389bef');\n",
              "        const dataTable =\n",
              "          await google.colab.kernel.invokeFunction('convertToInteractive',\n",
              "                                                    [key], {});\n",
              "        if (!dataTable) return;\n",
              "\n",
              "        const docLinkHtml = 'Like what you see? Visit the ' +\n",
              "          '<a target=\"_blank\" href=https://colab.research.google.com/notebooks/data_table.ipynb>data table notebook</a>'\n",
              "          + ' to learn more about interactive tables.';\n",
              "        element.innerHTML = '';\n",
              "        dataTable['output_type'] = 'display_data';\n",
              "        await google.colab.output.renderOutput(dataTable, element);\n",
              "        const docLink = document.createElement('div');\n",
              "        docLink.innerHTML = docLinkHtml;\n",
              "        element.appendChild(docLink);\n",
              "      }\n",
              "    </script>\n",
              "  </div>\n",
              "\n",
              "\n",
              "<div id=\"df-b29977c4-ae24-42b4-aaf8-cacb3d905650\">\n",
              "  <button class=\"colab-df-quickchart\" onclick=\"quickchart('df-b29977c4-ae24-42b4-aaf8-cacb3d905650')\"\n",
              "            title=\"Suggest charts.\"\n",
              "            style=\"display:none;\">\n",
              "\n",
              "<svg xmlns=\"http://www.w3.org/2000/svg\" height=\"24px\"viewBox=\"0 0 24 24\"\n",
              "     width=\"24px\">\n",
              "    <g>\n",
              "        <path d=\"M19 3H5c-1.1 0-2 .9-2 2v14c0 1.1.9 2 2 2h14c1.1 0 2-.9 2-2V5c0-1.1-.9-2-2-2zM9 17H7v-7h2v7zm4 0h-2V7h2v10zm4 0h-2v-4h2v4z\"/>\n",
              "    </g>\n",
              "</svg>\n",
              "  </button>\n",
              "\n",
              "<style>\n",
              "  .colab-df-quickchart {\n",
              "      --bg-color: #E8F0FE;\n",
              "      --fill-color: #1967D2;\n",
              "      --hover-bg-color: #E2EBFA;\n",
              "      --hover-fill-color: #174EA6;\n",
              "      --disabled-fill-color: #AAA;\n",
              "      --disabled-bg-color: #DDD;\n",
              "  }\n",
              "\n",
              "  [theme=dark] .colab-df-quickchart {\n",
              "      --bg-color: #3B4455;\n",
              "      --fill-color: #D2E3FC;\n",
              "      --hover-bg-color: #434B5C;\n",
              "      --hover-fill-color: #FFFFFF;\n",
              "      --disabled-bg-color: #3B4455;\n",
              "      --disabled-fill-color: #666;\n",
              "  }\n",
              "\n",
              "  .colab-df-quickchart {\n",
              "    background-color: var(--bg-color);\n",
              "    border: none;\n",
              "    border-radius: 50%;\n",
              "    cursor: pointer;\n",
              "    display: none;\n",
              "    fill: var(--fill-color);\n",
              "    height: 32px;\n",
              "    padding: 0;\n",
              "    width: 32px;\n",
              "  }\n",
              "\n",
              "  .colab-df-quickchart:hover {\n",
              "    background-color: var(--hover-bg-color);\n",
              "    box-shadow: 0 1px 2px rgba(60, 64, 67, 0.3), 0 1px 3px 1px rgba(60, 64, 67, 0.15);\n",
              "    fill: var(--button-hover-fill-color);\n",
              "  }\n",
              "\n",
              "  .colab-df-quickchart-complete:disabled,\n",
              "  .colab-df-quickchart-complete:disabled:hover {\n",
              "    background-color: var(--disabled-bg-color);\n",
              "    fill: var(--disabled-fill-color);\n",
              "    box-shadow: none;\n",
              "  }\n",
              "\n",
              "  .colab-df-spinner {\n",
              "    border: 2px solid var(--fill-color);\n",
              "    border-color: transparent;\n",
              "    border-bottom-color: var(--fill-color);\n",
              "    animation:\n",
              "      spin 1s steps(1) infinite;\n",
              "  }\n",
              "\n",
              "  @keyframes spin {\n",
              "    0% {\n",
              "      border-color: transparent;\n",
              "      border-bottom-color: var(--fill-color);\n",
              "      border-left-color: var(--fill-color);\n",
              "    }\n",
              "    20% {\n",
              "      border-color: transparent;\n",
              "      border-left-color: var(--fill-color);\n",
              "      border-top-color: var(--fill-color);\n",
              "    }\n",
              "    30% {\n",
              "      border-color: transparent;\n",
              "      border-left-color: var(--fill-color);\n",
              "      border-top-color: var(--fill-color);\n",
              "      border-right-color: var(--fill-color);\n",
              "    }\n",
              "    40% {\n",
              "      border-color: transparent;\n",
              "      border-right-color: var(--fill-color);\n",
              "      border-top-color: var(--fill-color);\n",
              "    }\n",
              "    60% {\n",
              "      border-color: transparent;\n",
              "      border-right-color: var(--fill-color);\n",
              "    }\n",
              "    80% {\n",
              "      border-color: transparent;\n",
              "      border-right-color: var(--fill-color);\n",
              "      border-bottom-color: var(--fill-color);\n",
              "    }\n",
              "    90% {\n",
              "      border-color: transparent;\n",
              "      border-bottom-color: var(--fill-color);\n",
              "    }\n",
              "  }\n",
              "</style>\n",
              "\n",
              "  <script>\n",
              "    async function quickchart(key) {\n",
              "      const quickchartButtonEl =\n",
              "        document.querySelector('#' + key + ' button');\n",
              "      quickchartButtonEl.disabled = true;  // To prevent multiple clicks.\n",
              "      quickchartButtonEl.classList.add('colab-df-spinner');\n",
              "      try {\n",
              "        const charts = await google.colab.kernel.invokeFunction(\n",
              "            'suggestCharts', [key], {});\n",
              "      } catch (error) {\n",
              "        console.error('Error during call to suggestCharts:', error);\n",
              "      }\n",
              "      quickchartButtonEl.classList.remove('colab-df-spinner');\n",
              "      quickchartButtonEl.classList.add('colab-df-quickchart-complete');\n",
              "    }\n",
              "    (() => {\n",
              "      let quickchartButtonEl =\n",
              "        document.querySelector('#df-b29977c4-ae24-42b4-aaf8-cacb3d905650 button');\n",
              "      quickchartButtonEl.style.display =\n",
              "        google.colab.kernel.accessAllowed ? 'block' : 'none';\n",
              "    })();\n",
              "  </script>\n",
              "</div>\n",
              "    </div>\n",
              "  </div>\n"
            ]
          },
          "metadata": {},
          "execution_count": 30
        }
      ]
    },
    {
      "cell_type": "code",
      "source": [
        "df_to_train.head()"
      ],
      "metadata": {
        "colab": {
          "base_uri": "https://localhost:8080/",
          "height": 206
        },
        "id": "cKw26_8JVf3F",
        "outputId": "4b433f2f-6622-4d5d-c928-ab1f4c227444"
      },
      "execution_count": 58,
      "outputs": [
        {
          "output_type": "execute_result",
          "data": {
            "text/plain": [
              "    STATION  Country/Region  Month  Day  PRCP  TMAX  TMIN\n",
              "0      3078              35      1   22  10.9  30.2  24.9\n",
              "2      3078              35      1   24   9.4  30.6  25.6\n",
              "3      3078              35      1   25   0.3  30.2  16.3\n",
              "7      3078              35      1   29   5.1  32.5  26.0\n",
              "27     3078              35      2   18   0.3  34.0  25.7"
            ],
            "text/html": [
              "\n",
              "  <div id=\"df-76c2e698-094c-4afc-9deb-5ecb01b59009\" class=\"colab-df-container\">\n",
              "    <div>\n",
              "<style scoped>\n",
              "    .dataframe tbody tr th:only-of-type {\n",
              "        vertical-align: middle;\n",
              "    }\n",
              "\n",
              "    .dataframe tbody tr th {\n",
              "        vertical-align: top;\n",
              "    }\n",
              "\n",
              "    .dataframe thead th {\n",
              "        text-align: right;\n",
              "    }\n",
              "</style>\n",
              "<table border=\"1\" class=\"dataframe\">\n",
              "  <thead>\n",
              "    <tr style=\"text-align: right;\">\n",
              "      <th></th>\n",
              "      <th>STATION</th>\n",
              "      <th>Country/Region</th>\n",
              "      <th>Month</th>\n",
              "      <th>Day</th>\n",
              "      <th>PRCP</th>\n",
              "      <th>TMAX</th>\n",
              "      <th>TMIN</th>\n",
              "    </tr>\n",
              "  </thead>\n",
              "  <tbody>\n",
              "    <tr>\n",
              "      <th>0</th>\n",
              "      <td>3078</td>\n",
              "      <td>35</td>\n",
              "      <td>1</td>\n",
              "      <td>22</td>\n",
              "      <td>10.9</td>\n",
              "      <td>30.2</td>\n",
              "      <td>24.9</td>\n",
              "    </tr>\n",
              "    <tr>\n",
              "      <th>2</th>\n",
              "      <td>3078</td>\n",
              "      <td>35</td>\n",
              "      <td>1</td>\n",
              "      <td>24</td>\n",
              "      <td>9.4</td>\n",
              "      <td>30.6</td>\n",
              "      <td>25.6</td>\n",
              "    </tr>\n",
              "    <tr>\n",
              "      <th>3</th>\n",
              "      <td>3078</td>\n",
              "      <td>35</td>\n",
              "      <td>1</td>\n",
              "      <td>25</td>\n",
              "      <td>0.3</td>\n",
              "      <td>30.2</td>\n",
              "      <td>16.3</td>\n",
              "    </tr>\n",
              "    <tr>\n",
              "      <th>7</th>\n",
              "      <td>3078</td>\n",
              "      <td>35</td>\n",
              "      <td>1</td>\n",
              "      <td>29</td>\n",
              "      <td>5.1</td>\n",
              "      <td>32.5</td>\n",
              "      <td>26.0</td>\n",
              "    </tr>\n",
              "    <tr>\n",
              "      <th>27</th>\n",
              "      <td>3078</td>\n",
              "      <td>35</td>\n",
              "      <td>2</td>\n",
              "      <td>18</td>\n",
              "      <td>0.3</td>\n",
              "      <td>34.0</td>\n",
              "      <td>25.7</td>\n",
              "    </tr>\n",
              "  </tbody>\n",
              "</table>\n",
              "</div>\n",
              "    <div class=\"colab-df-buttons\">\n",
              "\n",
              "  <div class=\"colab-df-container\">\n",
              "    <button class=\"colab-df-convert\" onclick=\"convertToInteractive('df-76c2e698-094c-4afc-9deb-5ecb01b59009')\"\n",
              "            title=\"Convert this dataframe to an interactive table.\"\n",
              "            style=\"display:none;\">\n",
              "\n",
              "  <svg xmlns=\"http://www.w3.org/2000/svg\" height=\"24px\" viewBox=\"0 -960 960 960\">\n",
              "    <path d=\"M120-120v-720h720v720H120Zm60-500h600v-160H180v160Zm220 220h160v-160H400v160Zm0 220h160v-160H400v160ZM180-400h160v-160H180v160Zm440 0h160v-160H620v160ZM180-180h160v-160H180v160Zm440 0h160v-160H620v160Z\"/>\n",
              "  </svg>\n",
              "    </button>\n",
              "\n",
              "  <style>\n",
              "    .colab-df-container {\n",
              "      display:flex;\n",
              "      gap: 12px;\n",
              "    }\n",
              "\n",
              "    .colab-df-convert {\n",
              "      background-color: #E8F0FE;\n",
              "      border: none;\n",
              "      border-radius: 50%;\n",
              "      cursor: pointer;\n",
              "      display: none;\n",
              "      fill: #1967D2;\n",
              "      height: 32px;\n",
              "      padding: 0 0 0 0;\n",
              "      width: 32px;\n",
              "    }\n",
              "\n",
              "    .colab-df-convert:hover {\n",
              "      background-color: #E2EBFA;\n",
              "      box-shadow: 0px 1px 2px rgba(60, 64, 67, 0.3), 0px 1px 3px 1px rgba(60, 64, 67, 0.15);\n",
              "      fill: #174EA6;\n",
              "    }\n",
              "\n",
              "    .colab-df-buttons div {\n",
              "      margin-bottom: 4px;\n",
              "    }\n",
              "\n",
              "    [theme=dark] .colab-df-convert {\n",
              "      background-color: #3B4455;\n",
              "      fill: #D2E3FC;\n",
              "    }\n",
              "\n",
              "    [theme=dark] .colab-df-convert:hover {\n",
              "      background-color: #434B5C;\n",
              "      box-shadow: 0px 1px 3px 1px rgba(0, 0, 0, 0.15);\n",
              "      filter: drop-shadow(0px 1px 2px rgba(0, 0, 0, 0.3));\n",
              "      fill: #FFFFFF;\n",
              "    }\n",
              "  </style>\n",
              "\n",
              "    <script>\n",
              "      const buttonEl =\n",
              "        document.querySelector('#df-76c2e698-094c-4afc-9deb-5ecb01b59009 button.colab-df-convert');\n",
              "      buttonEl.style.display =\n",
              "        google.colab.kernel.accessAllowed ? 'block' : 'none';\n",
              "\n",
              "      async function convertToInteractive(key) {\n",
              "        const element = document.querySelector('#df-76c2e698-094c-4afc-9deb-5ecb01b59009');\n",
              "        const dataTable =\n",
              "          await google.colab.kernel.invokeFunction('convertToInteractive',\n",
              "                                                    [key], {});\n",
              "        if (!dataTable) return;\n",
              "\n",
              "        const docLinkHtml = 'Like what you see? Visit the ' +\n",
              "          '<a target=\"_blank\" href=https://colab.research.google.com/notebooks/data_table.ipynb>data table notebook</a>'\n",
              "          + ' to learn more about interactive tables.';\n",
              "        element.innerHTML = '';\n",
              "        dataTable['output_type'] = 'display_data';\n",
              "        await google.colab.output.renderOutput(dataTable, element);\n",
              "        const docLink = document.createElement('div');\n",
              "        docLink.innerHTML = docLinkHtml;\n",
              "        element.appendChild(docLink);\n",
              "      }\n",
              "    </script>\n",
              "  </div>\n",
              "\n",
              "\n",
              "<div id=\"df-4c2eedf6-364f-4d6a-a3f3-7cf0e678bda0\">\n",
              "  <button class=\"colab-df-quickchart\" onclick=\"quickchart('df-4c2eedf6-364f-4d6a-a3f3-7cf0e678bda0')\"\n",
              "            title=\"Suggest charts.\"\n",
              "            style=\"display:none;\">\n",
              "\n",
              "<svg xmlns=\"http://www.w3.org/2000/svg\" height=\"24px\"viewBox=\"0 0 24 24\"\n",
              "     width=\"24px\">\n",
              "    <g>\n",
              "        <path d=\"M19 3H5c-1.1 0-2 .9-2 2v14c0 1.1.9 2 2 2h14c1.1 0 2-.9 2-2V5c0-1.1-.9-2-2-2zM9 17H7v-7h2v7zm4 0h-2V7h2v10zm4 0h-2v-4h2v4z\"/>\n",
              "    </g>\n",
              "</svg>\n",
              "  </button>\n",
              "\n",
              "<style>\n",
              "  .colab-df-quickchart {\n",
              "      --bg-color: #E8F0FE;\n",
              "      --fill-color: #1967D2;\n",
              "      --hover-bg-color: #E2EBFA;\n",
              "      --hover-fill-color: #174EA6;\n",
              "      --disabled-fill-color: #AAA;\n",
              "      --disabled-bg-color: #DDD;\n",
              "  }\n",
              "\n",
              "  [theme=dark] .colab-df-quickchart {\n",
              "      --bg-color: #3B4455;\n",
              "      --fill-color: #D2E3FC;\n",
              "      --hover-bg-color: #434B5C;\n",
              "      --hover-fill-color: #FFFFFF;\n",
              "      --disabled-bg-color: #3B4455;\n",
              "      --disabled-fill-color: #666;\n",
              "  }\n",
              "\n",
              "  .colab-df-quickchart {\n",
              "    background-color: var(--bg-color);\n",
              "    border: none;\n",
              "    border-radius: 50%;\n",
              "    cursor: pointer;\n",
              "    display: none;\n",
              "    fill: var(--fill-color);\n",
              "    height: 32px;\n",
              "    padding: 0;\n",
              "    width: 32px;\n",
              "  }\n",
              "\n",
              "  .colab-df-quickchart:hover {\n",
              "    background-color: var(--hover-bg-color);\n",
              "    box-shadow: 0 1px 2px rgba(60, 64, 67, 0.3), 0 1px 3px 1px rgba(60, 64, 67, 0.15);\n",
              "    fill: var(--button-hover-fill-color);\n",
              "  }\n",
              "\n",
              "  .colab-df-quickchart-complete:disabled,\n",
              "  .colab-df-quickchart-complete:disabled:hover {\n",
              "    background-color: var(--disabled-bg-color);\n",
              "    fill: var(--disabled-fill-color);\n",
              "    box-shadow: none;\n",
              "  }\n",
              "\n",
              "  .colab-df-spinner {\n",
              "    border: 2px solid var(--fill-color);\n",
              "    border-color: transparent;\n",
              "    border-bottom-color: var(--fill-color);\n",
              "    animation:\n",
              "      spin 1s steps(1) infinite;\n",
              "  }\n",
              "\n",
              "  @keyframes spin {\n",
              "    0% {\n",
              "      border-color: transparent;\n",
              "      border-bottom-color: var(--fill-color);\n",
              "      border-left-color: var(--fill-color);\n",
              "    }\n",
              "    20% {\n",
              "      border-color: transparent;\n",
              "      border-left-color: var(--fill-color);\n",
              "      border-top-color: var(--fill-color);\n",
              "    }\n",
              "    30% {\n",
              "      border-color: transparent;\n",
              "      border-left-color: var(--fill-color);\n",
              "      border-top-color: var(--fill-color);\n",
              "      border-right-color: var(--fill-color);\n",
              "    }\n",
              "    40% {\n",
              "      border-color: transparent;\n",
              "      border-right-color: var(--fill-color);\n",
              "      border-top-color: var(--fill-color);\n",
              "    }\n",
              "    60% {\n",
              "      border-color: transparent;\n",
              "      border-right-color: var(--fill-color);\n",
              "    }\n",
              "    80% {\n",
              "      border-color: transparent;\n",
              "      border-right-color: var(--fill-color);\n",
              "      border-bottom-color: var(--fill-color);\n",
              "    }\n",
              "    90% {\n",
              "      border-color: transparent;\n",
              "      border-bottom-color: var(--fill-color);\n",
              "    }\n",
              "  }\n",
              "</style>\n",
              "\n",
              "  <script>\n",
              "    async function quickchart(key) {\n",
              "      const quickchartButtonEl =\n",
              "        document.querySelector('#' + key + ' button');\n",
              "      quickchartButtonEl.disabled = true;  // To prevent multiple clicks.\n",
              "      quickchartButtonEl.classList.add('colab-df-spinner');\n",
              "      try {\n",
              "        const charts = await google.colab.kernel.invokeFunction(\n",
              "            'suggestCharts', [key], {});\n",
              "      } catch (error) {\n",
              "        console.error('Error during call to suggestCharts:', error);\n",
              "      }\n",
              "      quickchartButtonEl.classList.remove('colab-df-spinner');\n",
              "      quickchartButtonEl.classList.add('colab-df-quickchart-complete');\n",
              "    }\n",
              "    (() => {\n",
              "      let quickchartButtonEl =\n",
              "        document.querySelector('#df-4c2eedf6-364f-4d6a-a3f3-7cf0e678bda0 button');\n",
              "      quickchartButtonEl.style.display =\n",
              "        google.colab.kernel.accessAllowed ? 'block' : 'none';\n",
              "    })();\n",
              "  </script>\n",
              "</div>\n",
              "    </div>\n",
              "  </div>\n"
            ]
          },
          "metadata": {},
          "execution_count": 58
        }
      ]
    },
    {
      "cell_type": "code",
      "source": [
        "df_use.isnull().sum()"
      ],
      "metadata": {
        "colab": {
          "base_uri": "https://localhost:8080/"
        },
        "id": "LruSuncyZ1Aq",
        "outputId": "6d340cba-9e5a-4a16-bb06-fa46a39048d1"
      },
      "execution_count": 31,
      "outputs": [
        {
          "output_type": "execute_result",
          "data": {
            "text/plain": [
              "STATION           0\n",
              "Country/Region    0\n",
              "DATE              0\n",
              "Month             0\n",
              "Day               0\n",
              "PRCP              0\n",
              "TAVG              0\n",
              "TMAX              0\n",
              "TMIN              0\n",
              "dtype: int64"
            ]
          },
          "metadata": {},
          "execution_count": 31
        }
      ]
    },
    {
      "cell_type": "markdown",
      "source": [
        "##Regression Models"
      ],
      "metadata": {
        "id": "Sx3LZiuUVpAj"
      }
    },
    {
      "cell_type": "code",
      "source": [
        "from sklearn.model_selection import train_test_split"
      ],
      "metadata": {
        "id": "B414kYVaQjCI"
      },
      "execution_count": 32,
      "outputs": []
    },
    {
      "cell_type": "markdown",
      "source": [
        "Splitting data into train and test set."
      ],
      "metadata": {
        "id": "1cTxCALOVuA5"
      }
    },
    {
      "cell_type": "code",
      "source": [
        "X_train, X_test, y_train, y_test = train_test_split(df_to_train, df_use[\"TAVG\"], random_state=42, test_size=0.20)"
      ],
      "metadata": {
        "id": "SslPkb4FNl8H"
      },
      "execution_count": 33,
      "outputs": []
    },
    {
      "cell_type": "code",
      "source": [
        "from sklearn import preprocessing\n"
      ],
      "metadata": {
        "id": "wdy8jo8DRMu1"
      },
      "execution_count": 34,
      "outputs": []
    },
    {
      "cell_type": "markdown",
      "source": [
        "Normalizing data"
      ],
      "metadata": {
        "id": "lw8RhUf5Vrtl"
      }
    },
    {
      "cell_type": "code",
      "source": [
        "\n",
        "size_scaler = preprocessing.StandardScaler().fit(X_train)\n",
        "X_train_scaled = size_scaler.transform(X_train)\n",
        "X_test_scaled = size_scaler.transform(X_test)\n",
        "X_train_scaled.shape, X_test_scaled.shape"
      ],
      "metadata": {
        "colab": {
          "base_uri": "https://localhost:8080/"
        },
        "id": "ubephPTxNl4K",
        "outputId": "51f3da43-49f6-4f42-8a0d-916e4a85154a"
      },
      "execution_count": 35,
      "outputs": [
        {
          "output_type": "execute_result",
          "data": {
            "text/plain": [
              "((322105, 7), (80527, 7))"
            ]
          },
          "metadata": {},
          "execution_count": 35
        }
      ]
    },
    {
      "cell_type": "code",
      "source": [
        "from sklearn.metrics import mean_squared_error, mean_absolute_error\n",
        "from sklearn.linear_model import LinearRegression\n",
        "from sklearn.linear_model import Lasso\n",
        "from sklearn.linear_model import Ridge"
      ],
      "metadata": {
        "id": "iOY7soG5Nl05"
      },
      "execution_count": 36,
      "outputs": []
    },
    {
      "cell_type": "markdown",
      "source": [
        "#Linear regression"
      ],
      "metadata": {
        "id": "YuRrNa0VZEtv"
      }
    },
    {
      "cell_type": "code",
      "source": [
        "\n",
        "#Linear Regression\n",
        "model1 = LinearRegression()\n",
        "model1.fit(X_train_scaled, y_train)\n",
        "y_pred1 = model1.predict(X_test_scaled)\n",
        "mse1 = mean_squared_error(y_test, y_pred1)\n",
        "print(\"MSE for linear regression\",mse1)\n",
        "mae1 = mean_absolute_error(y_test, y_pred1)\n",
        "print('MAE for linear regression',mae1)"
      ],
      "metadata": {
        "colab": {
          "base_uri": "https://localhost:8080/"
        },
        "id": "BwDRUGzZNlyY",
        "outputId": "05a39493-92da-4663-c0bd-e0de7e4a305f"
      },
      "execution_count": 59,
      "outputs": [
        {
          "output_type": "stream",
          "name": "stdout",
          "text": [
            "MSE for linear regression 1.2719168023921612\n",
            "MAE for linear regression 0.7188013550208516\n"
          ]
        }
      ]
    },
    {
      "cell_type": "code",
      "source": [
        "plt.figure(figsize=(8, 6))\n",
        "plt.scatter(y_test, y_pred1)\n",
        "plt.xlabel(\"Actual Values\")\n",
        "plt.ylabel(\"Predicted Values\")\n",
        "plt.title(\"Actual vs. Predicted Values for Linear Regression\")\n",
        "plt.grid(True)\n",
        "plt.plot([min(y_test), max(y_test)], [min(y_pred1), max(y_pred1)], linestyle='--', color='red', linewidth=2)\n",
        "\n",
        "plt.show()"
      ],
      "metadata": {
        "colab": {
          "base_uri": "https://localhost:8080/",
          "height": 564
        },
        "id": "4yc51X_x-Bg4",
        "outputId": "22ba615a-3072-4180-d221-558b55576ee4"
      },
      "execution_count": 67,
      "outputs": [
        {
          "output_type": "display_data",
          "data": {
            "text/plain": [
              "<Figure size 800x600 with 1 Axes>"
            ],
            "image/png": "[encoded data removed]"
          },
          "metadata": {}
        }
      ]
    },
    {
      "cell_type": "markdown",
      "source": [
        "#Lasso Regression"
      ],
      "metadata": {
        "id": "ltaMrx83ZIhU"
      }
    },
    {
      "cell_type": "code",
      "source": [
        "#Lasso Regression\n",
        "model2 = Lasso(alpha=1.0)\n",
        "model2.fit(X_train_scaled, y_train)\n",
        "y_pred2 = model2.predict(X_test_scaled)\n",
        "mse2 = mean_squared_error(y_test, y_pred2)\n",
        "print(\"MSE for Lasso Regression\",mse2)\n",
        "mae2 = mean_absolute_error(y_test, y_pred2)\n",
        "print(\"MAE for Lasso Regression\",mae2)"
      ],
      "metadata": {
        "id": "qdUh7FhPR_gO",
        "colab": {
          "base_uri": "https://localhost:8080/"
        },
        "outputId": "4ce49595-f7cc-4a1c-e828-a592fabe13f2"
      },
      "execution_count": 61,
      "outputs": [
        {
          "output_type": "stream",
          "name": "stdout",
          "text": [
            "MSE for Lasso Regression 2.3060094838127743\n",
            "MAE for Lasso Regression 1.1487579515342738\n"
          ]
        }
      ]
    },
    {
      "cell_type": "code",
      "source": [
        "model2.get_params()"
      ],
      "metadata": {
        "colab": {
          "base_uri": "https://localhost:8080/"
        },
        "id": "qCq3z0XvWt5y",
        "outputId": "1ba438c4-30d5-46c7-82e1-a5122b49a2fb"
      },
      "execution_count": 40,
      "outputs": [
        {
          "output_type": "execute_result",
          "data": {
            "text/plain": [
              "{'alpha': 1.0,\n",
              " 'copy_X': True,\n",
              " 'fit_intercept': True,\n",
              " 'max_iter': 1000,\n",
              " 'positive': False,\n",
              " 'precompute': False,\n",
              " 'random_state': None,\n",
              " 'selection': 'cyclic',\n",
              " 'tol': 0.0001,\n",
              " 'warm_start': False}"
            ]
          },
          "metadata": {},
          "execution_count": 40
        }
      ]
    },
    {
      "cell_type": "markdown",
      "source": [
        "For Hypertunning we have used grid search hypertuning of all model's hyperparameter."
      ],
      "metadata": {
        "id": "-ZIgm343V4Bg"
      }
    },
    {
      "cell_type": "code",
      "source": [
        "from sklearn.model_selection import GridSearchCV\n",
        "\n",
        "model=Lasso()\n",
        "param_grid = {\n",
        "    'alpha': [0.001, 0.01, 0.1, 1, 10, 100],\n",
        "    'fit_intercept': [True, False],\n",
        "    'max_iter': [100,200,300,500,700,1000],\n",
        "    'positive': [True,False]\n",
        "}\n",
        "\n",
        "grid_search = GridSearchCV(model, param_grid, cv=5,verbose=1, n_jobs=-1)\n",
        "grid_search.fit(X_train_scaled, y_train)\n",
        "best_params_Lasso = grid_search.best_params_\n",
        "print(f\"Best parameters: {best_params_Lasso}\")\n",
        "\n",
        "best_model = grid_search.best_estimator_\n",
        "test_score = best_model.score(X_test_scaled, y_test)\n",
        "print(f\"Test R^2 Score of Best Model: {test_score}\")\n",
        "\n"
      ],
      "metadata": {
        "colab": {
          "base_uri": "https://localhost:8080/"
        },
        "id": "GDlCQEgmWylJ",
        "outputId": "604341e3-3203-41f5-c9a9-d8de29f44ee8"
      },
      "execution_count": 41,
      "outputs": [
        {
          "output_type": "stream",
          "name": "stdout",
          "text": [
            "Fitting 5 folds for each of 144 candidates, totalling 720 fits\n",
            "Best parameters: {'alpha': 0.001, 'fit_intercept': True, 'max_iter': 100, 'positive': False}\n",
            "Test R^2 Score of Best Model: 0.9919490316901486\n"
          ]
        }
      ]
    },
    {
      "cell_type": "markdown",
      "source": [
        "Lasso model after tuning"
      ],
      "metadata": {
        "id": "rLlJGFnEZN6O"
      }
    },
    {
      "cell_type": "code",
      "source": [
        "\n",
        "model2t=Lasso(alpha= 0.001, fit_intercept= True, max_iter= 100, positive= False)\n",
        "model2t.fit(X_train_scaled,y_train)\n",
        "y_predt2=model2t.predict(X_test_scaled)\n",
        "mse2t = mean_squared_error(y_test, y_predt2)\n",
        "print('MSE for Lasso Regression after tuning',mse2t)\n",
        "mae2t = mean_absolute_error(y_test, y_predt2)\n",
        "print('MAE for Lasso Regression after tuning',mae2t)"
      ],
      "metadata": {
        "colab": {
          "base_uri": "https://localhost:8080/"
        },
        "id": "EaE7U52BUHmm",
        "outputId": "f5729097-14da-4839-c539-fdab66052bf3"
      },
      "execution_count": 62,
      "outputs": [
        {
          "output_type": "stream",
          "name": "stdout",
          "text": [
            "MSE for Lasso Regression after tuning 1.2719302197715923\n",
            "MAE for Lasso Regression after tuning 0.7188872097889148\n"
          ]
        }
      ]
    },
    {
      "cell_type": "markdown",
      "source": [
        "Regression graph"
      ],
      "metadata": {
        "id": "g1OSwm2lZS5T"
      }
    },
    {
      "cell_type": "code",
      "source": [
        "plt.figure(figsize=(8, 6))\n",
        "plt.scatter(y_test, y_predt2)\n",
        "plt.xlabel(\"Actual Values\")\n",
        "plt.ylabel(\"Predicted Values\")\n",
        "plt.title(\"Actual vs. Predicted Values for Lasso Regression\")\n",
        "plt.grid(True)\n",
        "\n",
        "# Add a diagonal line for reference (perfect predictions)\n",
        "plt.plot([min(y_test), max(y_test)], [min(y_predt2), max(y_predt2)], linestyle='--', color='red', linewidth=2)\n",
        "\n",
        "# Show the plot\n",
        "plt.show()"
      ],
      "metadata": {
        "id": "ptNCwgKdBIbX",
        "colab": {
          "base_uri": "https://localhost:8080/",
          "height": 564
        },
        "outputId": "7b85f730-b17b-4231-c28f-5bf54bb20daa"
      },
      "execution_count": 68,
      "outputs": [
        {
          "output_type": "display_data",
          "data": {
            "text/plain": [
              "<Figure size 800x600 with 1 Axes>"
            ],
            "image/png": "[encoded data removed]"
          },
          "metadata": {}
        }
      ]
    },
    {
      "cell_type": "markdown",
      "source": [
        "#Ridge Regression"
      ],
      "metadata": {
        "id": "jUicfIqWZWWw"
      }
    },
    {
      "cell_type": "code",
      "source": [
        "#Ridge Regression\n",
        "model3 = Ridge()\n",
        "model3.fit(X_train_scaled, y_train)\n",
        "y_pred3 = model3.predict(X_test_scaled)\n",
        "mse3 = mean_squared_error(y_test, y_pred3)\n",
        "print('MSE for Ridge Regression',mse3)\n",
        "mae3 = mean_absolute_error(y_test, y_pred3)\n",
        "print('MAE for Ridge Regression',mae3)"
      ],
      "metadata": {
        "id": "asOX1WRsR_Tn",
        "colab": {
          "base_uri": "https://localhost:8080/"
        },
        "outputId": "eb2b2143-285b-430d-e6f2-c7d573cc1006"
      },
      "execution_count": 63,
      "outputs": [
        {
          "output_type": "stream",
          "name": "stdout",
          "text": [
            "MSE for Ridge Regression 1.271916318517681\n",
            "MAE for Ridge Regression 0.7188021861444998\n"
          ]
        }
      ]
    },
    {
      "cell_type": "code",
      "source": [
        "model3.get_params()"
      ],
      "metadata": {
        "colab": {
          "base_uri": "https://localhost:8080/"
        },
        "id": "klLFcggjb_RN",
        "outputId": "90756666-9d17-4b21-e801-8aac0b33932e"
      },
      "execution_count": 45,
      "outputs": [
        {
          "output_type": "execute_result",
          "data": {
            "text/plain": [
              "{'alpha': 1.0,\n",
              " 'copy_X': True,\n",
              " 'fit_intercept': True,\n",
              " 'max_iter': None,\n",
              " 'positive': False,\n",
              " 'random_state': None,\n",
              " 'solver': 'auto',\n",
              " 'tol': 0.0001}"
            ]
          },
          "metadata": {},
          "execution_count": 45
        }
      ]
    },
    {
      "cell_type": "code",
      "source": [
        "\n",
        "model=Ridge()\n",
        "param_grid = {\n",
        "    'alpha': [0.001, 0.01, 0.1, 1, 10, 100],\n",
        "    'fit_intercept': [True, False],\n",
        "    'max_iter': [100,300,500,700,1000],\n",
        "    'positive': [True,False],\n",
        "    'tol':[0.0001,0.001,0.01,0.1,1.0]\n",
        "}\n",
        "\n",
        "grid_search = GridSearchCV(model, param_grid, cv=5,verbose=1, n_jobs=-1)\n",
        "grid_search.fit(X_train_scaled, y_train)\n",
        "\n",
        "best_params_Ridge = grid_search.best_params_\n",
        "print(f\"Best parameters: {best_params_Ridge}\")\n",
        "\n",
        "best_model = grid_search.best_estimator_\n",
        "test_score = best_model.score(X_test_scaled, y_test)\n",
        "print(f\"Test R^2 Score of Best Model: {test_score}\")\n",
        "\n"
      ],
      "metadata": {
        "colab": {
          "base_uri": "https://localhost:8080/"
        },
        "id": "ZTlJfbjrbsEV",
        "outputId": "334b6078-726b-481d-9b11-57f40d5456a5"
      },
      "execution_count": 46,
      "outputs": [
        {
          "output_type": "stream",
          "name": "stdout",
          "text": [
            "Fitting 5 folds for each of 600 candidates, totalling 3000 fits\n",
            "Best parameters: {'alpha': 1, 'fit_intercept': True, 'max_iter': 100, 'positive': False, 'tol': 0.0001}\n",
            "Test R^2 Score of Best Model: 0.9919491196812608\n"
          ]
        }
      ]
    },
    {
      "cell_type": "markdown",
      "source": [
        "Ridge regression with hypertuned params"
      ],
      "metadata": {
        "id": "lsWlv5AUZcg7"
      }
    },
    {
      "cell_type": "code",
      "source": [
        "\n",
        "model3t = Ridge(alpha= 1, fit_intercept= True, max_iter= 100, positive= False, tol= 0.0001)\n",
        "model3t.fit(X_train_scaled, y_train)\n",
        "y_pred3t = model3.predict(X_test_scaled)\n",
        "mse3t = mean_squared_error(y_test, y_pred3t)\n",
        "print('MSE for Ridge regression after tuning',mse3t)\n",
        "mae3t = mean_absolute_error(y_test, y_pred3t)\n",
        "print('MAE for Ridge regression after tuning',mae3t)"
      ],
      "metadata": {
        "colab": {
          "base_uri": "https://localhost:8080/"
        },
        "id": "z0hjJIAoUAg0",
        "outputId": "2751fd7a-75d9-4a3b-f12e-8582e9e0353f"
      },
      "execution_count": 69,
      "outputs": [
        {
          "output_type": "stream",
          "name": "stdout",
          "text": [
            "MSE for Ridge regression after tuning 1.271916318517681\n",
            "MAE for Ridge regression after tuning 0.7188021861444998\n"
          ]
        }
      ]
    },
    {
      "cell_type": "code",
      "source": [
        "plt.figure(figsize=(8, 6))\n",
        "plt.scatter(y_test, y_pred3t)\n",
        "plt.xlabel(\"Actual Values\")\n",
        "plt.ylabel(\"Predicted Values\")\n",
        "plt.title(\"Actual vs. Predicted Values for Ridge Regression\")\n",
        "plt.grid(True)\n",
        "\n",
        "# Add a diagonal line for reference (perfect predictions)\n",
        "plt.plot([min(y_test), max(y_test)], [min(y_pred3t), max(y_pred3t)], linestyle='--', color='red', linewidth=2)\n",
        "\n",
        "# Show the plot\n",
        "plt.show()"
      ],
      "metadata": {
        "id": "ScnbsVeuBIZa",
        "colab": {
          "base_uri": "https://localhost:8080/",
          "height": 564
        },
        "outputId": "ae732aae-43ff-40d0-a7f6-b54e56b3cf31"
      },
      "execution_count": 70,
      "outputs": [
        {
          "output_type": "display_data",
          "data": {
            "text/plain": [
              "<Figure size 800x600 with 1 Axes>"
            ],
            "image/png": "[encoded data removed]"
          },
          "metadata": {}
        }
      ]
    },
    {
      "cell_type": "code",
      "source": [],
      "metadata": {
        "id": "XcPGy7O8BItJ"
      },
      "execution_count": 49,
      "outputs": []
    },
    {
      "cell_type": "markdown",
      "source": [
        "#Polynomial regression"
      ],
      "metadata": {
        "id": "nCawozNUZjYF"
      }
    },
    {
      "cell_type": "code",
      "source": [
        "from sklearn.preprocessing import PolynomialFeatures\n",
        "degree = 2\n",
        "poly = PolynomialFeatures(degree=degree)\n",
        "X_train_poly = poly.fit_transform(X_train_scaled)\n",
        "X_test_poly = poly.transform(X_test_scaled)\n",
        "\n",
        "from sklearn.linear_model import LinearRegression\n",
        "\n",
        "model = LinearRegression()\n",
        "model.fit(X_train_poly, y_train)\n",
        "y_pred = model.predict(X_test_poly)\n",
        "msep = mean_squared_error(y_test, y_pred)\n",
        "print('MSE for Polynomial regression ',msep)\n",
        "maep = mean_absolute_error(y_test, y_pred)\n",
        "print('MSE for Polynomial regression',maep)"
      ],
      "metadata": {
        "id": "erODfcxsBIUu",
        "colab": {
          "base_uri": "https://localhost:8080/"
        },
        "outputId": "1de8912b-c01c-4e55-c8db-a7f8f2e9aef7"
      },
      "execution_count": 65,
      "outputs": [
        {
          "output_type": "stream",
          "name": "stdout",
          "text": [
            "MSE for Polynomial regression  1.2038219030485813\n",
            "MSE for Polynomial regression 0.6866841651395469\n"
          ]
        }
      ]
    },
    {
      "cell_type": "code",
      "source": [],
      "metadata": {
        "id": "3t2OLwDgVW6k"
      },
      "execution_count": 50,
      "outputs": []
    },
    {
      "cell_type": "code",
      "source": [
        "from sklearn.preprocessing import PolynomialFeatures\n",
        "from sklearn.pipeline import make_pipeline\n",
        "\n",
        "# Define hyperparameters to tune\n",
        "def PolynomialRegression(degree=2, **kwargs):\n",
        "    return make_pipeline(PolynomialFeatures(degree), LinearRegression(**kwargs))\n",
        "\n",
        "model=PolynomialRegression()\n",
        "param_grid = {\n",
        "    'polynomialfeatures__degree': [1, 2, 3, 4, 5]\n",
        "}\n",
        "\n",
        "# GridSearchCV setup\n",
        "grid_search = GridSearchCV(model, param_grid, cv=5,verbose=1, n_jobs=-1)\n",
        "grid_search.fit(X_train_scaled, y_train)\n",
        "\n",
        "# Best parameters from grid search\n",
        "best_params_poly = grid_search.best_params_\n",
        "print(f\"Best parameters: {best_params_poly}\")\n",
        "\n",
        "# Evaluate the best model\n",
        "best_model = grid_search.best_estimator_\n",
        "test_score = best_model.score(X_test_scaled, y_test)\n",
        "print(f\"Test R^2 Score of Best Model: {test_score}\")"
      ],
      "metadata": {
        "id": "Nm_BBhioBISV",
        "colab": {
          "base_uri": "https://localhost:8080/"
        },
        "outputId": "b7984b82-7fcd-4990-eb8a-d9548578f603"
      },
      "execution_count": 51,
      "outputs": [
        {
          "output_type": "stream",
          "name": "stdout",
          "text": [
            "Fitting 5 folds for each of 5 candidates, totalling 25 fits\n",
            "Best parameters: {'polynomialfeatures__degree': 4}\n",
            "Test R^2 Score of Best Model: 0.9930078513312386\n"
          ]
        }
      ]
    },
    {
      "cell_type": "markdown",
      "source": [
        "Polynomial regression with hypertuned params"
      ],
      "metadata": {
        "id": "6qQSBayFZm4X"
      }
    },
    {
      "cell_type": "code",
      "source": [
        "from sklearn.preprocessing import PolynomialFeatures\n",
        "degree = 4\n",
        "poly = PolynomialFeatures(degree=degree)\n",
        "X_train_poly = poly.fit_transform(X_train_scaled)\n",
        "X_test_poly = poly.transform(X_test_scaled)\n",
        "\n",
        "from sklearn.linear_model import LinearRegression\n",
        "\n",
        "model = LinearRegression()\n",
        "model.fit(X_train_poly, y_train)\n",
        "y_pred = model.predict(X_test_poly)\n",
        "msept = mean_squared_error(y_test, y_pred)\n",
        "print('MSE for Polynomial regression after tuning',msept)\n",
        "maept = mean_absolute_error(y_test, y_pred)\n",
        "print('MSE for Polynomial regression after tuning',maept)"
      ],
      "metadata": {
        "id": "v9OwwzSvBINz",
        "colab": {
          "base_uri": "https://localhost:8080/"
        },
        "outputId": "3e765bb0-0612-41a6-d8df-81a4f3f354b4"
      },
      "execution_count": 66,
      "outputs": [
        {
          "output_type": "stream",
          "name": "stdout",
          "text": [
            "MSE for Polynomial regression after tuning 1.1046528629420727\n",
            "MSE for Polynomial regression after tuning 0.6512597023424505\n"
          ]
        }
      ]
    },
    {
      "cell_type": "code",
      "source": [
        "plt.figure(figsize=(8, 6))\n",
        "plt.scatter(y_test, y_pred)\n",
        "plt.xlabel(\"Actual Values\")\n",
        "plt.ylabel(\"Predicted Values\")\n",
        "plt.title(\"Actual vs. Predicted Values for Polynomial Regression\")\n",
        "plt.grid(True)\n",
        "\n",
        "# Add a diagonal line for reference (perfect predictions)\n",
        "plt.plot([min(y_test), max(y_test)], [min(y_pred), max(y_pred)], linestyle='--', color='red', linewidth=2)\n",
        "\n",
        "# Show the plot\n",
        "plt.show()"
      ],
      "metadata": {
        "id": "AqCH82g4BILf",
        "colab": {
          "base_uri": "https://localhost:8080/",
          "height": 564
        },
        "outputId": "f6347012-f154-4fe8-a7d2-85d59e9be607"
      },
      "execution_count": 71,
      "outputs": [
        {
          "output_type": "display_data",
          "data": {
            "text/plain": [
              "<Figure size 800x600 with 1 Axes>"
            ],
            "image/png": "[encoded data removed]"
          },
          "metadata": {}
        }
      ]
    },
    {
      "cell_type": "markdown",
      "source": [
        "##Results"
      ],
      "metadata": {
        "id": "EhtPYWU4X3xI"
      }
    },
    {
      "cell_type": "code",
      "source": [
        "print('Linear regression:')\n",
        "print('MSE',mse1)\n",
        "print('MAE',mae1)"
      ],
      "metadata": {
        "id": "9BnTecGWBIAs",
        "colab": {
          "base_uri": "https://localhost:8080/"
        },
        "outputId": "28810e15-55ab-4895-832f-b5157c9d658d"
      },
      "execution_count": 72,
      "outputs": [
        {
          "output_type": "stream",
          "name": "stdout",
          "text": [
            "Linear regression:\n",
            "MSE 1.2719168023921612\n",
            "MAE 0.7188013550208516\n"
          ]
        }
      ]
    },
    {
      "cell_type": "code",
      "source": [
        "print('Lasso regression:')\n",
        "print('MSE',mse2)\n",
        "print('MAE',mae2)"
      ],
      "metadata": {
        "id": "fEyuBDZMBH_F",
        "colab": {
          "base_uri": "https://localhost:8080/"
        },
        "outputId": "46d3fc7f-5525-442d-da67-4d0c013ef4e0"
      },
      "execution_count": 73,
      "outputs": [
        {
          "output_type": "stream",
          "name": "stdout",
          "text": [
            "Lasso regression:\n",
            "MSE 2.3060094838127743\n",
            "MAE 1.1487579515342738\n"
          ]
        }
      ]
    },
    {
      "cell_type": "code",
      "source": [
        "print('Lasso regression after tunning:')\n",
        "print('MSE',mse2t)\n",
        "print('MAE',mae2t)\n",
        "print('params',best_params_Lasso)"
      ],
      "metadata": {
        "id": "xMKUde7n0Z77",
        "colab": {
          "base_uri": "https://localhost:8080/"
        },
        "outputId": "305fd70f-2678-432e-f580-070ae005f27c"
      },
      "execution_count": 77,
      "outputs": [
        {
          "output_type": "stream",
          "name": "stdout",
          "text": [
            "Lasso regression after tunning:\n",
            "MSE 1.2719302197715923\n",
            "MAE 0.7188872097889148\n",
            "params {'alpha': 0.001, 'fit_intercept': True, 'max_iter': 100, 'positive': False}\n"
          ]
        }
      ]
    },
    {
      "cell_type": "code",
      "source": [
        "print('Ridge regression:')\n",
        "print('MSE',mse3)\n",
        "print('MAE',mae3)"
      ],
      "metadata": {
        "colab": {
          "base_uri": "https://localhost:8080/"
        },
        "id": "cmM7QQJwYLt8",
        "outputId": "c371320e-fc3f-48dd-9da7-688e878f58ce"
      },
      "execution_count": 83,
      "outputs": [
        {
          "output_type": "stream",
          "name": "stdout",
          "text": [
            "Ridge regression:\n",
            "MSE 1.271916318517681\n",
            "MAE 0.7188021861444998\n"
          ]
        }
      ]
    },
    {
      "cell_type": "code",
      "source": [
        "print('Ridge regression after tunning:')\n",
        "print('MSE',mse3t)\n",
        "print('MAE',mae3t)\n",
        "print('params',best_params_Ridge)"
      ],
      "metadata": {
        "colab": {
          "base_uri": "https://localhost:8080/"
        },
        "id": "UhiHc0GRYd6f",
        "outputId": "3d51f23d-2883-4d80-fe4b-a148bb8f1ad6"
      },
      "execution_count": 78,
      "outputs": [
        {
          "output_type": "stream",
          "name": "stdout",
          "text": [
            "Lasso regression after tunning:\n",
            "MSE 1.271916318517681\n",
            "MAE 0.7188021861444998\n",
            "params {'alpha': 1, 'fit_intercept': True, 'max_iter': 100, 'positive': False, 'tol': 0.0001}\n"
          ]
        }
      ]
    },
    {
      "cell_type": "code",
      "source": [
        "print('Polynomial regression:')\n",
        "print('MSE',msep)\n",
        "print('MAE',maep)"
      ],
      "metadata": {
        "colab": {
          "base_uri": "https://localhost:8080/"
        },
        "id": "XR5kOgXHYZk1",
        "outputId": "9918558a-4dba-43b4-dd46-04546c5584aa"
      },
      "execution_count": 79,
      "outputs": [
        {
          "output_type": "stream",
          "name": "stdout",
          "text": [
            "Polynomial regression:\n",
            "MSE 1.2038219030485813\n",
            "MAE 0.6866841651395469\n"
          ]
        }
      ]
    },
    {
      "cell_type": "code",
      "source": [
        "print('Polynomial regression after tunning:')\n",
        "print('MSE',msept)\n",
        "print('MAE',maept)\n",
        "print('params',best_params_poly)"
      ],
      "metadata": {
        "colab": {
          "base_uri": "https://localhost:8080/"
        },
        "id": "sXaX6mq-Yiuh",
        "outputId": "f2b0cd60-0b52-4240-8101-099960a2d906"
      },
      "execution_count": 82,
      "outputs": [
        {
          "output_type": "stream",
          "name": "stdout",
          "text": [
            "Lasso regression after tunning:\n",
            "MSE 1.1046528629420727\n",
            "MAE 0.6512597023424505\n",
            "params {'polynomialfeatures__degree': 4}\n"
          ]
        }
      ]
    },
    {
      "cell_type": "code",
      "source": [],
      "metadata": {
        "id": "EivP85MAYm1u"
      },
      "execution_count": null,
      "outputs": []
    }
  ]
}